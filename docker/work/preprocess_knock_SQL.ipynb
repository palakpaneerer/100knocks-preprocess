{
 "cells": [
  {
   "cell_type": "markdown",
   "metadata": {},
   "source": [
    "# データサイエンス100本ノック（構造化データ加工編） - SQL"
   ]
  },
  {
   "cell_type": "markdown",
   "metadata": {},
   "source": [
    "## はじめに\n",
    "- データベースはPostgreSQL13です\n",
    "- 初めに以下のセルを実行してください\n",
    "- セルに %%sql と記載することでSQLを発行することができます\n",
    "- jupyterからはdescribeコマンドによるテーブル構造の確認ができないため、テーブル構造を確認する場合はlimitを指定したSELECTなどで代用してください\n",
    "- 使い慣れたSQLクライアントを使っても問題ありません（接続情報は以下の通り）\n",
    "  - IPアドレス：Docker Desktopの場合はlocalhost、Docker toolboxの場合は192.168.99.100\n",
    "  - Port:5432\n",
    "  - database名: dsdojo_db\n",
    "  - ユーザ名：padawan\n",
    "  - パスワード:padawan12345\n",
    "- 大量出力を行うとJupyterが固まることがあるため、出力件数は制限することを推奨します（設問にも出力件数を記載）\n",
    "    - 結果確認のために表示させる量を適切にコントロールし、作業を軽快にすすめる技術もデータ加工には求められます\n",
    "- 大量結果が出力された場合は、ファイルが重くなり以降開けなくなることもあります\n",
    "    - その場合、作業結果は消えますがファイルをGitHubから取り直してください\n",
    "    - vimエディタなどで大量出力範囲を削除することもできます\n",
    "- 名前、住所等はダミーデータであり、実在するものではありません"
   ]
  },
  {
   "cell_type": "code",
   "execution_count": 2,
   "metadata": {},
   "outputs": [],
   "source": [
    "%load_ext sql\n",
    "import os\n",
    "from sqlalchemy import create_engine\n",
    "\n",
    "pgconfig = {\n",
    "    'host': 'db',\n",
    "    'port': os.environ['PG_PORT'],\n",
    "    'database': os.environ['PG_DATABASE'],\n",
    "    'user': os.environ['PG_USER'],\n",
    "    'password': os.environ['PG_PASSWORD'],\n",
    "}\n",
    "dsl = 'postgresql://{user}:{password}@{host}:{port}/{database}'.format(**pgconfig)\n",
    "conn = create_engine(dsl)\n",
    "\n",
    "# MagicコマンドでSQLを書くための設定\n",
    "%sql conn"
   ]
  },
  {
   "cell_type": "markdown",
   "metadata": {},
   "source": [
    "# 使い方\n",
    "- セルの先頭に%%sqlと記載し、２行目以降にSQLを記述することでJupyterからPostgreSQLに対しSQLを実行できます。"
   ]
  },
  {
   "cell_type": "code",
   "execution_count": 2,
   "metadata": {},
   "outputs": [
    {
     "name": "stdout",
     "output_type": "stream",
     "text": [
      "*  postgresql://padawan:***@db:5432/dsdojo_db\n",
      "1 rows affected.\n"
     ]
    },
    {
     "data": {
      "text/html": [
       "<table>\n",
       "    <thead>\n",
       "        <tr>\n",
       "            <th>sample</th>\n",
       "        </tr>\n",
       "    </thead>\n",
       "    <tbody>\n",
       "        <tr>\n",
       "            <td>このように実行できます</td>\n",
       "        </tr>\n",
       "    </tbody>\n",
       "</table>"
      ],
      "text/plain": [
       "[('このように実行できます',)]"
      ]
     },
     "execution_count": 2,
     "metadata": {},
     "output_type": "execute_result"
    }
   ],
   "source": [
    "%%sql\n",
    "SELECT 'このように実行できます' AS sample;"
   ]
  },
  {
   "cell_type": "markdown",
   "metadata": {},
   "source": [
    "# データ加工100本ノック"
   ]
  },
  {
   "cell_type": "markdown",
   "metadata": {},
   "source": [
    "---\n",
    "> S-001: レシート明細データ（receipt）から全項目の先頭10件を表示し、どのようなデータを保有しているか目視で確認せよ。"
   ]
  },
  {
   "cell_type": "code",
   "execution_count": 2,
   "metadata": {},
   "outputs": [
    {
     "name": "stdout",
     "output_type": "stream",
     "text": [
      "*  postgresql://padawan:***@db:5432/dsdojo_db\n",
      "10 rows affected.\n"
     ]
    },
    {
     "data": {
      "text/html": [
       "<table>\n",
       "    <thead>\n",
       "        <tr>\n",
       "            <th>sales_ymd</th>\n",
       "            <th>sales_epoch</th>\n",
       "            <th>store_cd</th>\n",
       "            <th>receipt_no</th>\n",
       "            <th>receipt_sub_no</th>\n",
       "            <th>customer_id</th>\n",
       "            <th>product_cd</th>\n",
       "            <th>quantity</th>\n",
       "            <th>amount</th>\n",
       "        </tr>\n",
       "    </thead>\n",
       "    <tbody>\n",
       "        <tr>\n",
       "            <td>20181103</td>\n",
       "            <td>1541203200</td>\n",
       "            <td>S14006</td>\n",
       "            <td>112</td>\n",
       "            <td>1</td>\n",
       "            <td>CS006214000001</td>\n",
       "            <td>P070305012</td>\n",
       "            <td>1</td>\n",
       "            <td>158</td>\n",
       "        </tr>\n",
       "        <tr>\n",
       "            <td>20181118</td>\n",
       "            <td>1542499200</td>\n",
       "            <td>S13008</td>\n",
       "            <td>1132</td>\n",
       "            <td>2</td>\n",
       "            <td>CS008415000097</td>\n",
       "            <td>P070701017</td>\n",
       "            <td>1</td>\n",
       "            <td>81</td>\n",
       "        </tr>\n",
       "        <tr>\n",
       "            <td>20170712</td>\n",
       "            <td>1499817600</td>\n",
       "            <td>S14028</td>\n",
       "            <td>1102</td>\n",
       "            <td>1</td>\n",
       "            <td>CS028414000014</td>\n",
       "            <td>P060101005</td>\n",
       "            <td>1</td>\n",
       "            <td>170</td>\n",
       "        </tr>\n",
       "        <tr>\n",
       "            <td>20190205</td>\n",
       "            <td>1549324800</td>\n",
       "            <td>S14042</td>\n",
       "            <td>1132</td>\n",
       "            <td>1</td>\n",
       "            <td>ZZ000000000000</td>\n",
       "            <td>P050301001</td>\n",
       "            <td>1</td>\n",
       "            <td>25</td>\n",
       "        </tr>\n",
       "        <tr>\n",
       "            <td>20180821</td>\n",
       "            <td>1534809600</td>\n",
       "            <td>S14025</td>\n",
       "            <td>1102</td>\n",
       "            <td>2</td>\n",
       "            <td>CS025415000050</td>\n",
       "            <td>P060102007</td>\n",
       "            <td>1</td>\n",
       "            <td>90</td>\n",
       "        </tr>\n",
       "        <tr>\n",
       "            <td>20190605</td>\n",
       "            <td>1559692800</td>\n",
       "            <td>S13003</td>\n",
       "            <td>1112</td>\n",
       "            <td>1</td>\n",
       "            <td>CS003515000195</td>\n",
       "            <td>P050102002</td>\n",
       "            <td>1</td>\n",
       "            <td>138</td>\n",
       "        </tr>\n",
       "        <tr>\n",
       "            <td>20181205</td>\n",
       "            <td>1543968000</td>\n",
       "            <td>S14024</td>\n",
       "            <td>1102</td>\n",
       "            <td>2</td>\n",
       "            <td>CS024514000042</td>\n",
       "            <td>P080101005</td>\n",
       "            <td>1</td>\n",
       "            <td>30</td>\n",
       "        </tr>\n",
       "        <tr>\n",
       "            <td>20190922</td>\n",
       "            <td>1569110400</td>\n",
       "            <td>S14040</td>\n",
       "            <td>1102</td>\n",
       "            <td>1</td>\n",
       "            <td>CS040415000178</td>\n",
       "            <td>P070501004</td>\n",
       "            <td>1</td>\n",
       "            <td>128</td>\n",
       "        </tr>\n",
       "        <tr>\n",
       "            <td>20170504</td>\n",
       "            <td>1493856000</td>\n",
       "            <td>S13020</td>\n",
       "            <td>1112</td>\n",
       "            <td>2</td>\n",
       "            <td>ZZ000000000000</td>\n",
       "            <td>P071302010</td>\n",
       "            <td>1</td>\n",
       "            <td>770</td>\n",
       "        </tr>\n",
       "        <tr>\n",
       "            <td>20191010</td>\n",
       "            <td>1570665600</td>\n",
       "            <td>S14027</td>\n",
       "            <td>1102</td>\n",
       "            <td>1</td>\n",
       "            <td>CS027514000015</td>\n",
       "            <td>P071101003</td>\n",
       "            <td>1</td>\n",
       "            <td>680</td>\n",
       "        </tr>\n",
       "    </tbody>\n",
       "</table>"
      ],
      "text/plain": [
       "[(20181103, 1541203200, 'S14006', 112, 1, 'CS006214000001', 'P070305012', 1, 158),\n",
       " (20181118, 1542499200, 'S13008', 1132, 2, 'CS008415000097', 'P070701017', 1, 81),\n",
       " (20170712, 1499817600, 'S14028', 1102, 1, 'CS028414000014', 'P060101005', 1, 170),\n",
       " (20190205, 1549324800, 'S14042', 1132, 1, 'ZZ000000000000', 'P050301001', 1, 25),\n",
       " (20180821, 1534809600, 'S14025', 1102, 2, 'CS025415000050', 'P060102007', 1, 90),\n",
       " (20190605, 1559692800, 'S13003', 1112, 1, 'CS003515000195', 'P050102002', 1, 138),\n",
       " (20181205, 1543968000, 'S14024', 1102, 2, 'CS024514000042', 'P080101005', 1, 30),\n",
       " (20190922, 1569110400, 'S14040', 1102, 1, 'CS040415000178', 'P070501004', 1, 128),\n",
       " (20170504, 1493856000, 'S13020', 1112, 2, 'ZZ000000000000', 'P071302010', 1, 770),\n",
       " (20191010, 1570665600, 'S14027', 1102, 1, 'CS027514000015', 'P071101003', 1, 680)]"
      ]
     },
     "execution_count": 2,
     "metadata": {},
     "output_type": "execute_result"
    }
   ],
   "source": [
    "%%sql\n",
    "\n",
    "SELECT\n",
    "    *\n",
    "FROM\n",
    "    receipt\n",
    "LIMIT\n",
    "    10\n",
    ";"
   ]
  },
  {
   "cell_type": "markdown",
   "metadata": {},
   "source": [
    "---\n",
    "> S-002: レシート明細データ（receipt）から売上年月日（sales_ymd）、顧客ID（customer_id）、商品コード（product_cd）、売上金額（amount）の順に列を指定し、10件表示せよ。"
   ]
  },
  {
   "cell_type": "code",
   "execution_count": 5,
   "metadata": {},
   "outputs": [
    {
     "name": "stdout",
     "output_type": "stream",
     "text": [
      "*  postgresql://padawan:***@db:5432/dsdojo_db\n",
      "10 rows affected.\n"
     ]
    },
    {
     "data": {
      "text/html": [
       "<table>\n",
       "    <thead>\n",
       "        <tr>\n",
       "            <th>sales_ymd</th>\n",
       "            <th>customer_id</th>\n",
       "            <th>product_cd</th>\n",
       "            <th>amount</th>\n",
       "        </tr>\n",
       "    </thead>\n",
       "    <tbody>\n",
       "        <tr>\n",
       "            <td>20181103</td>\n",
       "            <td>CS006214000001</td>\n",
       "            <td>P070305012</td>\n",
       "            <td>158</td>\n",
       "        </tr>\n",
       "        <tr>\n",
       "            <td>20181118</td>\n",
       "            <td>CS008415000097</td>\n",
       "            <td>P070701017</td>\n",
       "            <td>81</td>\n",
       "        </tr>\n",
       "        <tr>\n",
       "            <td>20170712</td>\n",
       "            <td>CS028414000014</td>\n",
       "            <td>P060101005</td>\n",
       "            <td>170</td>\n",
       "        </tr>\n",
       "        <tr>\n",
       "            <td>20190205</td>\n",
       "            <td>ZZ000000000000</td>\n",
       "            <td>P050301001</td>\n",
       "            <td>25</td>\n",
       "        </tr>\n",
       "        <tr>\n",
       "            <td>20180821</td>\n",
       "            <td>CS025415000050</td>\n",
       "            <td>P060102007</td>\n",
       "            <td>90</td>\n",
       "        </tr>\n",
       "        <tr>\n",
       "            <td>20190605</td>\n",
       "            <td>CS003515000195</td>\n",
       "            <td>P050102002</td>\n",
       "            <td>138</td>\n",
       "        </tr>\n",
       "        <tr>\n",
       "            <td>20181205</td>\n",
       "            <td>CS024514000042</td>\n",
       "            <td>P080101005</td>\n",
       "            <td>30</td>\n",
       "        </tr>\n",
       "        <tr>\n",
       "            <td>20190922</td>\n",
       "            <td>CS040415000178</td>\n",
       "            <td>P070501004</td>\n",
       "            <td>128</td>\n",
       "        </tr>\n",
       "        <tr>\n",
       "            <td>20170504</td>\n",
       "            <td>ZZ000000000000</td>\n",
       "            <td>P071302010</td>\n",
       "            <td>770</td>\n",
       "        </tr>\n",
       "        <tr>\n",
       "            <td>20191010</td>\n",
       "            <td>CS027514000015</td>\n",
       "            <td>P071101003</td>\n",
       "            <td>680</td>\n",
       "        </tr>\n",
       "    </tbody>\n",
       "</table>"
      ],
      "text/plain": [
       "[(20181103, 'CS006214000001', 'P070305012', 158),\n",
       " (20181118, 'CS008415000097', 'P070701017', 81),\n",
       " (20170712, 'CS028414000014', 'P060101005', 170),\n",
       " (20190205, 'ZZ000000000000', 'P050301001', 25),\n",
       " (20180821, 'CS025415000050', 'P060102007', 90),\n",
       " (20190605, 'CS003515000195', 'P050102002', 138),\n",
       " (20181205, 'CS024514000042', 'P080101005', 30),\n",
       " (20190922, 'CS040415000178', 'P070501004', 128),\n",
       " (20170504, 'ZZ000000000000', 'P071302010', 770),\n",
       " (20191010, 'CS027514000015', 'P071101003', 680)]"
      ]
     },
     "execution_count": 5,
     "metadata": {},
     "output_type": "execute_result"
    }
   ],
   "source": [
    "%%sql\n",
    "\n",
    "SELECT \n",
    "    sales_ymd, \n",
    "    customer_id, \n",
    "    product_cd, \n",
    "    amount\n",
    "FROM \n",
    "    receipt\n",
    "LIMIT \n",
    "    10\n",
    ";"
   ]
  },
  {
   "cell_type": "markdown",
   "metadata": {},
   "source": [
    "---\n",
    "> S-003: レシート明細データ（receipt）から売上年月日（sales_ymd）、顧客ID（customer_id）、商品コード（product_cd）、売上金額（amount）の順に列を指定し、10件表示せよ。ただし、sales_ymdをsales_dateに項目名を変更しながら抽出すること。"
   ]
  },
  {
   "cell_type": "code",
   "execution_count": 10,
   "metadata": {},
   "outputs": [
    {
     "name": "stdout",
     "output_type": "stream",
     "text": [
      "*  postgresql://padawan:***@db:5432/dsdojo_db\n",
      "5 rows affected.\n"
     ]
    },
    {
     "data": {
      "text/html": [
       "<table>\n",
       "    <thead>\n",
       "        <tr>\n",
       "            <th>sales_date</th>\n",
       "            <th>customer_id</th>\n",
       "            <th>product_cd</th>\n",
       "            <th>amount</th>\n",
       "        </tr>\n",
       "    </thead>\n",
       "    <tbody>\n",
       "        <tr>\n",
       "            <td>20181103</td>\n",
       "            <td>CS006214000001</td>\n",
       "            <td>P070305012</td>\n",
       "            <td>158</td>\n",
       "        </tr>\n",
       "        <tr>\n",
       "            <td>20181118</td>\n",
       "            <td>CS008415000097</td>\n",
       "            <td>P070701017</td>\n",
       "            <td>81</td>\n",
       "        </tr>\n",
       "        <tr>\n",
       "            <td>20170712</td>\n",
       "            <td>CS028414000014</td>\n",
       "            <td>P060101005</td>\n",
       "            <td>170</td>\n",
       "        </tr>\n",
       "        <tr>\n",
       "            <td>20190205</td>\n",
       "            <td>ZZ000000000000</td>\n",
       "            <td>P050301001</td>\n",
       "            <td>25</td>\n",
       "        </tr>\n",
       "        <tr>\n",
       "            <td>20180821</td>\n",
       "            <td>CS025415000050</td>\n",
       "            <td>P060102007</td>\n",
       "            <td>90</td>\n",
       "        </tr>\n",
       "    </tbody>\n",
       "</table>"
      ],
      "text/plain": [
       "[(20181103, 'CS006214000001', 'P070305012', 158),\n",
       " (20181118, 'CS008415000097', 'P070701017', 81),\n",
       " (20170712, 'CS028414000014', 'P060101005', 170),\n",
       " (20190205, 'ZZ000000000000', 'P050301001', 25),\n",
       " (20180821, 'CS025415000050', 'P060102007', 90)]"
      ]
     },
     "execution_count": 10,
     "metadata": {},
     "output_type": "execute_result"
    }
   ],
   "source": [
    "%%sql\n",
    "\n",
    "SELECT\n",
    "    sales_ymd AS sales_date,\n",
    "    customer_id,\n",
    "    product_cd,\n",
    "    amount\n",
    "FROM\n",
    "    receipt\n",
    "LIMIT\n",
    "    5\n",
    ";\n",
    "   "
   ]
  },
  {
   "cell_type": "markdown",
   "metadata": {},
   "source": [
    "---\n",
    "> S-004: レシート明細データ（receipt）から売上日（sales_ymd）、顧客ID（customer_id）、商品コード（product_cd）、売上金額（amount）の順に列を指定し、以下の条件を満たすデータを抽出せよ。\n",
    "> - 顧客ID（customer_id）が\"CS018205000001\""
   ]
  },
  {
   "cell_type": "code",
   "execution_count": 9,
   "metadata": {},
   "outputs": [
    {
     "name": "stdout",
     "output_type": "stream",
     "text": [
      "*  postgresql://padawan:***@db:5432/dsdojo_db\n",
      "5 rows affected.\n"
     ]
    },
    {
     "data": {
      "text/html": [
       "<table>\n",
       "    <thead>\n",
       "        <tr>\n",
       "            <th>sales_ymd</th>\n",
       "            <th>customer_id</th>\n",
       "            <th>product_cd</th>\n",
       "            <th>amount</th>\n",
       "        </tr>\n",
       "    </thead>\n",
       "    <tbody>\n",
       "        <tr>\n",
       "            <td>20180911</td>\n",
       "            <td>CS018205000001</td>\n",
       "            <td>P071401012</td>\n",
       "            <td>2200</td>\n",
       "        </tr>\n",
       "        <tr>\n",
       "            <td>20180414</td>\n",
       "            <td>CS018205000001</td>\n",
       "            <td>P060104007</td>\n",
       "            <td>600</td>\n",
       "        </tr>\n",
       "        <tr>\n",
       "            <td>20170614</td>\n",
       "            <td>CS018205000001</td>\n",
       "            <td>P050206001</td>\n",
       "            <td>990</td>\n",
       "        </tr>\n",
       "        <tr>\n",
       "            <td>20170614</td>\n",
       "            <td>CS018205000001</td>\n",
       "            <td>P060702015</td>\n",
       "            <td>108</td>\n",
       "        </tr>\n",
       "        <tr>\n",
       "            <td>20190216</td>\n",
       "            <td>CS018205000001</td>\n",
       "            <td>P071005024</td>\n",
       "            <td>102</td>\n",
       "        </tr>\n",
       "    </tbody>\n",
       "</table>"
      ],
      "text/plain": [
       "[(20180911, 'CS018205000001', 'P071401012', 2200),\n",
       " (20180414, 'CS018205000001', 'P060104007', 600),\n",
       " (20170614, 'CS018205000001', 'P050206001', 990),\n",
       " (20170614, 'CS018205000001', 'P060702015', 108),\n",
       " (20190216, 'CS018205000001', 'P071005024', 102)]"
      ]
     },
     "execution_count": 9,
     "metadata": {},
     "output_type": "execute_result"
    }
   ],
   "source": [
    "%%sql\n",
    "\n",
    "SELECT\n",
    "    sales_ymd,\n",
    "    customer_id,\n",
    "    product_cd,\n",
    "    amount\n",
    "FROM\n",
    "    receipt\n",
    "WHERE\n",
    "    customer_id = 'CS018205000001'\n",
    "LIMIT\n",
    "    5\n",
    ";"
   ]
  },
  {
   "cell_type": "markdown",
   "metadata": {},
   "source": [
    "---\n",
    "> S-005: レシート明細データ（receipt）から売上日（sales_ymd）、顧客ID（customer_id）、商品コード（product_cd）、売上金額（amount）の順に列を指定し、以下の全ての条件を満たすデータを抽出せよ。\n",
    "> - 顧客ID（customer_id）が\"CS018205000001\"\n",
    "> - 売上金額（amount）が1,000以上"
   ]
  },
  {
   "cell_type": "code",
   "execution_count": 11,
   "metadata": {},
   "outputs": [
    {
     "name": "stdout",
     "output_type": "stream",
     "text": [
      "*  postgresql://padawan:***@db:5432/dsdojo_db\n",
      "3 rows affected.\n"
     ]
    },
    {
     "data": {
      "text/html": [
       "<table>\n",
       "    <thead>\n",
       "        <tr>\n",
       "            <th>sales_ymd</th>\n",
       "            <th>customer_id</th>\n",
       "            <th>product_cd</th>\n",
       "            <th>amount</th>\n",
       "        </tr>\n",
       "    </thead>\n",
       "    <tbody>\n",
       "        <tr>\n",
       "            <td>20180911</td>\n",
       "            <td>CS018205000001</td>\n",
       "            <td>P071401012</td>\n",
       "            <td>2200</td>\n",
       "        </tr>\n",
       "        <tr>\n",
       "            <td>20190226</td>\n",
       "            <td>CS018205000001</td>\n",
       "            <td>P071401020</td>\n",
       "            <td>2200</td>\n",
       "        </tr>\n",
       "        <tr>\n",
       "            <td>20180911</td>\n",
       "            <td>CS018205000001</td>\n",
       "            <td>P071401005</td>\n",
       "            <td>1100</td>\n",
       "        </tr>\n",
       "    </tbody>\n",
       "</table>"
      ],
      "text/plain": [
       "[(20180911, 'CS018205000001', 'P071401012', 2200),\n",
       " (20190226, 'CS018205000001', 'P071401020', 2200),\n",
       " (20180911, 'CS018205000001', 'P071401005', 1100)]"
      ]
     },
     "execution_count": 11,
     "metadata": {},
     "output_type": "execute_result"
    }
   ],
   "source": [
    "%%sql\n",
    "\n",
    "SELECT \n",
    "    sales_ymd,\n",
    "    customer_id,\n",
    "    product_cd,\n",
    "    amount\n",
    "FROM\n",
    "    receipt\n",
    "WHERE\n",
    "    customer_id = 'CS018205000001'\n",
    "    AND amount >= 1000\n",
    "LIMIT\n",
    "    5\n",
    ";\n"
   ]
  },
  {
   "cell_type": "markdown",
   "metadata": {},
   "source": [
    "---\n",
    "> S-006: レシート明細データ（receipt）から売上日（sales_ymd）、顧客ID（customer_id）、商品コード（product_cd）、売上数量（quantity）、売上金額（amount）の順に列を指定し、以下の全ての条件を満たすデータを抽出せよ。\n",
    "> - 顧客ID（customer_id）が\"CS018205000001\"\n",
    "> - 売上金額（amount）が1,000以上または売上数量（quantity）が5以上"
   ]
  },
  {
   "cell_type": "code",
   "execution_count": 13,
   "metadata": {},
   "outputs": [
    {
     "name": "stdout",
     "output_type": "stream",
     "text": [
      "*  postgresql://padawan:***@db:5432/dsdojo_db\n",
      "5 rows affected.\n"
     ]
    },
    {
     "data": {
      "text/html": [
       "<table>\n",
       "    <thead>\n",
       "        <tr>\n",
       "            <th>sales_ymd</th>\n",
       "            <th>customer_id</th>\n",
       "            <th>product_cd</th>\n",
       "            <th>quantity</th>\n",
       "            <th>amount</th>\n",
       "        </tr>\n",
       "    </thead>\n",
       "    <tbody>\n",
       "        <tr>\n",
       "            <td>20180911</td>\n",
       "            <td>CS018205000001</td>\n",
       "            <td>P071401012</td>\n",
       "            <td>1</td>\n",
       "            <td>2200</td>\n",
       "        </tr>\n",
       "        <tr>\n",
       "            <td>20180414</td>\n",
       "            <td>CS018205000001</td>\n",
       "            <td>P060104007</td>\n",
       "            <td>6</td>\n",
       "            <td>600</td>\n",
       "        </tr>\n",
       "        <tr>\n",
       "            <td>20170614</td>\n",
       "            <td>CS018205000001</td>\n",
       "            <td>P050206001</td>\n",
       "            <td>5</td>\n",
       "            <td>990</td>\n",
       "        </tr>\n",
       "        <tr>\n",
       "            <td>20190226</td>\n",
       "            <td>CS018205000001</td>\n",
       "            <td>P071401020</td>\n",
       "            <td>1</td>\n",
       "            <td>2200</td>\n",
       "        </tr>\n",
       "        <tr>\n",
       "            <td>20180911</td>\n",
       "            <td>CS018205000001</td>\n",
       "            <td>P071401005</td>\n",
       "            <td>1</td>\n",
       "            <td>1100</td>\n",
       "        </tr>\n",
       "    </tbody>\n",
       "</table>"
      ],
      "text/plain": [
       "[(20180911, 'CS018205000001', 'P071401012', 1, 2200),\n",
       " (20180414, 'CS018205000001', 'P060104007', 6, 600),\n",
       " (20170614, 'CS018205000001', 'P050206001', 5, 990),\n",
       " (20190226, 'CS018205000001', 'P071401020', 1, 2200),\n",
       " (20180911, 'CS018205000001', 'P071401005', 1, 1100)]"
      ]
     },
     "execution_count": 13,
     "metadata": {},
     "output_type": "execute_result"
    }
   ],
   "source": [
    "%%sql\n",
    "\n",
    "SELECT\n",
    "    sales_ymd,\n",
    "    customer_id,\n",
    "    product_cd,\n",
    "    quantity,\n",
    "    amount\n",
    "FROM\n",
    "    receipt\n",
    "WHERE\n",
    "    customer_id = 'CS018205000001'\n",
    "    AND ( \n",
    "        amount >= 1000 \n",
    "        OR quantity >= 5 \n",
    "        )\n",
    "LIMIT \n",
    "    5\n",
    ";"
   ]
  },
  {
   "cell_type": "markdown",
   "metadata": {},
   "source": [
    "---\n",
    "> S-007: レシート明細データ（receipt）から売上日（sales_ymd）、顧客ID（customer_id）、商品コード（product_cd）、売上金額（amount）の順に列を指定し、以下の全ての条件を満たすデータを抽出せよ。\n",
    "> - 顧客ID（customer_id）が\"CS018205000001\"\n",
    "> - 売上金額（amount）が1,000以上2,000以下"
   ]
  },
  {
   "cell_type": "code",
   "execution_count": 14,
   "metadata": {},
   "outputs": [
    {
     "name": "stdout",
     "output_type": "stream",
     "text": [
      "*  postgresql://padawan:***@db:5432/dsdojo_db\n",
      "1 rows affected.\n"
     ]
    },
    {
     "data": {
      "text/html": [
       "<table>\n",
       "    <thead>\n",
       "        <tr>\n",
       "            <th>sales_ymd</th>\n",
       "            <th>customer_id</th>\n",
       "            <th>product_cd</th>\n",
       "            <th>amount</th>\n",
       "        </tr>\n",
       "    </thead>\n",
       "    <tbody>\n",
       "        <tr>\n",
       "            <td>20180911</td>\n",
       "            <td>CS018205000001</td>\n",
       "            <td>P071401005</td>\n",
       "            <td>1100</td>\n",
       "        </tr>\n",
       "    </tbody>\n",
       "</table>"
      ],
      "text/plain": [
       "[(20180911, 'CS018205000001', 'P071401005', 1100)]"
      ]
     },
     "execution_count": 14,
     "metadata": {},
     "output_type": "execute_result"
    }
   ],
   "source": [
    "%%sql\n",
    "\n",
    "SELECT \n",
    "    sales_ymd,\n",
    "    customer_id,\n",
    "    product_cd,\n",
    "    amount\n",
    "FROM\n",
    "    receipt\n",
    "WHERE\n",
    "    customer_id = 'CS018205000001'\n",
    "    AND amount BETWEEN 1000 AND 2000\n",
    "LIMIT\n",
    "5\n",
    ";"
   ]
  },
  {
   "cell_type": "markdown",
   "metadata": {},
   "source": [
    "---\n",
    "> S-008: レシート明細データ（receipt）から売上日（sales_ymd）、顧客ID（customer_id）、商品コード（product_cd）、売上金額（amount）の順に列を指定し、以下の全ての条件を満たすデータを抽出せよ。\n",
    "> - 顧客ID（customer_id）が\"CS018205000001\"\n",
    "> - 商品コード（product_cd）が\"P071401019\"以外"
   ]
  },
  {
   "cell_type": "code",
   "execution_count": 15,
   "metadata": {},
   "outputs": [
    {
     "name": "stdout",
     "output_type": "stream",
     "text": [
      "*  postgresql://padawan:***@db:5432/dsdojo_db\n",
      "5 rows affected.\n"
     ]
    },
    {
     "data": {
      "text/html": [
       "<table>\n",
       "    <thead>\n",
       "        <tr>\n",
       "            <th>sales_ymd</th>\n",
       "            <th>customer_id</th>\n",
       "            <th>product_cd</th>\n",
       "            <th>amount</th>\n",
       "        </tr>\n",
       "    </thead>\n",
       "    <tbody>\n",
       "        <tr>\n",
       "            <td>20180911</td>\n",
       "            <td>CS018205000001</td>\n",
       "            <td>P071401012</td>\n",
       "            <td>2200</td>\n",
       "        </tr>\n",
       "        <tr>\n",
       "            <td>20180414</td>\n",
       "            <td>CS018205000001</td>\n",
       "            <td>P060104007</td>\n",
       "            <td>600</td>\n",
       "        </tr>\n",
       "        <tr>\n",
       "            <td>20170614</td>\n",
       "            <td>CS018205000001</td>\n",
       "            <td>P050206001</td>\n",
       "            <td>990</td>\n",
       "        </tr>\n",
       "        <tr>\n",
       "            <td>20170614</td>\n",
       "            <td>CS018205000001</td>\n",
       "            <td>P060702015</td>\n",
       "            <td>108</td>\n",
       "        </tr>\n",
       "        <tr>\n",
       "            <td>20190216</td>\n",
       "            <td>CS018205000001</td>\n",
       "            <td>P071005024</td>\n",
       "            <td>102</td>\n",
       "        </tr>\n",
       "    </tbody>\n",
       "</table>"
      ],
      "text/plain": [
       "[(20180911, 'CS018205000001', 'P071401012', 2200),\n",
       " (20180414, 'CS018205000001', 'P060104007', 600),\n",
       " (20170614, 'CS018205000001', 'P050206001', 990),\n",
       " (20170614, 'CS018205000001', 'P060702015', 108),\n",
       " (20190216, 'CS018205000001', 'P071005024', 102)]"
      ]
     },
     "execution_count": 15,
     "metadata": {},
     "output_type": "execute_result"
    }
   ],
   "source": [
    "%%sql\n",
    "\n",
    "SELECT\n",
    "    sales_ymd,\n",
    "    customer_id,\n",
    "    product_cd,\n",
    "    amount\n",
    "FROM\n",
    "    receipt\n",
    "WHERE\n",
    "    customer_id = 'CS018205000001'\n",
    "    AND product_cd != 'P071401019'\n",
    "LIMIT\n",
    "    5\n",
    ";"
   ]
  },
  {
   "cell_type": "markdown",
   "metadata": {},
   "source": [
    "---\n",
    "> S-009: 以下の処理において、出力結果を変えずにORをANDに書き換えよ。\n",
    ">\n",
    "> `SELECT * FROM store WHERE NOT (prefecture_cd = '13' OR floor_area > 900)`"
   ]
  },
  {
   "cell_type": "code",
   "execution_count": 16,
   "metadata": {},
   "outputs": [
    {
     "name": "stdout",
     "output_type": "stream",
     "text": [
      "*  postgresql://padawan:***@db:5432/dsdojo_db\n",
      "3 rows affected.\n"
     ]
    },
    {
     "data": {
      "text/html": [
       "<table>\n",
       "    <thead>\n",
       "        <tr>\n",
       "            <th>store_cd</th>\n",
       "            <th>store_name</th>\n",
       "            <th>prefecture_cd</th>\n",
       "            <th>prefecture</th>\n",
       "            <th>address</th>\n",
       "            <th>address_kana</th>\n",
       "            <th>tel_no</th>\n",
       "            <th>longitude</th>\n",
       "            <th>latitude</th>\n",
       "            <th>floor_area</th>\n",
       "        </tr>\n",
       "    </thead>\n",
       "    <tbody>\n",
       "        <tr>\n",
       "            <td>S14046</td>\n",
       "            <td>北山田店</td>\n",
       "            <td>14</td>\n",
       "            <td>神奈川県</td>\n",
       "            <td>神奈川県横浜市都筑区北山田一丁目</td>\n",
       "            <td>カナガワケンヨコハマシツヅキクキタヤマタイッチョウメ</td>\n",
       "            <td>045-123-4049</td>\n",
       "            <td>139.5916</td>\n",
       "            <td>35.56189</td>\n",
       "            <td>831.0</td>\n",
       "        </tr>\n",
       "        <tr>\n",
       "            <td>S14011</td>\n",
       "            <td>日吉本町店</td>\n",
       "            <td>14</td>\n",
       "            <td>神奈川県</td>\n",
       "            <td>神奈川県横浜市港北区日吉本町四丁目</td>\n",
       "            <td>カナガワケンヨコハマシコウホククヒヨシホンチョウヨンチョウメ</td>\n",
       "            <td>045-123-4033</td>\n",
       "            <td>139.6316</td>\n",
       "            <td>35.54655</td>\n",
       "            <td>890.0</td>\n",
       "        </tr>\n",
       "        <tr>\n",
       "            <td>S12013</td>\n",
       "            <td>習志野店</td>\n",
       "            <td>12</td>\n",
       "            <td>千葉県</td>\n",
       "            <td>千葉県習志野市芝園一丁目</td>\n",
       "            <td>チバケンナラシノシシバゾノイッチョウメ</td>\n",
       "            <td>047-123-4002</td>\n",
       "            <td>140.022</td>\n",
       "            <td>35.66122</td>\n",
       "            <td>808.0</td>\n",
       "        </tr>\n",
       "    </tbody>\n",
       "</table>"
      ],
      "text/plain": [
       "[('S14046', '北山田店', '14', '神奈川県', '神奈川県横浜市都筑区北山田一丁目', 'カナガワケンヨコハマシツヅキクキタヤマタイッチョウメ', '045-123-4049', Decimal('139.5916'), Decimal('35.56189'), Decimal('831.0')),\n",
       " ('S14011', '日吉本町店', '14', '神奈川県', '神奈川県横浜市港北区日吉本町四丁目', 'カナガワケンヨコハマシコウホククヒヨシホンチョウヨンチョウメ', '045-123-4033', Decimal('139.6316'), Decimal('35.54655'), Decimal('890.0')),\n",
       " ('S12013', '習志野店', '12', '千葉県', '千葉県習志野市芝園一丁目', 'チバケンナラシノシシバゾノイッチョウメ', '047-123-4002', Decimal('140.022'), Decimal('35.66122'), Decimal('808.0'))]"
      ]
     },
     "execution_count": 16,
     "metadata": {},
     "output_type": "execute_result"
    }
   ],
   "source": [
    "%%sql\n",
    "\n",
    "SELECT\n",
    "    *\n",
    "FROM\n",
    "    store\n",
    "WHERE\n",
    "    prefecture_cd != '13'\n",
    "    AND floor_area <= 900\n",
    "LIMIT\n",
    "    5\n",
    ";"
   ]
  },
  {
   "cell_type": "markdown",
   "metadata": {},
   "source": [
    "---\n",
    "> S-010: 店舗データ（store）から、店舗コード（store_cd）が\"S14\"で始まるものだけ全項目抽出し、10件表示せよ。"
   ]
  },
  {
   "cell_type": "code",
   "execution_count": 20,
   "metadata": {},
   "outputs": [
    {
     "name": "stdout",
     "output_type": "stream",
     "text": [
      "*  postgresql://padawan:***@db:5432/dsdojo_db\n",
      "10 rows affected.\n"
     ]
    },
    {
     "data": {
      "text/html": [
       "<table>\n",
       "    <thead>\n",
       "        <tr>\n",
       "            <th>store_cd</th>\n",
       "            <th>store_name</th>\n",
       "            <th>prefecture_cd</th>\n",
       "            <th>prefecture</th>\n",
       "            <th>address</th>\n",
       "            <th>address_kana</th>\n",
       "            <th>tel_no</th>\n",
       "            <th>longitude</th>\n",
       "            <th>latitude</th>\n",
       "            <th>floor_area</th>\n",
       "        </tr>\n",
       "    </thead>\n",
       "    <tbody>\n",
       "        <tr>\n",
       "            <td>S14010</td>\n",
       "            <td>菊名店</td>\n",
       "            <td>14</td>\n",
       "            <td>神奈川県</td>\n",
       "            <td>神奈川県横浜市港北区菊名一丁目</td>\n",
       "            <td>カナガワケンヨコハマシコウホククキクナイッチョウメ</td>\n",
       "            <td>045-123-4032</td>\n",
       "            <td>139.6326</td>\n",
       "            <td>35.50049</td>\n",
       "            <td>1732.0</td>\n",
       "        </tr>\n",
       "        <tr>\n",
       "            <td>S14033</td>\n",
       "            <td>阿久和店</td>\n",
       "            <td>14</td>\n",
       "            <td>神奈川県</td>\n",
       "            <td>神奈川県横浜市瀬谷区阿久和西一丁目</td>\n",
       "            <td>カナガワケンヨコハマシセヤクアクワニシイッチョウメ</td>\n",
       "            <td>045-123-4043</td>\n",
       "            <td>139.4961</td>\n",
       "            <td>35.45918</td>\n",
       "            <td>1495.0</td>\n",
       "        </tr>\n",
       "        <tr>\n",
       "            <td>S14036</td>\n",
       "            <td>相模原中央店</td>\n",
       "            <td>14</td>\n",
       "            <td>神奈川県</td>\n",
       "            <td>神奈川県相模原市中央二丁目</td>\n",
       "            <td>カナガワケンサガミハラシチュウオウニチョウメ</td>\n",
       "            <td>042-123-4045</td>\n",
       "            <td>139.3716</td>\n",
       "            <td>35.57327</td>\n",
       "            <td>1679.0</td>\n",
       "        </tr>\n",
       "        <tr>\n",
       "            <td>S14040</td>\n",
       "            <td>長津田店</td>\n",
       "            <td>14</td>\n",
       "            <td>神奈川県</td>\n",
       "            <td>神奈川県横浜市緑区長津田みなみ台五丁目</td>\n",
       "            <td>カナガワケンヨコハマシミドリクナガツタミナミダイゴチョウメ</td>\n",
       "            <td>045-123-4046</td>\n",
       "            <td>139.4994</td>\n",
       "            <td>35.52398</td>\n",
       "            <td>1548.0</td>\n",
       "        </tr>\n",
       "        <tr>\n",
       "            <td>S14050</td>\n",
       "            <td>阿久和西店</td>\n",
       "            <td>14</td>\n",
       "            <td>神奈川県</td>\n",
       "            <td>神奈川県横浜市瀬谷区阿久和西一丁目</td>\n",
       "            <td>カナガワケンヨコハマシセヤクアクワニシイッチョウメ</td>\n",
       "            <td>045-123-4053</td>\n",
       "            <td>139.4961</td>\n",
       "            <td>35.45918</td>\n",
       "            <td>1830.0</td>\n",
       "        </tr>\n",
       "        <tr>\n",
       "            <td>S14028</td>\n",
       "            <td>二ツ橋店</td>\n",
       "            <td>14</td>\n",
       "            <td>神奈川県</td>\n",
       "            <td>神奈川県横浜市瀬谷区二ツ橋町</td>\n",
       "            <td>カナガワケンヨコハマシセヤクフタツバシチョウ</td>\n",
       "            <td>045-123-4042</td>\n",
       "            <td>139.4963</td>\n",
       "            <td>35.46304</td>\n",
       "            <td>1574.0</td>\n",
       "        </tr>\n",
       "        <tr>\n",
       "            <td>S14012</td>\n",
       "            <td>本牧和田店</td>\n",
       "            <td>14</td>\n",
       "            <td>神奈川県</td>\n",
       "            <td>神奈川県横浜市中区本牧和田</td>\n",
       "            <td>カナガワケンヨコハマシナカクホンモクワダ</td>\n",
       "            <td>045-123-4034</td>\n",
       "            <td>139.6582</td>\n",
       "            <td>35.42156</td>\n",
       "            <td>1341.0</td>\n",
       "        </tr>\n",
       "        <tr>\n",
       "            <td>S14046</td>\n",
       "            <td>北山田店</td>\n",
       "            <td>14</td>\n",
       "            <td>神奈川県</td>\n",
       "            <td>神奈川県横浜市都筑区北山田一丁目</td>\n",
       "            <td>カナガワケンヨコハマシツヅキクキタヤマタイッチョウメ</td>\n",
       "            <td>045-123-4049</td>\n",
       "            <td>139.5916</td>\n",
       "            <td>35.56189</td>\n",
       "            <td>831.0</td>\n",
       "        </tr>\n",
       "        <tr>\n",
       "            <td>S14022</td>\n",
       "            <td>逗子店</td>\n",
       "            <td>14</td>\n",
       "            <td>神奈川県</td>\n",
       "            <td>神奈川県逗子市逗子一丁目</td>\n",
       "            <td>カナガワケンズシシズシイッチョウメ</td>\n",
       "            <td>046-123-4036</td>\n",
       "            <td>139.5789</td>\n",
       "            <td>35.29642</td>\n",
       "            <td>1838.0</td>\n",
       "        </tr>\n",
       "        <tr>\n",
       "            <td>S14011</td>\n",
       "            <td>日吉本町店</td>\n",
       "            <td>14</td>\n",
       "            <td>神奈川県</td>\n",
       "            <td>神奈川県横浜市港北区日吉本町四丁目</td>\n",
       "            <td>カナガワケンヨコハマシコウホククヒヨシホンチョウヨンチョウメ</td>\n",
       "            <td>045-123-4033</td>\n",
       "            <td>139.6316</td>\n",
       "            <td>35.54655</td>\n",
       "            <td>890.0</td>\n",
       "        </tr>\n",
       "    </tbody>\n",
       "</table>"
      ],
      "text/plain": [
       "[('S14010', '菊名店', '14', '神奈川県', '神奈川県横浜市港北区菊名一丁目', 'カナガワケンヨコハマシコウホククキクナイッチョウメ', '045-123-4032', Decimal('139.6326'), Decimal('35.50049'), Decimal('1732.0')),\n",
       " ('S14033', '阿久和店', '14', '神奈川県', '神奈川県横浜市瀬谷区阿久和西一丁目', 'カナガワケンヨコハマシセヤクアクワニシイッチョウメ', '045-123-4043', Decimal('139.4961'), Decimal('35.45918'), Decimal('1495.0')),\n",
       " ('S14036', '相模原中央店', '14', '神奈川県', '神奈川県相模原市中央二丁目', 'カナガワケンサガミハラシチュウオウニチョウメ', '042-123-4045', Decimal('139.3716'), Decimal('35.57327'), Decimal('1679.0')),\n",
       " ('S14040', '長津田店', '14', '神奈川県', '神奈川県横浜市緑区長津田みなみ台五丁目', 'カナガワケンヨコハマシミドリクナガツタミナミダイゴチョウメ', '045-123-4046', Decimal('139.4994'), Decimal('35.52398'), Decimal('1548.0')),\n",
       " ('S14050', '阿久和西店', '14', '神奈川県', '神奈川県横浜市瀬谷区阿久和西一丁目', 'カナガワケンヨコハマシセヤクアクワニシイッチョウメ', '045-123-4053', Decimal('139.4961'), Decimal('35.45918'), Decimal('1830.0')),\n",
       " ('S14028', '二ツ橋店', '14', '神奈川県', '神奈川県横浜市瀬谷区二ツ橋町', 'カナガワケンヨコハマシセヤクフタツバシチョウ', '045-123-4042', Decimal('139.4963'), Decimal('35.46304'), Decimal('1574.0')),\n",
       " ('S14012', '本牧和田店', '14', '神奈川県', '神奈川県横浜市中区本牧和田', 'カナガワケンヨコハマシナカクホンモクワダ', '045-123-4034', Decimal('139.6582'), Decimal('35.42156'), Decimal('1341.0')),\n",
       " ('S14046', '北山田店', '14', '神奈川県', '神奈川県横浜市都筑区北山田一丁目', 'カナガワケンヨコハマシツヅキクキタヤマタイッチョウメ', '045-123-4049', Decimal('139.5916'), Decimal('35.56189'), Decimal('831.0')),\n",
       " ('S14022', '逗子店', '14', '神奈川県', '神奈川県逗子市逗子一丁目', 'カナガワケンズシシズシイッチョウメ', '046-123-4036', Decimal('139.5789'), Decimal('35.29642'), Decimal('1838.0')),\n",
       " ('S14011', '日吉本町店', '14', '神奈川県', '神奈川県横浜市港北区日吉本町四丁目', 'カナガワケンヨコハマシコウホククヒヨシホンチョウヨンチョウメ', '045-123-4033', Decimal('139.6316'), Decimal('35.54655'), Decimal('890.0'))]"
      ]
     },
     "execution_count": 20,
     "metadata": {},
     "output_type": "execute_result"
    }
   ],
   "source": [
    "%%sql\n",
    "\n",
    "SELECT\n",
    "    *\n",
    "FROM\n",
    "    store\n",
    "WHERE\n",
    "    store_cd LIKE 'S14%'\n",
    "LIMIT\n",
    "    10\n",
    ";"
   ]
  },
  {
   "cell_type": "markdown",
   "metadata": {},
   "source": [
    "---\n",
    "> S-011: 顧客データ（customer）から顧客ID（customer_id）の末尾が1のものだけ全項目抽出し、10件表示せよ。"
   ]
  },
  {
   "cell_type": "code",
   "execution_count": 21,
   "metadata": {},
   "outputs": [
    {
     "name": "stdout",
     "output_type": "stream",
     "text": [
      "*  postgresql://padawan:***@db:5432/dsdojo_db\n",
      "10 rows affected.\n"
     ]
    },
    {
     "data": {
      "text/html": [
       "<table>\n",
       "    <thead>\n",
       "        <tr>\n",
       "            <th>customer_id</th>\n",
       "            <th>customer_name</th>\n",
       "            <th>gender_cd</th>\n",
       "            <th>gender</th>\n",
       "            <th>birth_day</th>\n",
       "            <th>age</th>\n",
       "            <th>postal_cd</th>\n",
       "            <th>address</th>\n",
       "            <th>application_store_cd</th>\n",
       "            <th>application_date</th>\n",
       "            <th>status_cd</th>\n",
       "        </tr>\n",
       "    </thead>\n",
       "    <tbody>\n",
       "        <tr>\n",
       "            <td>CS037613000071</td>\n",
       "            <td>六角 雅彦</td>\n",
       "            <td>9</td>\n",
       "            <td>不明</td>\n",
       "            <td>1952-04-01</td>\n",
       "            <td>66</td>\n",
       "            <td>136-0076</td>\n",
       "            <td>東京都江東区南砂**********</td>\n",
       "            <td>S13037</td>\n",
       "            <td>20150414</td>\n",
       "            <td>0-00000000-0</td>\n",
       "        </tr>\n",
       "        <tr>\n",
       "            <td>CS028811000001</td>\n",
       "            <td>堀井 かおり</td>\n",
       "            <td>1</td>\n",
       "            <td>女性</td>\n",
       "            <td>1933-03-27</td>\n",
       "            <td>86</td>\n",
       "            <td>245-0016</td>\n",
       "            <td>神奈川県横浜市泉区和泉町**********</td>\n",
       "            <td>S14028</td>\n",
       "            <td>20160115</td>\n",
       "            <td>0-00000000-0</td>\n",
       "        </tr>\n",
       "        <tr>\n",
       "            <td>CS040412000191</td>\n",
       "            <td>川井 郁恵</td>\n",
       "            <td>1</td>\n",
       "            <td>女性</td>\n",
       "            <td>1977-01-05</td>\n",
       "            <td>42</td>\n",
       "            <td>226-0021</td>\n",
       "            <td>神奈川県横浜市緑区北八朔町**********</td>\n",
       "            <td>S14040</td>\n",
       "            <td>20151101</td>\n",
       "            <td>1-20091025-4</td>\n",
       "        </tr>\n",
       "        <tr>\n",
       "            <td>CS028314000011</td>\n",
       "            <td>小菅 あおい</td>\n",
       "            <td>1</td>\n",
       "            <td>女性</td>\n",
       "            <td>1983-11-26</td>\n",
       "            <td>35</td>\n",
       "            <td>246-0038</td>\n",
       "            <td>神奈川県横浜市瀬谷区宮沢**********</td>\n",
       "            <td>S14028</td>\n",
       "            <td>20151123</td>\n",
       "            <td>1-20080426-5</td>\n",
       "        </tr>\n",
       "        <tr>\n",
       "            <td>CS039212000051</td>\n",
       "            <td>藤島 恵梨香</td>\n",
       "            <td>1</td>\n",
       "            <td>女性</td>\n",
       "            <td>1997-02-03</td>\n",
       "            <td>22</td>\n",
       "            <td>166-0001</td>\n",
       "            <td>東京都杉並区阿佐谷北**********</td>\n",
       "            <td>S13039</td>\n",
       "            <td>20171121</td>\n",
       "            <td>1-20100215-4</td>\n",
       "        </tr>\n",
       "        <tr>\n",
       "            <td>CS015412000111</td>\n",
       "            <td>松居 奈月</td>\n",
       "            <td>1</td>\n",
       "            <td>女性</td>\n",
       "            <td>1972-10-04</td>\n",
       "            <td>46</td>\n",
       "            <td>136-0071</td>\n",
       "            <td>東京都江東区亀戸**********</td>\n",
       "            <td>S13015</td>\n",
       "            <td>20150629</td>\n",
       "            <td>0-00000000-0</td>\n",
       "        </tr>\n",
       "        <tr>\n",
       "            <td>CS004702000041</td>\n",
       "            <td>野島 洋</td>\n",
       "            <td>0</td>\n",
       "            <td>男性</td>\n",
       "            <td>1943-08-24</td>\n",
       "            <td>75</td>\n",
       "            <td>176-0022</td>\n",
       "            <td>東京都練馬区向山**********</td>\n",
       "            <td>S13004</td>\n",
       "            <td>20170218</td>\n",
       "            <td>0-00000000-0</td>\n",
       "        </tr>\n",
       "        <tr>\n",
       "            <td>CS041515000001</td>\n",
       "            <td>栗田 千夏</td>\n",
       "            <td>1</td>\n",
       "            <td>女性</td>\n",
       "            <td>1967-01-02</td>\n",
       "            <td>52</td>\n",
       "            <td>206-0001</td>\n",
       "            <td>東京都多摩市和田**********</td>\n",
       "            <td>S13041</td>\n",
       "            <td>20160422</td>\n",
       "            <td>E-20100803-F</td>\n",
       "        </tr>\n",
       "        <tr>\n",
       "            <td>CS029313000221</td>\n",
       "            <td>北条 ひかり</td>\n",
       "            <td>1</td>\n",
       "            <td>女性</td>\n",
       "            <td>1987-06-19</td>\n",
       "            <td>31</td>\n",
       "            <td>279-0011</td>\n",
       "            <td>千葉県浦安市美浜**********</td>\n",
       "            <td>S12029</td>\n",
       "            <td>20180810</td>\n",
       "            <td>0-00000000-0</td>\n",
       "        </tr>\n",
       "        <tr>\n",
       "            <td>CS034312000071</td>\n",
       "            <td>望月 奈央</td>\n",
       "            <td>1</td>\n",
       "            <td>女性</td>\n",
       "            <td>1980-09-20</td>\n",
       "            <td>38</td>\n",
       "            <td>213-0026</td>\n",
       "            <td>神奈川県川崎市高津区久末**********</td>\n",
       "            <td>S14034</td>\n",
       "            <td>20160106</td>\n",
       "            <td>0-00000000-0</td>\n",
       "        </tr>\n",
       "    </tbody>\n",
       "</table>"
      ],
      "text/plain": [
       "[('CS037613000071', '六角 雅彦', '9', '不明', datetime.date(1952, 4, 1), 66, '136-0076', '東京都江東区南砂**********', 'S13037', '20150414', '0-00000000-0'),\n",
       " ('CS028811000001', '堀井 かおり', '1', '女性', datetime.date(1933, 3, 27), 86, '245-0016', '神奈川県横浜市泉区和泉町**********', 'S14028', '20160115', '0-00000000-0'),\n",
       " ('CS040412000191', '川井 郁恵', '1', '女性', datetime.date(1977, 1, 5), 42, '226-0021', '神奈川県横浜市緑区北八朔町**********', 'S14040', '20151101', '1-20091025-4'),\n",
       " ('CS028314000011', '小菅 あおい', '1', '女性', datetime.date(1983, 11, 26), 35, '246-0038', '神奈川県横浜市瀬谷区宮沢**********', 'S14028', '20151123', '1-20080426-5'),\n",
       " ('CS039212000051', '藤島 恵梨香', '1', '女性', datetime.date(1997, 2, 3), 22, '166-0001', '東京都杉並区阿佐谷北**********', 'S13039', '20171121', '1-20100215-4'),\n",
       " ('CS015412000111', '松居 奈月', '1', '女性', datetime.date(1972, 10, 4), 46, '136-0071', '東京都江東区亀戸**********', 'S13015', '20150629', '0-00000000-0'),\n",
       " ('CS004702000041', '野島 洋', '0', '男性', datetime.date(1943, 8, 24), 75, '176-0022', '東京都練馬区向山**********', 'S13004', '20170218', '0-00000000-0'),\n",
       " ('CS041515000001', '栗田 千夏', '1', '女性', datetime.date(1967, 1, 2), 52, '206-0001', '東京都多摩市和田**********', 'S13041', '20160422', 'E-20100803-F'),\n",
       " ('CS029313000221', '北条 ひかり', '1', '女性', datetime.date(1987, 6, 19), 31, '279-0011', '千葉県浦安市美浜**********', 'S12029', '20180810', '0-00000000-0'),\n",
       " ('CS034312000071', '望月 奈央', '1', '女性', datetime.date(1980, 9, 20), 38, '213-0026', '神奈川県川崎市高津区久末**********', 'S14034', '20160106', '0-00000000-0')]"
      ]
     },
     "execution_count": 21,
     "metadata": {},
     "output_type": "execute_result"
    }
   ],
   "source": [
    "%%sql\n",
    "\n",
    "SELECT\n",
    "    *\n",
    "FROM\n",
    "    customer\n",
    "WHERE\n",
    "    customer_id LIKE '%1'\n",
    "LIMIT\n",
    "    10\n",
    ";"
   ]
  },
  {
   "cell_type": "markdown",
   "metadata": {},
   "source": [
    "---\n",
    "> S-012: 店舗データ（store）から、住所 (address) に\"横浜市\"が含まれるものだけ全項目表示せよ。"
   ]
  },
  {
   "cell_type": "code",
   "execution_count": 22,
   "metadata": {},
   "outputs": [
    {
     "name": "stdout",
     "output_type": "stream",
     "text": [
      "*  postgresql://padawan:***@db:5432/dsdojo_db\n",
      "5 rows affected.\n"
     ]
    },
    {
     "data": {
      "text/html": [
       "<table>\n",
       "    <thead>\n",
       "        <tr>\n",
       "            <th>store_cd</th>\n",
       "            <th>store_name</th>\n",
       "            <th>prefecture_cd</th>\n",
       "            <th>prefecture</th>\n",
       "            <th>address</th>\n",
       "            <th>address_kana</th>\n",
       "            <th>tel_no</th>\n",
       "            <th>longitude</th>\n",
       "            <th>latitude</th>\n",
       "            <th>floor_area</th>\n",
       "        </tr>\n",
       "    </thead>\n",
       "    <tbody>\n",
       "        <tr>\n",
       "            <td>S14010</td>\n",
       "            <td>菊名店</td>\n",
       "            <td>14</td>\n",
       "            <td>神奈川県</td>\n",
       "            <td>神奈川県横浜市港北区菊名一丁目</td>\n",
       "            <td>カナガワケンヨコハマシコウホククキクナイッチョウメ</td>\n",
       "            <td>045-123-4032</td>\n",
       "            <td>139.6326</td>\n",
       "            <td>35.50049</td>\n",
       "            <td>1732.0</td>\n",
       "        </tr>\n",
       "        <tr>\n",
       "            <td>S14033</td>\n",
       "            <td>阿久和店</td>\n",
       "            <td>14</td>\n",
       "            <td>神奈川県</td>\n",
       "            <td>神奈川県横浜市瀬谷区阿久和西一丁目</td>\n",
       "            <td>カナガワケンヨコハマシセヤクアクワニシイッチョウメ</td>\n",
       "            <td>045-123-4043</td>\n",
       "            <td>139.4961</td>\n",
       "            <td>35.45918</td>\n",
       "            <td>1495.0</td>\n",
       "        </tr>\n",
       "        <tr>\n",
       "            <td>S14040</td>\n",
       "            <td>長津田店</td>\n",
       "            <td>14</td>\n",
       "            <td>神奈川県</td>\n",
       "            <td>神奈川県横浜市緑区長津田みなみ台五丁目</td>\n",
       "            <td>カナガワケンヨコハマシミドリクナガツタミナミダイゴチョウメ</td>\n",
       "            <td>045-123-4046</td>\n",
       "            <td>139.4994</td>\n",
       "            <td>35.52398</td>\n",
       "            <td>1548.0</td>\n",
       "        </tr>\n",
       "        <tr>\n",
       "            <td>S14050</td>\n",
       "            <td>阿久和西店</td>\n",
       "            <td>14</td>\n",
       "            <td>神奈川県</td>\n",
       "            <td>神奈川県横浜市瀬谷区阿久和西一丁目</td>\n",
       "            <td>カナガワケンヨコハマシセヤクアクワニシイッチョウメ</td>\n",
       "            <td>045-123-4053</td>\n",
       "            <td>139.4961</td>\n",
       "            <td>35.45918</td>\n",
       "            <td>1830.0</td>\n",
       "        </tr>\n",
       "        <tr>\n",
       "            <td>S14028</td>\n",
       "            <td>二ツ橋店</td>\n",
       "            <td>14</td>\n",
       "            <td>神奈川県</td>\n",
       "            <td>神奈川県横浜市瀬谷区二ツ橋町</td>\n",
       "            <td>カナガワケンヨコハマシセヤクフタツバシチョウ</td>\n",
       "            <td>045-123-4042</td>\n",
       "            <td>139.4963</td>\n",
       "            <td>35.46304</td>\n",
       "            <td>1574.0</td>\n",
       "        </tr>\n",
       "    </tbody>\n",
       "</table>"
      ],
      "text/plain": [
       "[('S14010', '菊名店', '14', '神奈川県', '神奈川県横浜市港北区菊名一丁目', 'カナガワケンヨコハマシコウホククキクナイッチョウメ', '045-123-4032', Decimal('139.6326'), Decimal('35.50049'), Decimal('1732.0')),\n",
       " ('S14033', '阿久和店', '14', '神奈川県', '神奈川県横浜市瀬谷区阿久和西一丁目', 'カナガワケンヨコハマシセヤクアクワニシイッチョウメ', '045-123-4043', Decimal('139.4961'), Decimal('35.45918'), Decimal('1495.0')),\n",
       " ('S14040', '長津田店', '14', '神奈川県', '神奈川県横浜市緑区長津田みなみ台五丁目', 'カナガワケンヨコハマシミドリクナガツタミナミダイゴチョウメ', '045-123-4046', Decimal('139.4994'), Decimal('35.52398'), Decimal('1548.0')),\n",
       " ('S14050', '阿久和西店', '14', '神奈川県', '神奈川県横浜市瀬谷区阿久和西一丁目', 'カナガワケンヨコハマシセヤクアクワニシイッチョウメ', '045-123-4053', Decimal('139.4961'), Decimal('35.45918'), Decimal('1830.0')),\n",
       " ('S14028', '二ツ橋店', '14', '神奈川県', '神奈川県横浜市瀬谷区二ツ橋町', 'カナガワケンヨコハマシセヤクフタツバシチョウ', '045-123-4042', Decimal('139.4963'), Decimal('35.46304'), Decimal('1574.0'))]"
      ]
     },
     "execution_count": 22,
     "metadata": {},
     "output_type": "execute_result"
    }
   ],
   "source": [
    "%%sql\n",
    "\n",
    "SELECT\n",
    "    *\n",
    "FROM\n",
    "    store\n",
    "WHERE\n",
    "    address LIKE '%横浜市%'\n",
    "LIMIT\n",
    "    5\n",
    ";"
   ]
  },
  {
   "cell_type": "markdown",
   "metadata": {},
   "source": [
    "---\n",
    "> S-013: 顧客データ（customer）から、ステータスコード（status_cd）の先頭がアルファベットのA〜Fで始まるデータを全項目抽出し、10件表示せよ。"
   ]
  },
  {
   "cell_type": "code",
   "execution_count": 25,
   "metadata": {},
   "outputs": [
    {
     "name": "stdout",
     "output_type": "stream",
     "text": [
      "*  postgresql://padawan:***@db:5432/dsdojo_db\n",
      "10 rows affected.\n"
     ]
    },
    {
     "data": {
      "text/html": [
       "<table>\n",
       "    <thead>\n",
       "        <tr>\n",
       "            <th>customer_id</th>\n",
       "            <th>customer_name</th>\n",
       "            <th>gender_cd</th>\n",
       "            <th>gender</th>\n",
       "            <th>birth_day</th>\n",
       "            <th>age</th>\n",
       "            <th>postal_cd</th>\n",
       "            <th>address</th>\n",
       "            <th>application_store_cd</th>\n",
       "            <th>application_date</th>\n",
       "            <th>status_cd</th>\n",
       "        </tr>\n",
       "    </thead>\n",
       "    <tbody>\n",
       "        <tr>\n",
       "            <td>CS031415000172</td>\n",
       "            <td>宇多田 貴美子</td>\n",
       "            <td>1</td>\n",
       "            <td>女性</td>\n",
       "            <td>1976-10-04</td>\n",
       "            <td>42</td>\n",
       "            <td>151-0053</td>\n",
       "            <td>東京都渋谷区代々木**********</td>\n",
       "            <td>S13031</td>\n",
       "            <td>20150529</td>\n",
       "            <td>D-20100325-C</td>\n",
       "        </tr>\n",
       "        <tr>\n",
       "            <td>CS015414000103</td>\n",
       "            <td>奥野 陽子</td>\n",
       "            <td>1</td>\n",
       "            <td>女性</td>\n",
       "            <td>1977-08-09</td>\n",
       "            <td>41</td>\n",
       "            <td>136-0073</td>\n",
       "            <td>東京都江東区北砂**********</td>\n",
       "            <td>S13015</td>\n",
       "            <td>20150722</td>\n",
       "            <td>B-20100609-B</td>\n",
       "        </tr>\n",
       "        <tr>\n",
       "            <td>CS011215000048</td>\n",
       "            <td>芦田 沙耶</td>\n",
       "            <td>1</td>\n",
       "            <td>女性</td>\n",
       "            <td>1992-02-01</td>\n",
       "            <td>27</td>\n",
       "            <td>223-0062</td>\n",
       "            <td>神奈川県横浜市港北区日吉本町**********</td>\n",
       "            <td>S14011</td>\n",
       "            <td>20150228</td>\n",
       "            <td>C-20100421-9</td>\n",
       "        </tr>\n",
       "        <tr>\n",
       "            <td>CS029415000023</td>\n",
       "            <td>梅田 里穂</td>\n",
       "            <td>1</td>\n",
       "            <td>女性</td>\n",
       "            <td>1976-01-17</td>\n",
       "            <td>43</td>\n",
       "            <td>279-0043</td>\n",
       "            <td>千葉県浦安市富士見**********</td>\n",
       "            <td>S12029</td>\n",
       "            <td>20150610</td>\n",
       "            <td>D-20100918-E</td>\n",
       "        </tr>\n",
       "        <tr>\n",
       "            <td>CS035415000029</td>\n",
       "            <td>寺沢 真希</td>\n",
       "            <td>9</td>\n",
       "            <td>不明</td>\n",
       "            <td>1977-09-27</td>\n",
       "            <td>41</td>\n",
       "            <td>158-0096</td>\n",
       "            <td>東京都世田谷区玉川台**********</td>\n",
       "            <td>S13035</td>\n",
       "            <td>20141220</td>\n",
       "            <td>F-20101029-F</td>\n",
       "        </tr>\n",
       "        <tr>\n",
       "            <td>CS031415000106</td>\n",
       "            <td>宇野 由美子</td>\n",
       "            <td>1</td>\n",
       "            <td>女性</td>\n",
       "            <td>1970-02-26</td>\n",
       "            <td>49</td>\n",
       "            <td>151-0053</td>\n",
       "            <td>東京都渋谷区代々木**********</td>\n",
       "            <td>S13031</td>\n",
       "            <td>20150201</td>\n",
       "            <td>F-20100511-E</td>\n",
       "        </tr>\n",
       "        <tr>\n",
       "            <td>CS029215000025</td>\n",
       "            <td>石倉 美帆</td>\n",
       "            <td>1</td>\n",
       "            <td>女性</td>\n",
       "            <td>1993-09-28</td>\n",
       "            <td>25</td>\n",
       "            <td>279-0022</td>\n",
       "            <td>千葉県浦安市今川**********</td>\n",
       "            <td>S12029</td>\n",
       "            <td>20150708</td>\n",
       "            <td>B-20100820-C</td>\n",
       "        </tr>\n",
       "        <tr>\n",
       "            <td>CS033605000005</td>\n",
       "            <td>猪股 雄太</td>\n",
       "            <td>0</td>\n",
       "            <td>男性</td>\n",
       "            <td>1955-12-05</td>\n",
       "            <td>63</td>\n",
       "            <td>246-0031</td>\n",
       "            <td>神奈川県横浜市瀬谷区瀬谷**********</td>\n",
       "            <td>S14033</td>\n",
       "            <td>20150425</td>\n",
       "            <td>F-20100917-E</td>\n",
       "        </tr>\n",
       "        <tr>\n",
       "            <td>CS033415000229</td>\n",
       "            <td>板垣 菜々美</td>\n",
       "            <td>1</td>\n",
       "            <td>女性</td>\n",
       "            <td>1977-11-07</td>\n",
       "            <td>41</td>\n",
       "            <td>246-0021</td>\n",
       "            <td>神奈川県横浜市瀬谷区二ツ橋町**********</td>\n",
       "            <td>S14033</td>\n",
       "            <td>20150712</td>\n",
       "            <td>F-20100326-E</td>\n",
       "        </tr>\n",
       "        <tr>\n",
       "            <td>CS008415000145</td>\n",
       "            <td>黒谷 麻緒</td>\n",
       "            <td>1</td>\n",
       "            <td>女性</td>\n",
       "            <td>1977-06-27</td>\n",
       "            <td>41</td>\n",
       "            <td>157-0067</td>\n",
       "            <td>東京都世田谷区喜多見**********</td>\n",
       "            <td>S13008</td>\n",
       "            <td>20150829</td>\n",
       "            <td>F-20100622-F</td>\n",
       "        </tr>\n",
       "    </tbody>\n",
       "</table>"
      ],
      "text/plain": [
       "[('CS031415000172', '宇多田 貴美子', '1', '女性', datetime.date(1976, 10, 4), 42, '151-0053', '東京都渋谷区代々木**********', 'S13031', '20150529', 'D-20100325-C'),\n",
       " ('CS015414000103', '奥野 陽子', '1', '女性', datetime.date(1977, 8, 9), 41, '136-0073', '東京都江東区北砂**********', 'S13015', '20150722', 'B-20100609-B'),\n",
       " ('CS011215000048', '芦田 沙耶', '1', '女性', datetime.date(1992, 2, 1), 27, '223-0062', '神奈川県横浜市港北区日吉本町**********', 'S14011', '20150228', 'C-20100421-9'),\n",
       " ('CS029415000023', '梅田 里穂', '1', '女性', datetime.date(1976, 1, 17), 43, '279-0043', '千葉県浦安市富士見**********', 'S12029', '20150610', 'D-20100918-E'),\n",
       " ('CS035415000029', '寺沢 真希', '9', '不明', datetime.date(1977, 9, 27), 41, '158-0096', '東京都世田谷区玉川台**********', 'S13035', '20141220', 'F-20101029-F'),\n",
       " ('CS031415000106', '宇野 由美子', '1', '女性', datetime.date(1970, 2, 26), 49, '151-0053', '東京都渋谷区代々木**********', 'S13031', '20150201', 'F-20100511-E'),\n",
       " ('CS029215000025', '石倉 美帆', '1', '女性', datetime.date(1993, 9, 28), 25, '279-0022', '千葉県浦安市今川**********', 'S12029', '20150708', 'B-20100820-C'),\n",
       " ('CS033605000005', '猪股 雄太', '0', '男性', datetime.date(1955, 12, 5), 63, '246-0031', '神奈川県横浜市瀬谷区瀬谷**********', 'S14033', '20150425', 'F-20100917-E'),\n",
       " ('CS033415000229', '板垣 菜々美', '1', '女性', datetime.date(1977, 11, 7), 41, '246-0021', '神奈川県横浜市瀬谷区二ツ橋町**********', 'S14033', '20150712', 'F-20100326-E'),\n",
       " ('CS008415000145', '黒谷 麻緒', '1', '女性', datetime.date(1977, 6, 27), 41, '157-0067', '東京都世田谷区喜多見**********', 'S13008', '20150829', 'F-20100622-F')]"
      ]
     },
     "execution_count": 25,
     "metadata": {},
     "output_type": "execute_result"
    }
   ],
   "source": [
    "%%sql\n",
    "\n",
    "SELECT\n",
    "    *\n",
    "FROM\n",
    "    customer\n",
    "WHERE\n",
    "    status_cd ~ '^[A-F]'\n",
    "LIMIT\n",
    "    10\n",
    ";"
   ]
  },
  {
   "cell_type": "markdown",
   "metadata": {},
   "source": [
    "---\n",
    "> S-014: 顧客データ（customer）から、ステータスコード（status_cd）の末尾が数字の1〜9で終わるデータを全項目抽出し、10件表示せよ。"
   ]
  },
  {
   "cell_type": "code",
   "execution_count": 26,
   "metadata": {},
   "outputs": [
    {
     "name": "stdout",
     "output_type": "stream",
     "text": [
      "*  postgresql://padawan:***@db:5432/dsdojo_db\n",
      "10 rows affected.\n"
     ]
    },
    {
     "data": {
      "text/html": [
       "<table>\n",
       "    <thead>\n",
       "        <tr>\n",
       "            <th>customer_id</th>\n",
       "            <th>customer_name</th>\n",
       "            <th>gender_cd</th>\n",
       "            <th>gender</th>\n",
       "            <th>birth_day</th>\n",
       "            <th>age</th>\n",
       "            <th>postal_cd</th>\n",
       "            <th>address</th>\n",
       "            <th>application_store_cd</th>\n",
       "            <th>application_date</th>\n",
       "            <th>status_cd</th>\n",
       "        </tr>\n",
       "    </thead>\n",
       "    <tbody>\n",
       "        <tr>\n",
       "            <td>CS001215000145</td>\n",
       "            <td>田崎 美紀</td>\n",
       "            <td>1</td>\n",
       "            <td>女性</td>\n",
       "            <td>1995-03-29</td>\n",
       "            <td>24</td>\n",
       "            <td>144-0055</td>\n",
       "            <td>東京都大田区仲六郷**********</td>\n",
       "            <td>S13001</td>\n",
       "            <td>20170605</td>\n",
       "            <td>6-20090929-2</td>\n",
       "        </tr>\n",
       "        <tr>\n",
       "            <td>CS033513000180</td>\n",
       "            <td>安斎 遥</td>\n",
       "            <td>1</td>\n",
       "            <td>女性</td>\n",
       "            <td>1962-07-11</td>\n",
       "            <td>56</td>\n",
       "            <td>241-0823</td>\n",
       "            <td>神奈川県横浜市旭区善部町**********</td>\n",
       "            <td>S14033</td>\n",
       "            <td>20150728</td>\n",
       "            <td>6-20080506-5</td>\n",
       "        </tr>\n",
       "        <tr>\n",
       "            <td>CS011215000048</td>\n",
       "            <td>芦田 沙耶</td>\n",
       "            <td>1</td>\n",
       "            <td>女性</td>\n",
       "            <td>1992-02-01</td>\n",
       "            <td>27</td>\n",
       "            <td>223-0062</td>\n",
       "            <td>神奈川県横浜市港北区日吉本町**********</td>\n",
       "            <td>S14011</td>\n",
       "            <td>20150228</td>\n",
       "            <td>C-20100421-9</td>\n",
       "        </tr>\n",
       "        <tr>\n",
       "            <td>CS040412000191</td>\n",
       "            <td>川井 郁恵</td>\n",
       "            <td>1</td>\n",
       "            <td>女性</td>\n",
       "            <td>1977-01-05</td>\n",
       "            <td>42</td>\n",
       "            <td>226-0021</td>\n",
       "            <td>神奈川県横浜市緑区北八朔町**********</td>\n",
       "            <td>S14040</td>\n",
       "            <td>20151101</td>\n",
       "            <td>1-20091025-4</td>\n",
       "        </tr>\n",
       "        <tr>\n",
       "            <td>CS009315000023</td>\n",
       "            <td>皆川 文世</td>\n",
       "            <td>1</td>\n",
       "            <td>女性</td>\n",
       "            <td>1980-04-15</td>\n",
       "            <td>38</td>\n",
       "            <td>154-0012</td>\n",
       "            <td>東京都世田谷区駒沢**********</td>\n",
       "            <td>S13009</td>\n",
       "            <td>20150319</td>\n",
       "            <td>5-20080322-1</td>\n",
       "        </tr>\n",
       "        <tr>\n",
       "            <td>CS015315000033</td>\n",
       "            <td>福士 璃奈子</td>\n",
       "            <td>1</td>\n",
       "            <td>女性</td>\n",
       "            <td>1983-03-17</td>\n",
       "            <td>36</td>\n",
       "            <td>135-0043</td>\n",
       "            <td>東京都江東区塩浜**********</td>\n",
       "            <td>S13015</td>\n",
       "            <td>20141024</td>\n",
       "            <td>4-20080219-3</td>\n",
       "        </tr>\n",
       "        <tr>\n",
       "            <td>CS023513000066</td>\n",
       "            <td>神戸 そら</td>\n",
       "            <td>1</td>\n",
       "            <td>女性</td>\n",
       "            <td>1961-12-17</td>\n",
       "            <td>57</td>\n",
       "            <td>210-0005</td>\n",
       "            <td>神奈川県川崎市川崎区東田町**********</td>\n",
       "            <td>S14023</td>\n",
       "            <td>20150915</td>\n",
       "            <td>5-20100524-9</td>\n",
       "        </tr>\n",
       "        <tr>\n",
       "            <td>CS035513000134</td>\n",
       "            <td>市川 美帆</td>\n",
       "            <td>1</td>\n",
       "            <td>女性</td>\n",
       "            <td>1960-03-27</td>\n",
       "            <td>59</td>\n",
       "            <td>156-0053</td>\n",
       "            <td>東京都世田谷区桜**********</td>\n",
       "            <td>S13035</td>\n",
       "            <td>20150227</td>\n",
       "            <td>8-20100711-9</td>\n",
       "        </tr>\n",
       "        <tr>\n",
       "            <td>CS001515000263</td>\n",
       "            <td>高松 夏空</td>\n",
       "            <td>1</td>\n",
       "            <td>女性</td>\n",
       "            <td>1962-11-09</td>\n",
       "            <td>56</td>\n",
       "            <td>144-0051</td>\n",
       "            <td>東京都大田区西蒲田**********</td>\n",
       "            <td>S13001</td>\n",
       "            <td>20160812</td>\n",
       "            <td>1-20100804-1</td>\n",
       "        </tr>\n",
       "        <tr>\n",
       "            <td>CS040314000027</td>\n",
       "            <td>鶴田 きみまろ</td>\n",
       "            <td>9</td>\n",
       "            <td>不明</td>\n",
       "            <td>1986-03-26</td>\n",
       "            <td>33</td>\n",
       "            <td>226-0027</td>\n",
       "            <td>神奈川県横浜市緑区長津田**********</td>\n",
       "            <td>S14040</td>\n",
       "            <td>20150122</td>\n",
       "            <td>2-20080426-4</td>\n",
       "        </tr>\n",
       "    </tbody>\n",
       "</table>"
      ],
      "text/plain": [
       "[('CS001215000145', '田崎 美紀', '1', '女性', datetime.date(1995, 3, 29), 24, '144-0055', '東京都大田区仲六郷**********', 'S13001', '20170605', '6-20090929-2'),\n",
       " ('CS033513000180', '安斎 遥', '1', '女性', datetime.date(1962, 7, 11), 56, '241-0823', '神奈川県横浜市旭区善部町**********', 'S14033', '20150728', '6-20080506-5'),\n",
       " ('CS011215000048', '芦田 沙耶', '1', '女性', datetime.date(1992, 2, 1), 27, '223-0062', '神奈川県横浜市港北区日吉本町**********', 'S14011', '20150228', 'C-20100421-9'),\n",
       " ('CS040412000191', '川井 郁恵', '1', '女性', datetime.date(1977, 1, 5), 42, '226-0021', '神奈川県横浜市緑区北八朔町**********', 'S14040', '20151101', '1-20091025-4'),\n",
       " ('CS009315000023', '皆川 文世', '1', '女性', datetime.date(1980, 4, 15), 38, '154-0012', '東京都世田谷区駒沢**********', 'S13009', '20150319', '5-20080322-1'),\n",
       " ('CS015315000033', '福士 璃奈子', '1', '女性', datetime.date(1983, 3, 17), 36, '135-0043', '東京都江東区塩浜**********', 'S13015', '20141024', '4-20080219-3'),\n",
       " ('CS023513000066', '神戸 そら', '1', '女性', datetime.date(1961, 12, 17), 57, '210-0005', '神奈川県川崎市川崎区東田町**********', 'S14023', '20150915', '5-20100524-9'),\n",
       " ('CS035513000134', '市川 美帆', '1', '女性', datetime.date(1960, 3, 27), 59, '156-0053', '東京都世田谷区桜**********', 'S13035', '20150227', '8-20100711-9'),\n",
       " ('CS001515000263', '高松 夏空', '1', '女性', datetime.date(1962, 11, 9), 56, '144-0051', '東京都大田区西蒲田**********', 'S13001', '20160812', '1-20100804-1'),\n",
       " ('CS040314000027', '鶴田 きみまろ', '9', '不明', datetime.date(1986, 3, 26), 33, '226-0027', '神奈川県横浜市緑区長津田**********', 'S14040', '20150122', '2-20080426-4')]"
      ]
     },
     "execution_count": 26,
     "metadata": {},
     "output_type": "execute_result"
    }
   ],
   "source": [
    "%%sql\n",
    "\n",
    "SELECT\n",
    "    *\n",
    "FROM\n",
    "    customer\n",
    "WHERE\n",
    "    status_cd ~ '[1-9]$'\n",
    "LIMIT\n",
    "    10\n",
    ";"
   ]
  },
  {
   "cell_type": "markdown",
   "metadata": {},
   "source": [
    "---\n",
    "> S-015: 顧客データ（customer）から、ステータスコード（status_cd）の先頭がアルファベットのA〜Fで始まり、末尾が数字の1〜9で終わるデータを全項目抽出し、10件表示せよ。"
   ]
  },
  {
   "cell_type": "code",
   "execution_count": 27,
   "metadata": {},
   "outputs": [
    {
     "name": "stdout",
     "output_type": "stream",
     "text": [
      "*  postgresql://padawan:***@db:5432/dsdojo_db\n",
      "10 rows affected.\n"
     ]
    },
    {
     "data": {
      "text/html": [
       "<table>\n",
       "    <thead>\n",
       "        <tr>\n",
       "            <th>customer_id</th>\n",
       "            <th>customer_name</th>\n",
       "            <th>gender_cd</th>\n",
       "            <th>gender</th>\n",
       "            <th>birth_day</th>\n",
       "            <th>age</th>\n",
       "            <th>postal_cd</th>\n",
       "            <th>address</th>\n",
       "            <th>application_store_cd</th>\n",
       "            <th>application_date</th>\n",
       "            <th>status_cd</th>\n",
       "        </tr>\n",
       "    </thead>\n",
       "    <tbody>\n",
       "        <tr>\n",
       "            <td>CS011215000048</td>\n",
       "            <td>芦田 沙耶</td>\n",
       "            <td>1</td>\n",
       "            <td>女性</td>\n",
       "            <td>1992-02-01</td>\n",
       "            <td>27</td>\n",
       "            <td>223-0062</td>\n",
       "            <td>神奈川県横浜市港北区日吉本町**********</td>\n",
       "            <td>S14011</td>\n",
       "            <td>20150228</td>\n",
       "            <td>C-20100421-9</td>\n",
       "        </tr>\n",
       "        <tr>\n",
       "            <td>CS022513000105</td>\n",
       "            <td>島村 貴美子</td>\n",
       "            <td>1</td>\n",
       "            <td>女性</td>\n",
       "            <td>1962-03-12</td>\n",
       "            <td>57</td>\n",
       "            <td>249-0002</td>\n",
       "            <td>神奈川県逗子市山の根**********</td>\n",
       "            <td>S14022</td>\n",
       "            <td>20150320</td>\n",
       "            <td>A-20091115-7</td>\n",
       "        </tr>\n",
       "        <tr>\n",
       "            <td>CS001515000096</td>\n",
       "            <td>水野 陽子</td>\n",
       "            <td>9</td>\n",
       "            <td>不明</td>\n",
       "            <td>1960-11-29</td>\n",
       "            <td>58</td>\n",
       "            <td>144-0053</td>\n",
       "            <td>東京都大田区蒲田本町**********</td>\n",
       "            <td>S13001</td>\n",
       "            <td>20150614</td>\n",
       "            <td>A-20100724-7</td>\n",
       "        </tr>\n",
       "        <tr>\n",
       "            <td>CS013615000053</td>\n",
       "            <td>西脇 季衣</td>\n",
       "            <td>1</td>\n",
       "            <td>女性</td>\n",
       "            <td>1953-10-18</td>\n",
       "            <td>65</td>\n",
       "            <td>261-0026</td>\n",
       "            <td>千葉県千葉市美浜区幕張西**********</td>\n",
       "            <td>S12013</td>\n",
       "            <td>20150128</td>\n",
       "            <td>B-20100329-6</td>\n",
       "        </tr>\n",
       "        <tr>\n",
       "            <td>CS020412000161</td>\n",
       "            <td>小宮 薫</td>\n",
       "            <td>1</td>\n",
       "            <td>女性</td>\n",
       "            <td>1974-05-21</td>\n",
       "            <td>44</td>\n",
       "            <td>174-0042</td>\n",
       "            <td>東京都板橋区東坂下**********</td>\n",
       "            <td>S13020</td>\n",
       "            <td>20150822</td>\n",
       "            <td>B-20081021-3</td>\n",
       "        </tr>\n",
       "        <tr>\n",
       "            <td>CS001215000097</td>\n",
       "            <td>竹中 あさみ</td>\n",
       "            <td>1</td>\n",
       "            <td>女性</td>\n",
       "            <td>1990-07-25</td>\n",
       "            <td>28</td>\n",
       "            <td>146-0095</td>\n",
       "            <td>東京都大田区多摩川**********</td>\n",
       "            <td>S13001</td>\n",
       "            <td>20170315</td>\n",
       "            <td>A-20100211-2</td>\n",
       "        </tr>\n",
       "        <tr>\n",
       "            <td>CS035212000007</td>\n",
       "            <td>内村 恵梨香</td>\n",
       "            <td>1</td>\n",
       "            <td>女性</td>\n",
       "            <td>1990-12-04</td>\n",
       "            <td>28</td>\n",
       "            <td>152-0023</td>\n",
       "            <td>東京都目黒区八雲**********</td>\n",
       "            <td>S13035</td>\n",
       "            <td>20151013</td>\n",
       "            <td>B-20101018-6</td>\n",
       "        </tr>\n",
       "        <tr>\n",
       "            <td>CS002515000386</td>\n",
       "            <td>野田 コウ</td>\n",
       "            <td>1</td>\n",
       "            <td>女性</td>\n",
       "            <td>1963-05-30</td>\n",
       "            <td>55</td>\n",
       "            <td>185-0013</td>\n",
       "            <td>東京都国分寺市西恋ケ窪**********</td>\n",
       "            <td>S13002</td>\n",
       "            <td>20160410</td>\n",
       "            <td>C-20100127-8</td>\n",
       "        </tr>\n",
       "        <tr>\n",
       "            <td>CS001615000372</td>\n",
       "            <td>稲垣 寿々花</td>\n",
       "            <td>1</td>\n",
       "            <td>女性</td>\n",
       "            <td>1956-10-29</td>\n",
       "            <td>62</td>\n",
       "            <td>144-0035</td>\n",
       "            <td>東京都大田区南蒲田**********</td>\n",
       "            <td>S13001</td>\n",
       "            <td>20170403</td>\n",
       "            <td>A-20100104-1</td>\n",
       "        </tr>\n",
       "        <tr>\n",
       "            <td>CS032512000121</td>\n",
       "            <td>松井 知世</td>\n",
       "            <td>1</td>\n",
       "            <td>女性</td>\n",
       "            <td>1962-09-04</td>\n",
       "            <td>56</td>\n",
       "            <td>210-0011</td>\n",
       "            <td>神奈川県川崎市川崎区富士見**********</td>\n",
       "            <td>S13032</td>\n",
       "            <td>20150727</td>\n",
       "            <td>A-20100103-5</td>\n",
       "        </tr>\n",
       "    </tbody>\n",
       "</table>"
      ],
      "text/plain": [
       "[('CS011215000048', '芦田 沙耶', '1', '女性', datetime.date(1992, 2, 1), 27, '223-0062', '神奈川県横浜市港北区日吉本町**********', 'S14011', '20150228', 'C-20100421-9'),\n",
       " ('CS022513000105', '島村 貴美子', '1', '女性', datetime.date(1962, 3, 12), 57, '249-0002', '神奈川県逗子市山の根**********', 'S14022', '20150320', 'A-20091115-7'),\n",
       " ('CS001515000096', '水野 陽子', '9', '不明', datetime.date(1960, 11, 29), 58, '144-0053', '東京都大田区蒲田本町**********', 'S13001', '20150614', 'A-20100724-7'),\n",
       " ('CS013615000053', '西脇 季衣', '1', '女性', datetime.date(1953, 10, 18), 65, '261-0026', '千葉県千葉市美浜区幕張西**********', 'S12013', '20150128', 'B-20100329-6'),\n",
       " ('CS020412000161', '小宮 薫', '1', '女性', datetime.date(1974, 5, 21), 44, '174-0042', '東京都板橋区東坂下**********', 'S13020', '20150822', 'B-20081021-3'),\n",
       " ('CS001215000097', '竹中 あさみ', '1', '女性', datetime.date(1990, 7, 25), 28, '146-0095', '東京都大田区多摩川**********', 'S13001', '20170315', 'A-20100211-2'),\n",
       " ('CS035212000007', '内村 恵梨香', '1', '女性', datetime.date(1990, 12, 4), 28, '152-0023', '東京都目黒区八雲**********', 'S13035', '20151013', 'B-20101018-6'),\n",
       " ('CS002515000386', '野田 コウ', '1', '女性', datetime.date(1963, 5, 30), 55, '185-0013', '東京都国分寺市西恋ケ窪**********', 'S13002', '20160410', 'C-20100127-8'),\n",
       " ('CS001615000372', '稲垣 寿々花', '1', '女性', datetime.date(1956, 10, 29), 62, '144-0035', '東京都大田区南蒲田**********', 'S13001', '20170403', 'A-20100104-1'),\n",
       " ('CS032512000121', '松井 知世', '1', '女性', datetime.date(1962, 9, 4), 56, '210-0011', '神奈川県川崎市川崎区富士見**********', 'S13032', '20150727', 'A-20100103-5')]"
      ]
     },
     "execution_count": 27,
     "metadata": {},
     "output_type": "execute_result"
    }
   ],
   "source": [
    "%%sql\n",
    "\n",
    "SELECT\n",
    "    *\n",
    "FROM\n",
    "    customer\n",
    "WHERE\n",
    "    status_cd ~ '^[A-F].*[1-9]$'\n",
    "LIMIT\n",
    "    10\n",
    ";"
   ]
  },
  {
   "cell_type": "markdown",
   "metadata": {},
   "source": [
    "---\n",
    "> S-016: 店舗データ（store）から、電話番号（tel_no）が3桁-3桁-4桁のデータを全項目表示せよ。"
   ]
  },
  {
   "cell_type": "code",
   "execution_count": 30,
   "metadata": {},
   "outputs": [
    {
     "name": "stdout",
     "output_type": "stream",
     "text": [
      "*  postgresql://padawan:***@db:5432/dsdojo_db\n",
      "5 rows affected.\n"
     ]
    },
    {
     "data": {
      "text/html": [
       "<table>\n",
       "    <thead>\n",
       "        <tr>\n",
       "            <th>store_cd</th>\n",
       "            <th>store_name</th>\n",
       "            <th>prefecture_cd</th>\n",
       "            <th>prefecture</th>\n",
       "            <th>address</th>\n",
       "            <th>address_kana</th>\n",
       "            <th>tel_no</th>\n",
       "            <th>longitude</th>\n",
       "            <th>latitude</th>\n",
       "            <th>floor_area</th>\n",
       "        </tr>\n",
       "    </thead>\n",
       "    <tbody>\n",
       "        <tr>\n",
       "            <td>S12014</td>\n",
       "            <td>千草台店</td>\n",
       "            <td>12</td>\n",
       "            <td>千葉県</td>\n",
       "            <td>千葉県千葉市稲毛区千草台一丁目</td>\n",
       "            <td>チバケンチバシイナゲクチグサダイイッチョウメ</td>\n",
       "            <td>043-123-4003</td>\n",
       "            <td>140.118</td>\n",
       "            <td>35.63559</td>\n",
       "            <td>1698.0</td>\n",
       "        </tr>\n",
       "        <tr>\n",
       "            <td>S13002</td>\n",
       "            <td>国分寺店</td>\n",
       "            <td>13</td>\n",
       "            <td>東京都</td>\n",
       "            <td>東京都国分寺市本多二丁目</td>\n",
       "            <td>トウキョウトコクブンジシホンダニチョウメ</td>\n",
       "            <td>042-123-4008</td>\n",
       "            <td>139.4802</td>\n",
       "            <td>35.70566</td>\n",
       "            <td>1735.0</td>\n",
       "        </tr>\n",
       "        <tr>\n",
       "            <td>S14010</td>\n",
       "            <td>菊名店</td>\n",
       "            <td>14</td>\n",
       "            <td>神奈川県</td>\n",
       "            <td>神奈川県横浜市港北区菊名一丁目</td>\n",
       "            <td>カナガワケンヨコハマシコウホククキクナイッチョウメ</td>\n",
       "            <td>045-123-4032</td>\n",
       "            <td>139.6326</td>\n",
       "            <td>35.50049</td>\n",
       "            <td>1732.0</td>\n",
       "        </tr>\n",
       "        <tr>\n",
       "            <td>S14033</td>\n",
       "            <td>阿久和店</td>\n",
       "            <td>14</td>\n",
       "            <td>神奈川県</td>\n",
       "            <td>神奈川県横浜市瀬谷区阿久和西一丁目</td>\n",
       "            <td>カナガワケンヨコハマシセヤクアクワニシイッチョウメ</td>\n",
       "            <td>045-123-4043</td>\n",
       "            <td>139.4961</td>\n",
       "            <td>35.45918</td>\n",
       "            <td>1495.0</td>\n",
       "        </tr>\n",
       "        <tr>\n",
       "            <td>S14036</td>\n",
       "            <td>相模原中央店</td>\n",
       "            <td>14</td>\n",
       "            <td>神奈川県</td>\n",
       "            <td>神奈川県相模原市中央二丁目</td>\n",
       "            <td>カナガワケンサガミハラシチュウオウニチョウメ</td>\n",
       "            <td>042-123-4045</td>\n",
       "            <td>139.3716</td>\n",
       "            <td>35.57327</td>\n",
       "            <td>1679.0</td>\n",
       "        </tr>\n",
       "    </tbody>\n",
       "</table>"
      ],
      "text/plain": [
       "[('S12014', '千草台店', '12', '千葉県', '千葉県千葉市稲毛区千草台一丁目', 'チバケンチバシイナゲクチグサダイイッチョウメ', '043-123-4003', Decimal('140.118'), Decimal('35.63559'), Decimal('1698.0')),\n",
       " ('S13002', '国分寺店', '13', '東京都', '東京都国分寺市本多二丁目', 'トウキョウトコクブンジシホンダニチョウメ', '042-123-4008', Decimal('139.4802'), Decimal('35.70566'), Decimal('1735.0')),\n",
       " ('S14010', '菊名店', '14', '神奈川県', '神奈川県横浜市港北区菊名一丁目', 'カナガワケンヨコハマシコウホククキクナイッチョウメ', '045-123-4032', Decimal('139.6326'), Decimal('35.50049'), Decimal('1732.0')),\n",
       " ('S14033', '阿久和店', '14', '神奈川県', '神奈川県横浜市瀬谷区阿久和西一丁目', 'カナガワケンヨコハマシセヤクアクワニシイッチョウメ', '045-123-4043', Decimal('139.4961'), Decimal('35.45918'), Decimal('1495.0')),\n",
       " ('S14036', '相模原中央店', '14', '神奈川県', '神奈川県相模原市中央二丁目', 'カナガワケンサガミハラシチュウオウニチョウメ', '042-123-4045', Decimal('139.3716'), Decimal('35.57327'), Decimal('1679.0'))]"
      ]
     },
     "execution_count": 30,
     "metadata": {},
     "output_type": "execute_result"
    }
   ],
   "source": [
    "%%sql\n",
    "\n",
    "SELECT\n",
    "    *\n",
    "FROM\n",
    "    store\n",
    "WHERE\n",
    "    tel_no ~ '^\\d{3}-\\d{3}-\\d{4}$'\n",
    "LIMIT\n",
    "    5\n",
    ";"
   ]
  },
  {
   "cell_type": "markdown",
   "metadata": {},
   "source": [
    "---\n",
    "> S-017: 顧客データ（customer）を生年月日（birth_day）で高齢順にソートし、先頭から全項目を10件表示せよ。"
   ]
  },
  {
   "cell_type": "code",
   "execution_count": 32,
   "metadata": {},
   "outputs": [
    {
     "name": "stdout",
     "output_type": "stream",
     "text": [
      "*  postgresql://padawan:***@db:5432/dsdojo_db\n",
      "10 rows affected.\n"
     ]
    },
    {
     "data": {
      "text/html": [
       "<table>\n",
       "    <thead>\n",
       "        <tr>\n",
       "            <th>customer_id</th>\n",
       "            <th>customer_name</th>\n",
       "            <th>gender_cd</th>\n",
       "            <th>gender</th>\n",
       "            <th>birth_day</th>\n",
       "            <th>age</th>\n",
       "            <th>postal_cd</th>\n",
       "            <th>address</th>\n",
       "            <th>application_store_cd</th>\n",
       "            <th>application_date</th>\n",
       "            <th>status_cd</th>\n",
       "        </tr>\n",
       "    </thead>\n",
       "    <tbody>\n",
       "        <tr>\n",
       "            <td>CS003813000014</td>\n",
       "            <td>村山 菜々美</td>\n",
       "            <td>1</td>\n",
       "            <td>女性</td>\n",
       "            <td>1928-11-26</td>\n",
       "            <td>90</td>\n",
       "            <td>182-0007</td>\n",
       "            <td>東京都調布市菊野台**********</td>\n",
       "            <td>S13003</td>\n",
       "            <td>20160214</td>\n",
       "            <td>0-00000000-0</td>\n",
       "        </tr>\n",
       "        <tr>\n",
       "            <td>CS026813000004</td>\n",
       "            <td>吉村 朝陽</td>\n",
       "            <td>1</td>\n",
       "            <td>女性</td>\n",
       "            <td>1928-12-14</td>\n",
       "            <td>90</td>\n",
       "            <td>251-0043</td>\n",
       "            <td>神奈川県藤沢市辻堂元町**********</td>\n",
       "            <td>S14026</td>\n",
       "            <td>20150723</td>\n",
       "            <td>0-00000000-0</td>\n",
       "        </tr>\n",
       "        <tr>\n",
       "            <td>CS018811000003</td>\n",
       "            <td>熊沢 美里</td>\n",
       "            <td>1</td>\n",
       "            <td>女性</td>\n",
       "            <td>1929-01-07</td>\n",
       "            <td>90</td>\n",
       "            <td>204-0004</td>\n",
       "            <td>東京都清瀬市野塩**********</td>\n",
       "            <td>S13018</td>\n",
       "            <td>20150403</td>\n",
       "            <td>0-00000000-0</td>\n",
       "        </tr>\n",
       "        <tr>\n",
       "            <td>CS027803000004</td>\n",
       "            <td>内村 拓郎</td>\n",
       "            <td>0</td>\n",
       "            <td>男性</td>\n",
       "            <td>1929-01-12</td>\n",
       "            <td>90</td>\n",
       "            <td>251-0031</td>\n",
       "            <td>神奈川県藤沢市鵠沼藤が谷**********</td>\n",
       "            <td>S14027</td>\n",
       "            <td>20151227</td>\n",
       "            <td>0-00000000-0</td>\n",
       "        </tr>\n",
       "        <tr>\n",
       "            <td>CS013801000003</td>\n",
       "            <td>天野 拓郎</td>\n",
       "            <td>0</td>\n",
       "            <td>男性</td>\n",
       "            <td>1929-01-15</td>\n",
       "            <td>90</td>\n",
       "            <td>274-0824</td>\n",
       "            <td>千葉県船橋市前原東**********</td>\n",
       "            <td>S12013</td>\n",
       "            <td>20160120</td>\n",
       "            <td>0-00000000-0</td>\n",
       "        </tr>\n",
       "        <tr>\n",
       "            <td>CS001814000022</td>\n",
       "            <td>鶴田 里穂</td>\n",
       "            <td>1</td>\n",
       "            <td>女性</td>\n",
       "            <td>1929-01-28</td>\n",
       "            <td>90</td>\n",
       "            <td>144-0045</td>\n",
       "            <td>東京都大田区南六郷**********</td>\n",
       "            <td>S13001</td>\n",
       "            <td>20161012</td>\n",
       "            <td>A-20090415-7</td>\n",
       "        </tr>\n",
       "        <tr>\n",
       "            <td>CS016815000002</td>\n",
       "            <td>山元 美紀</td>\n",
       "            <td>1</td>\n",
       "            <td>女性</td>\n",
       "            <td>1929-02-22</td>\n",
       "            <td>90</td>\n",
       "            <td>184-0005</td>\n",
       "            <td>東京都小金井市桜町**********</td>\n",
       "            <td>S13016</td>\n",
       "            <td>20150629</td>\n",
       "            <td>C-20090923-C</td>\n",
       "        </tr>\n",
       "        <tr>\n",
       "            <td>CS009815000003</td>\n",
       "            <td>中田 里穂</td>\n",
       "            <td>1</td>\n",
       "            <td>女性</td>\n",
       "            <td>1929-04-08</td>\n",
       "            <td>89</td>\n",
       "            <td>154-0014</td>\n",
       "            <td>東京都世田谷区新町**********</td>\n",
       "            <td>S13009</td>\n",
       "            <td>20150421</td>\n",
       "            <td>D-20091021-E</td>\n",
       "        </tr>\n",
       "        <tr>\n",
       "            <td>CS012813000013</td>\n",
       "            <td>宇野 南朋</td>\n",
       "            <td>1</td>\n",
       "            <td>女性</td>\n",
       "            <td>1929-04-09</td>\n",
       "            <td>89</td>\n",
       "            <td>231-0806</td>\n",
       "            <td>神奈川県横浜市中区本牧町**********</td>\n",
       "            <td>S14012</td>\n",
       "            <td>20150712</td>\n",
       "            <td>0-00000000-0</td>\n",
       "        </tr>\n",
       "        <tr>\n",
       "            <td>CS005813000015</td>\n",
       "            <td>金谷 恵梨香</td>\n",
       "            <td>1</td>\n",
       "            <td>女性</td>\n",
       "            <td>1929-04-09</td>\n",
       "            <td>89</td>\n",
       "            <td>165-0032</td>\n",
       "            <td>東京都中野区鷺宮**********</td>\n",
       "            <td>S13005</td>\n",
       "            <td>20150506</td>\n",
       "            <td>0-00000000-0</td>\n",
       "        </tr>\n",
       "    </tbody>\n",
       "</table>"
      ],
      "text/plain": [
       "[('CS003813000014', '村山 菜々美', '1', '女性', datetime.date(1928, 11, 26), 90, '182-0007', '東京都調布市菊野台**********', 'S13003', '20160214', '0-00000000-0'),\n",
       " ('CS026813000004', '吉村 朝陽', '1', '女性', datetime.date(1928, 12, 14), 90, '251-0043', '神奈川県藤沢市辻堂元町**********', 'S14026', '20150723', '0-00000000-0'),\n",
       " ('CS018811000003', '熊沢 美里', '1', '女性', datetime.date(1929, 1, 7), 90, '204-0004', '東京都清瀬市野塩**********', 'S13018', '20150403', '0-00000000-0'),\n",
       " ('CS027803000004', '内村 拓郎', '0', '男性', datetime.date(1929, 1, 12), 90, '251-0031', '神奈川県藤沢市鵠沼藤が谷**********', 'S14027', '20151227', '0-00000000-0'),\n",
       " ('CS013801000003', '天野 拓郎', '0', '男性', datetime.date(1929, 1, 15), 90, '274-0824', '千葉県船橋市前原東**********', 'S12013', '20160120', '0-00000000-0'),\n",
       " ('CS001814000022', '鶴田 里穂', '1', '女性', datetime.date(1929, 1, 28), 90, '144-0045', '東京都大田区南六郷**********', 'S13001', '20161012', 'A-20090415-7'),\n",
       " ('CS016815000002', '山元 美紀', '1', '女性', datetime.date(1929, 2, 22), 90, '184-0005', '東京都小金井市桜町**********', 'S13016', '20150629', 'C-20090923-C'),\n",
       " ('CS009815000003', '中田 里穂', '1', '女性', datetime.date(1929, 4, 8), 89, '154-0014', '東京都世田谷区新町**********', 'S13009', '20150421', 'D-20091021-E'),\n",
       " ('CS012813000013', '宇野 南朋', '1', '女性', datetime.date(1929, 4, 9), 89, '231-0806', '神奈川県横浜市中区本牧町**********', 'S14012', '20150712', '0-00000000-0'),\n",
       " ('CS005813000015', '金谷 恵梨香', '1', '女性', datetime.date(1929, 4, 9), 89, '165-0032', '東京都中野区鷺宮**********', 'S13005', '20150506', '0-00000000-0')]"
      ]
     },
     "execution_count": 32,
     "metadata": {},
     "output_type": "execute_result"
    }
   ],
   "source": [
    "%%sql\n",
    "\n",
    "SELECT\n",
    "    *\n",
    "FROM\n",
    "    customer\n",
    "ORDER BY\n",
    "    birth_day ASC\n",
    "LIMIT\n",
    "    10\n",
    ";"
   ]
  },
  {
   "cell_type": "markdown",
   "metadata": {},
   "source": [
    "---\n",
    "> S-018: 顧客データ（customer）を生年月日（birth_day）で若い順にソートし、先頭から全項目を10件表示せよ。"
   ]
  },
  {
   "cell_type": "code",
   "execution_count": 33,
   "metadata": {},
   "outputs": [
    {
     "name": "stdout",
     "output_type": "stream",
     "text": [
      "*  postgresql://padawan:***@db:5432/dsdojo_db\n",
      "10 rows affected.\n"
     ]
    },
    {
     "data": {
      "text/html": [
       "<table>\n",
       "    <thead>\n",
       "        <tr>\n",
       "            <th>customer_id</th>\n",
       "            <th>customer_name</th>\n",
       "            <th>gender_cd</th>\n",
       "            <th>gender</th>\n",
       "            <th>birth_day</th>\n",
       "            <th>age</th>\n",
       "            <th>postal_cd</th>\n",
       "            <th>address</th>\n",
       "            <th>application_store_cd</th>\n",
       "            <th>application_date</th>\n",
       "            <th>status_cd</th>\n",
       "        </tr>\n",
       "    </thead>\n",
       "    <tbody>\n",
       "        <tr>\n",
       "            <td>CS035114000004</td>\n",
       "            <td>大村 美里</td>\n",
       "            <td>1</td>\n",
       "            <td>女性</td>\n",
       "            <td>2007-11-25</td>\n",
       "            <td>11</td>\n",
       "            <td>156-0053</td>\n",
       "            <td>東京都世田谷区桜**********</td>\n",
       "            <td>S13035</td>\n",
       "            <td>20150619</td>\n",
       "            <td>6-20091205-6</td>\n",
       "        </tr>\n",
       "        <tr>\n",
       "            <td>CS022103000002</td>\n",
       "            <td>福山 はじめ</td>\n",
       "            <td>9</td>\n",
       "            <td>不明</td>\n",
       "            <td>2007-10-02</td>\n",
       "            <td>11</td>\n",
       "            <td>249-0006</td>\n",
       "            <td>神奈川県逗子市逗子**********</td>\n",
       "            <td>S14022</td>\n",
       "            <td>20160909</td>\n",
       "            <td>0-00000000-0</td>\n",
       "        </tr>\n",
       "        <tr>\n",
       "            <td>CS002113000009</td>\n",
       "            <td>柴田 真悠子</td>\n",
       "            <td>1</td>\n",
       "            <td>女性</td>\n",
       "            <td>2007-09-17</td>\n",
       "            <td>11</td>\n",
       "            <td>184-0014</td>\n",
       "            <td>東京都小金井市貫井南町**********</td>\n",
       "            <td>S13002</td>\n",
       "            <td>20160304</td>\n",
       "            <td>0-00000000-0</td>\n",
       "        </tr>\n",
       "        <tr>\n",
       "            <td>CS004115000014</td>\n",
       "            <td>松井 京子</td>\n",
       "            <td>1</td>\n",
       "            <td>女性</td>\n",
       "            <td>2007-08-09</td>\n",
       "            <td>11</td>\n",
       "            <td>165-0031</td>\n",
       "            <td>東京都中野区上鷺宮**********</td>\n",
       "            <td>S13004</td>\n",
       "            <td>20161120</td>\n",
       "            <td>1-20081231-1</td>\n",
       "        </tr>\n",
       "        <tr>\n",
       "            <td>CS002114000010</td>\n",
       "            <td>山内 遥</td>\n",
       "            <td>1</td>\n",
       "            <td>女性</td>\n",
       "            <td>2007-06-03</td>\n",
       "            <td>11</td>\n",
       "            <td>184-0015</td>\n",
       "            <td>東京都小金井市貫井北町**********</td>\n",
       "            <td>S13002</td>\n",
       "            <td>20160920</td>\n",
       "            <td>6-20100510-1</td>\n",
       "        </tr>\n",
       "        <tr>\n",
       "            <td>CS025115000002</td>\n",
       "            <td>小柳 夏希</td>\n",
       "            <td>1</td>\n",
       "            <td>女性</td>\n",
       "            <td>2007-04-18</td>\n",
       "            <td>11</td>\n",
       "            <td>245-0018</td>\n",
       "            <td>神奈川県横浜市泉区上飯田町**********</td>\n",
       "            <td>S14025</td>\n",
       "            <td>20160116</td>\n",
       "            <td>D-20100913-D</td>\n",
       "        </tr>\n",
       "        <tr>\n",
       "            <td>CS002113000025</td>\n",
       "            <td>広末 まなみ</td>\n",
       "            <td>1</td>\n",
       "            <td>女性</td>\n",
       "            <td>2007-03-30</td>\n",
       "            <td>12</td>\n",
       "            <td>184-0015</td>\n",
       "            <td>東京都小金井市貫井北町**********</td>\n",
       "            <td>S13002</td>\n",
       "            <td>20171030</td>\n",
       "            <td>0-00000000-0</td>\n",
       "        </tr>\n",
       "        <tr>\n",
       "            <td>CS033112000003</td>\n",
       "            <td>長野 美紀</td>\n",
       "            <td>1</td>\n",
       "            <td>女性</td>\n",
       "            <td>2007-03-22</td>\n",
       "            <td>12</td>\n",
       "            <td>245-0051</td>\n",
       "            <td>神奈川県横浜市戸塚区名瀬町**********</td>\n",
       "            <td>S14033</td>\n",
       "            <td>20150606</td>\n",
       "            <td>0-00000000-0</td>\n",
       "        </tr>\n",
       "        <tr>\n",
       "            <td>CS007115000006</td>\n",
       "            <td>福岡 瞬</td>\n",
       "            <td>1</td>\n",
       "            <td>女性</td>\n",
       "            <td>2007-03-10</td>\n",
       "            <td>12</td>\n",
       "            <td>285-0845</td>\n",
       "            <td>千葉県佐倉市西志津**********</td>\n",
       "            <td>S12007</td>\n",
       "            <td>20151118</td>\n",
       "            <td>F-20101016-F</td>\n",
       "        </tr>\n",
       "        <tr>\n",
       "            <td>CS014113000008</td>\n",
       "            <td>矢口 莉緒</td>\n",
       "            <td>1</td>\n",
       "            <td>女性</td>\n",
       "            <td>2007-03-05</td>\n",
       "            <td>12</td>\n",
       "            <td>260-0041</td>\n",
       "            <td>千葉県千葉市中央区東千葉**********</td>\n",
       "            <td>S12014</td>\n",
       "            <td>20150622</td>\n",
       "            <td>3-20091108-6</td>\n",
       "        </tr>\n",
       "    </tbody>\n",
       "</table>"
      ],
      "text/plain": [
       "[('CS035114000004', '大村 美里', '1', '女性', datetime.date(2007, 11, 25), 11, '156-0053', '東京都世田谷区桜**********', 'S13035', '20150619', '6-20091205-6'),\n",
       " ('CS022103000002', '福山 はじめ', '9', '不明', datetime.date(2007, 10, 2), 11, '249-0006', '神奈川県逗子市逗子**********', 'S14022', '20160909', '0-00000000-0'),\n",
       " ('CS002113000009', '柴田 真悠子', '1', '女性', datetime.date(2007, 9, 17), 11, '184-0014', '東京都小金井市貫井南町**********', 'S13002', '20160304', '0-00000000-0'),\n",
       " ('CS004115000014', '松井 京子', '1', '女性', datetime.date(2007, 8, 9), 11, '165-0031', '東京都中野区上鷺宮**********', 'S13004', '20161120', '1-20081231-1'),\n",
       " ('CS002114000010', '山内 遥', '1', '女性', datetime.date(2007, 6, 3), 11, '184-0015', '東京都小金井市貫井北町**********', 'S13002', '20160920', '6-20100510-1'),\n",
       " ('CS025115000002', '小柳 夏希', '1', '女性', datetime.date(2007, 4, 18), 11, '245-0018', '神奈川県横浜市泉区上飯田町**********', 'S14025', '20160116', 'D-20100913-D'),\n",
       " ('CS002113000025', '広末 まなみ', '1', '女性', datetime.date(2007, 3, 30), 12, '184-0015', '東京都小金井市貫井北町**********', 'S13002', '20171030', '0-00000000-0'),\n",
       " ('CS033112000003', '長野 美紀', '1', '女性', datetime.date(2007, 3, 22), 12, '245-0051', '神奈川県横浜市戸塚区名瀬町**********', 'S14033', '20150606', '0-00000000-0'),\n",
       " ('CS007115000006', '福岡 瞬', '1', '女性', datetime.date(2007, 3, 10), 12, '285-0845', '千葉県佐倉市西志津**********', 'S12007', '20151118', 'F-20101016-F'),\n",
       " ('CS014113000008', '矢口 莉緒', '1', '女性', datetime.date(2007, 3, 5), 12, '260-0041', '千葉県千葉市中央区東千葉**********', 'S12014', '20150622', '3-20091108-6')]"
      ]
     },
     "execution_count": 33,
     "metadata": {},
     "output_type": "execute_result"
    }
   ],
   "source": [
    "%%sql\n",
    "\n",
    "SELECT\n",
    "    *\n",
    "FROM\n",
    "    customer\n",
    "ORDER BY\n",
    "    birth_day DESC\n",
    "LIMIT\n",
    "    10\n",
    ";"
   ]
  },
  {
   "cell_type": "markdown",
   "metadata": {},
   "source": [
    "---\n",
    "> S-019: レシート明細データ（receipt）に対し、1件あたりの売上金額（amount）が高い順にランクを付与し、先頭から10件表示せよ。項目は顧客ID（customer_id）、売上金額（amount）、付与したランクを表示させること。なお、売上金額（amount）が等しい場合は同一順位を付与するものとする。"
   ]
  },
  {
   "cell_type": "code",
   "execution_count": 36,
   "metadata": {},
   "outputs": [
    {
     "name": "stdout",
     "output_type": "stream",
     "text": [
      "*  postgresql://padawan:***@db:5432/dsdojo_db\n",
      "10 rows affected.\n"
     ]
    },
    {
     "data": {
      "text/html": [
       "<table>\n",
       "    <thead>\n",
       "        <tr>\n",
       "            <th>customer_id</th>\n",
       "            <th>amount</th>\n",
       "            <th>rank</th>\n",
       "        </tr>\n",
       "    </thead>\n",
       "    <tbody>\n",
       "        <tr>\n",
       "            <td>CS011415000006</td>\n",
       "            <td>10925</td>\n",
       "            <td>1</td>\n",
       "        </tr>\n",
       "        <tr>\n",
       "            <td>ZZ000000000000</td>\n",
       "            <td>6800</td>\n",
       "            <td>2</td>\n",
       "        </tr>\n",
       "        <tr>\n",
       "            <td>CS028605000002</td>\n",
       "            <td>5780</td>\n",
       "            <td>3</td>\n",
       "        </tr>\n",
       "        <tr>\n",
       "            <td>ZZ000000000000</td>\n",
       "            <td>5480</td>\n",
       "            <td>4</td>\n",
       "        </tr>\n",
       "        <tr>\n",
       "            <td>CS015515000034</td>\n",
       "            <td>5480</td>\n",
       "            <td>4</td>\n",
       "        </tr>\n",
       "        <tr>\n",
       "            <td>ZZ000000000000</td>\n",
       "            <td>5480</td>\n",
       "            <td>4</td>\n",
       "        </tr>\n",
       "        <tr>\n",
       "            <td>ZZ000000000000</td>\n",
       "            <td>5440</td>\n",
       "            <td>7</td>\n",
       "        </tr>\n",
       "        <tr>\n",
       "            <td>CS021515000089</td>\n",
       "            <td>5440</td>\n",
       "            <td>7</td>\n",
       "        </tr>\n",
       "        <tr>\n",
       "            <td>CS020414000081</td>\n",
       "            <td>5280</td>\n",
       "            <td>9</td>\n",
       "        </tr>\n",
       "        <tr>\n",
       "            <td>CS001412000160</td>\n",
       "            <td>5280</td>\n",
       "            <td>9</td>\n",
       "        </tr>\n",
       "    </tbody>\n",
       "</table>"
      ],
      "text/plain": [
       "[('CS011415000006', 10925, 1),\n",
       " ('ZZ000000000000', 6800, 2),\n",
       " ('CS028605000002', 5780, 3),\n",
       " ('ZZ000000000000', 5480, 4),\n",
       " ('CS015515000034', 5480, 4),\n",
       " ('ZZ000000000000', 5480, 4),\n",
       " ('ZZ000000000000', 5440, 7),\n",
       " ('CS021515000089', 5440, 7),\n",
       " ('CS020414000081', 5280, 9),\n",
       " ('CS001412000160', 5280, 9)]"
      ]
     },
     "execution_count": 36,
     "metadata": {},
     "output_type": "execute_result"
    }
   ],
   "source": [
    "%%sql\n",
    "\n",
    "SELECT\n",
    "    customer_id,\n",
    "    amount,\n",
    "    rank() OVER(ORDER BY amount DESC)\n",
    "FROM\n",
    "    receipt\n",
    "LIMIT\n",
    "    10\n",
    ";"
   ]
  },
  {
   "cell_type": "markdown",
   "metadata": {},
   "source": [
    "---\n",
    "> S-020: レシート明細データ（receipt）に対し、1件あたりの売上金額（amount）が高い順にランクを付与し、先頭から10件表示せよ。項目は顧客ID（customer_id）、売上金額（amount）、付与したランクを表示させること。なお、売上金額（amount）が等しい場合でも別順位を付与すること。"
   ]
  },
  {
   "cell_type": "code",
   "execution_count": 38,
   "metadata": {},
   "outputs": [
    {
     "name": "stdout",
     "output_type": "stream",
     "text": [
      "*  postgresql://padawan:***@db:5432/dsdojo_db\n",
      "10 rows affected.\n"
     ]
    },
    {
     "data": {
      "text/html": [
       "<table>\n",
       "    <thead>\n",
       "        <tr>\n",
       "            <th>customer_id</th>\n",
       "            <th>amount</th>\n",
       "            <th>row_number</th>\n",
       "        </tr>\n",
       "    </thead>\n",
       "    <tbody>\n",
       "        <tr>\n",
       "            <td>CS011415000006</td>\n",
       "            <td>10925</td>\n",
       "            <td>1</td>\n",
       "        </tr>\n",
       "        <tr>\n",
       "            <td>ZZ000000000000</td>\n",
       "            <td>6800</td>\n",
       "            <td>2</td>\n",
       "        </tr>\n",
       "        <tr>\n",
       "            <td>CS028605000002</td>\n",
       "            <td>5780</td>\n",
       "            <td>3</td>\n",
       "        </tr>\n",
       "        <tr>\n",
       "            <td>ZZ000000000000</td>\n",
       "            <td>5480</td>\n",
       "            <td>4</td>\n",
       "        </tr>\n",
       "        <tr>\n",
       "            <td>CS015515000034</td>\n",
       "            <td>5480</td>\n",
       "            <td>5</td>\n",
       "        </tr>\n",
       "        <tr>\n",
       "            <td>ZZ000000000000</td>\n",
       "            <td>5480</td>\n",
       "            <td>6</td>\n",
       "        </tr>\n",
       "        <tr>\n",
       "            <td>ZZ000000000000</td>\n",
       "            <td>5440</td>\n",
       "            <td>7</td>\n",
       "        </tr>\n",
       "        <tr>\n",
       "            <td>CS021515000089</td>\n",
       "            <td>5440</td>\n",
       "            <td>8</td>\n",
       "        </tr>\n",
       "        <tr>\n",
       "            <td>CS020414000081</td>\n",
       "            <td>5280</td>\n",
       "            <td>9</td>\n",
       "        </tr>\n",
       "        <tr>\n",
       "            <td>CS001412000160</td>\n",
       "            <td>5280</td>\n",
       "            <td>10</td>\n",
       "        </tr>\n",
       "    </tbody>\n",
       "</table>"
      ],
      "text/plain": [
       "[('CS011415000006', 10925, 1),\n",
       " ('ZZ000000000000', 6800, 2),\n",
       " ('CS028605000002', 5780, 3),\n",
       " ('ZZ000000000000', 5480, 4),\n",
       " ('CS015515000034', 5480, 5),\n",
       " ('ZZ000000000000', 5480, 6),\n",
       " ('ZZ000000000000', 5440, 7),\n",
       " ('CS021515000089', 5440, 8),\n",
       " ('CS020414000081', 5280, 9),\n",
       " ('CS001412000160', 5280, 10)]"
      ]
     },
     "execution_count": 38,
     "metadata": {},
     "output_type": "execute_result"
    }
   ],
   "source": [
    "%%sql\n",
    "\n",
    "SELECT\n",
    "    customer_id,\n",
    "    amount,\n",
    "    ROW_NUMBER() OVER(ORDER BY amount DESC)\n",
    "FROM\n",
    "    receipt\n",
    "LIMIT\n",
    "    10\n",
    ";\n",
    "\n",
    "-- 1問目-20問目：30分27秒（2回目のチャレンジ）"
   ]
  },
  {
   "cell_type": "markdown",
   "metadata": {},
   "source": [
    "---\n",
    "> S-021: レシート明細データ（receipt）に対し、件数をカウントせよ。"
   ]
  },
  {
   "cell_type": "code",
   "execution_count": 55,
   "metadata": {},
   "outputs": [
    {
     "name": "stdout",
     "output_type": "stream",
     "text": [
      "*  postgresql://padawan:***@db:5432/dsdojo_db\n",
      "1 rows affected.\n"
     ]
    },
    {
     "data": {
      "text/html": [
       "<table>\n",
       "    <thead>\n",
       "        <tr>\n",
       "            <th>count</th>\n",
       "        </tr>\n",
       "    </thead>\n",
       "    <tbody>\n",
       "        <tr>\n",
       "            <td>104681</td>\n",
       "        </tr>\n",
       "    </tbody>\n",
       "</table>"
      ],
      "text/plain": [
       "[(104681,)]"
      ]
     },
     "execution_count": 55,
     "metadata": {},
     "output_type": "execute_result"
    }
   ],
   "source": [
    "%%sql\n",
    "\n",
    "SELECT\n",
    "    COUNT(*)\n",
    "FROM\n",
    "    receipt\n",
    ";"
   ]
  },
  {
   "cell_type": "markdown",
   "metadata": {},
   "source": [
    "---\n",
    "> S-022: レシート明細データ（receipt）の顧客ID（customer_id）に対し、ユニーク件数をカウントせよ。"
   ]
  },
  {
   "cell_type": "code",
   "execution_count": 40,
   "metadata": {},
   "outputs": [
    {
     "name": "stdout",
     "output_type": "stream",
     "text": [
      "*  postgresql://padawan:***@db:5432/dsdojo_db\n",
      "1 rows affected.\n"
     ]
    },
    {
     "data": {
      "text/html": [
       "<table>\n",
       "    <thead>\n",
       "        <tr>\n",
       "            <th>count</th>\n",
       "        </tr>\n",
       "    </thead>\n",
       "    <tbody>\n",
       "        <tr>\n",
       "            <td>8307</td>\n",
       "        </tr>\n",
       "    </tbody>\n",
       "</table>"
      ],
      "text/plain": [
       "[(8307,)]"
      ]
     },
     "execution_count": 40,
     "metadata": {},
     "output_type": "execute_result"
    }
   ],
   "source": [
    "%%sql\n",
    "\n",
    "SELECT\n",
    "    COUNT(DISTINCT customer_id)\n",
    "FROM\n",
    "    receipt\n",
    ";"
   ]
  },
  {
   "cell_type": "markdown",
   "metadata": {},
   "source": [
    "---\n",
    "> S-023: レシート明細データ（receipt）に対し、店舗コード（store_cd）ごとに売上金額（amount）と売上数量（quantity）を合計せよ。"
   ]
  },
  {
   "cell_type": "code",
   "execution_count": 42,
   "metadata": {},
   "outputs": [
    {
     "name": "stdout",
     "output_type": "stream",
     "text": [
      "*  postgresql://padawan:***@db:5432/dsdojo_db\n",
      "5 rows affected.\n"
     ]
    },
    {
     "data": {
      "text/html": [
       "<table>\n",
       "    <thead>\n",
       "        <tr>\n",
       "            <th>store_cd</th>\n",
       "            <th>sum_amount</th>\n",
       "            <th>sum_quantity</th>\n",
       "        </tr>\n",
       "    </thead>\n",
       "    <tbody>\n",
       "        <tr>\n",
       "            <td>S12007</td>\n",
       "            <td>638761</td>\n",
       "            <td>2099</td>\n",
       "        </tr>\n",
       "        <tr>\n",
       "            <td>S13017</td>\n",
       "            <td>748221</td>\n",
       "            <td>2376</td>\n",
       "        </tr>\n",
       "        <tr>\n",
       "            <td>S13043</td>\n",
       "            <td>587895</td>\n",
       "            <td>1881</td>\n",
       "        </tr>\n",
       "        <tr>\n",
       "            <td>S13052</td>\n",
       "            <td>100314</td>\n",
       "            <td>250</td>\n",
       "        </tr>\n",
       "        <tr>\n",
       "            <td>S13016</td>\n",
       "            <td>793773</td>\n",
       "            <td>2432</td>\n",
       "        </tr>\n",
       "    </tbody>\n",
       "</table>"
      ],
      "text/plain": [
       "[('S12007', 638761, 2099),\n",
       " ('S13017', 748221, 2376),\n",
       " ('S13043', 587895, 1881),\n",
       " ('S13052', 100314, 250),\n",
       " ('S13016', 793773, 2432)]"
      ]
     },
     "execution_count": 42,
     "metadata": {},
     "output_type": "execute_result"
    }
   ],
   "source": [
    "%%sql\n",
    "\n",
    "SELECT\n",
    "    store_cd,\n",
    "    SUM(amount) AS sum_amount,\n",
    "    SUM(quantity) AS sum_quantity\n",
    "FROM\n",
    "    receipt\n",
    "GROUP BY\n",
    "    store_cd\n",
    "LIMIT\n",
    "    5\n",
    ";"
   ]
  },
  {
   "cell_type": "markdown",
   "metadata": {},
   "source": [
    "---\n",
    "> S-024: レシート明細データ（receipt）に対し、顧客ID（customer_id）ごとに最も新しい売上年月日（sales_ymd）を求め、10件表示せよ。"
   ]
  },
  {
   "cell_type": "code",
   "execution_count": 43,
   "metadata": {},
   "outputs": [
    {
     "name": "stdout",
     "output_type": "stream",
     "text": [
      "*  postgresql://padawan:***@db:5432/dsdojo_db\n",
      "5 rows affected.\n"
     ]
    },
    {
     "data": {
      "text/html": [
       "<table>\n",
       "    <thead>\n",
       "        <tr>\n",
       "            <th>customer_id</th>\n",
       "            <th>latest</th>\n",
       "        </tr>\n",
       "    </thead>\n",
       "    <tbody>\n",
       "        <tr>\n",
       "            <td>CS001311000059</td>\n",
       "            <td>20180211</td>\n",
       "        </tr>\n",
       "        <tr>\n",
       "            <td>CS004614000122</td>\n",
       "            <td>20181228</td>\n",
       "        </tr>\n",
       "        <tr>\n",
       "            <td>CS003512000043</td>\n",
       "            <td>20180106</td>\n",
       "        </tr>\n",
       "        <tr>\n",
       "            <td>CS011615000061</td>\n",
       "            <td>20190503</td>\n",
       "        </tr>\n",
       "        <tr>\n",
       "            <td>CS029212000033</td>\n",
       "            <td>20180621</td>\n",
       "        </tr>\n",
       "    </tbody>\n",
       "</table>"
      ],
      "text/plain": [
       "[('CS001311000059', 20180211),\n",
       " ('CS004614000122', 20181228),\n",
       " ('CS003512000043', 20180106),\n",
       " ('CS011615000061', 20190503),\n",
       " ('CS029212000033', 20180621)]"
      ]
     },
     "execution_count": 43,
     "metadata": {},
     "output_type": "execute_result"
    }
   ],
   "source": [
    "%%sql\n",
    "\n",
    "SELECT\n",
    "    customer_id,\n",
    "    MAX(sales_ymd) AS latest\n",
    "FROM\n",
    "    receipt\n",
    "GROUP BY\n",
    "    customer_id\n",
    "LIMIT\n",
    "    5\n",
    ";"
   ]
  },
  {
   "cell_type": "markdown",
   "metadata": {},
   "source": [
    "---\n",
    "> S-025: レシート明細データ（receipt）に対し、顧客ID（customer_id）ごとに最も古い売上年月日（sales_ymd）を求め、10件表示せよ。"
   ]
  },
  {
   "cell_type": "code",
   "execution_count": 44,
   "metadata": {},
   "outputs": [
    {
     "name": "stdout",
     "output_type": "stream",
     "text": [
      "*  postgresql://padawan:***@db:5432/dsdojo_db\n",
      "5 rows affected.\n"
     ]
    },
    {
     "data": {
      "text/html": [
       "<table>\n",
       "    <thead>\n",
       "        <tr>\n",
       "            <th>customer_id</th>\n",
       "            <th>min</th>\n",
       "        </tr>\n",
       "    </thead>\n",
       "    <tbody>\n",
       "        <tr>\n",
       "            <td>CS001311000059</td>\n",
       "            <td>20180211</td>\n",
       "        </tr>\n",
       "        <tr>\n",
       "            <td>CS004614000122</td>\n",
       "            <td>20181228</td>\n",
       "        </tr>\n",
       "        <tr>\n",
       "            <td>CS003512000043</td>\n",
       "            <td>20180106</td>\n",
       "        </tr>\n",
       "        <tr>\n",
       "            <td>CS011615000061</td>\n",
       "            <td>20190503</td>\n",
       "        </tr>\n",
       "        <tr>\n",
       "            <td>CS029212000033</td>\n",
       "            <td>20170318</td>\n",
       "        </tr>\n",
       "    </tbody>\n",
       "</table>"
      ],
      "text/plain": [
       "[('CS001311000059', 20180211),\n",
       " ('CS004614000122', 20181228),\n",
       " ('CS003512000043', 20180106),\n",
       " ('CS011615000061', 20190503),\n",
       " ('CS029212000033', 20170318)]"
      ]
     },
     "execution_count": 44,
     "metadata": {},
     "output_type": "execute_result"
    }
   ],
   "source": [
    "%%sql\n",
    "\n",
    "SELECT\n",
    "    customer_id,\n",
    "    MIN(sales_ymd)\n",
    "FROM\n",
    "    receipt\n",
    "GROUP BY\n",
    "    customer_id\n",
    "LIMIT\n",
    "    5\n",
    ";"
   ]
  },
  {
   "cell_type": "markdown",
   "metadata": {},
   "source": [
    "---\n",
    "> S-026: レシート明細データ（receipt）に対し、顧客ID（customer_id）ごとに最も新しい売上年月日（sales_ymd）と古い売上年月日を求め、両者が異なるデータを10件表示せよ。"
   ]
  },
  {
   "cell_type": "code",
   "execution_count": 47,
   "metadata": {},
   "outputs": [
    {
     "name": "stdout",
     "output_type": "stream",
     "text": [
      "*  postgresql://padawan:***@db:5432/dsdojo_db\n",
      "5 rows affected.\n"
     ]
    },
    {
     "data": {
      "text/html": [
       "<table>\n",
       "    <thead>\n",
       "        <tr>\n",
       "            <th>customer_id</th>\n",
       "            <th>latest</th>\n",
       "            <th>oldest</th>\n",
       "        </tr>\n",
       "    </thead>\n",
       "    <tbody>\n",
       "        <tr>\n",
       "            <td>CS029212000033</td>\n",
       "            <td>20180621</td>\n",
       "            <td>20170318</td>\n",
       "        </tr>\n",
       "        <tr>\n",
       "            <td>CS007515000119</td>\n",
       "            <td>20190511</td>\n",
       "            <td>20170201</td>\n",
       "        </tr>\n",
       "        <tr>\n",
       "            <td>CS034515000123</td>\n",
       "            <td>20190708</td>\n",
       "            <td>20170527</td>\n",
       "        </tr>\n",
       "        <tr>\n",
       "            <td>CS026414000014</td>\n",
       "            <td>20190720</td>\n",
       "            <td>20170718</td>\n",
       "        </tr>\n",
       "        <tr>\n",
       "            <td>CS010515000082</td>\n",
       "            <td>20181204</td>\n",
       "            <td>20180518</td>\n",
       "        </tr>\n",
       "    </tbody>\n",
       "</table>"
      ],
      "text/plain": [
       "[('CS029212000033', 20180621, 20170318),\n",
       " ('CS007515000119', 20190511, 20170201),\n",
       " ('CS034515000123', 20190708, 20170527),\n",
       " ('CS026414000014', 20190720, 20170718),\n",
       " ('CS010515000082', 20181204, 20180518)]"
      ]
     },
     "execution_count": 47,
     "metadata": {},
     "output_type": "execute_result"
    }
   ],
   "source": [
    "%%sql\n",
    "\n",
    "SELECT\n",
    "    customer_id,\n",
    "    MAX(sales_ymd) AS latest,\n",
    "    MIN(sales_ymd) AS oldest\n",
    "FROM\n",
    "    receipt\n",
    "GROUP BY\n",
    "    customer_id\n",
    "HAVING\n",
    "    MAX(sales_ymd) != MIN(sales_ymd)\n",
    "LIMIT\n",
    "    5\n",
    ";"
   ]
  },
  {
   "cell_type": "markdown",
   "metadata": {},
   "source": [
    "---\n",
    "> S-027: レシート明細データ（receipt）に対し、店舗コード（store_cd）ごとに売上金額（amount）の平均を計算し、降順でTOP5を表示せよ。"
   ]
  },
  {
   "cell_type": "code",
   "execution_count": 50,
   "metadata": {},
   "outputs": [
    {
     "name": "stdout",
     "output_type": "stream",
     "text": [
      "*  postgresql://padawan:***@db:5432/dsdojo_db\n",
      "5 rows affected.\n"
     ]
    },
    {
     "data": {
      "text/html": [
       "<table>\n",
       "    <thead>\n",
       "        <tr>\n",
       "            <th>store_cd</th>\n",
       "            <th>avg_amount</th>\n",
       "        </tr>\n",
       "    </thead>\n",
       "    <tbody>\n",
       "        <tr>\n",
       "            <td>S13052</td>\n",
       "            <td>402.8674698795180723</td>\n",
       "        </tr>\n",
       "        <tr>\n",
       "            <td>S13015</td>\n",
       "            <td>351.1119604316546763</td>\n",
       "        </tr>\n",
       "        <tr>\n",
       "            <td>S13003</td>\n",
       "            <td>350.9155188246097337</td>\n",
       "        </tr>\n",
       "        <tr>\n",
       "            <td>S14010</td>\n",
       "            <td>348.7912621359223301</td>\n",
       "        </tr>\n",
       "        <tr>\n",
       "            <td>S13001</td>\n",
       "            <td>348.4703862660944206</td>\n",
       "        </tr>\n",
       "    </tbody>\n",
       "</table>"
      ],
      "text/plain": [
       "[('S13052', Decimal('402.8674698795180723')),\n",
       " ('S13015', Decimal('351.1119604316546763')),\n",
       " ('S13003', Decimal('350.9155188246097337')),\n",
       " ('S14010', Decimal('348.7912621359223301')),\n",
       " ('S13001', Decimal('348.4703862660944206'))]"
      ]
     },
     "execution_count": 50,
     "metadata": {},
     "output_type": "execute_result"
    }
   ],
   "source": [
    "%%sql\n",
    "\n",
    "SELECT\n",
    "    store_cd,\n",
    "    AVG(amount) AS avg_amount\n",
    "FROM\n",
    "    receipt\n",
    "GROUP BY\n",
    "    store_cd\n",
    "ORDER BY\n",
    "    avg_amount DESC\n",
    "LIMIT\n",
    "    5\n",
    ";"
   ]
  },
  {
   "cell_type": "markdown",
   "metadata": {},
   "source": [
    "---\n",
    "> S-028: レシート明細データ（receipt）に対し、店舗コード（store_cd）ごとに売上金額（amount）の中央値を計算し、降順でTOP5を表示せよ。"
   ]
  },
  {
   "cell_type": "code",
   "execution_count": 52,
   "metadata": {},
   "outputs": [
    {
     "name": "stdout",
     "output_type": "stream",
     "text": [
      "*  postgresql://padawan:***@db:5432/dsdojo_db\n",
      "5 rows affected.\n"
     ]
    },
    {
     "data": {
      "text/html": [
       "<table>\n",
       "    <thead>\n",
       "        <tr>\n",
       "            <th>store_cd</th>\n",
       "            <th>amount_50per</th>\n",
       "        </tr>\n",
       "    </thead>\n",
       "    <tbody>\n",
       "        <tr>\n",
       "            <td>S13052</td>\n",
       "            <td>190.0</td>\n",
       "        </tr>\n",
       "        <tr>\n",
       "            <td>S14010</td>\n",
       "            <td>188.0</td>\n",
       "        </tr>\n",
       "        <tr>\n",
       "            <td>S14050</td>\n",
       "            <td>185.0</td>\n",
       "        </tr>\n",
       "        <tr>\n",
       "            <td>S13003</td>\n",
       "            <td>180.0</td>\n",
       "        </tr>\n",
       "        <tr>\n",
       "            <td>S13018</td>\n",
       "            <td>180.0</td>\n",
       "        </tr>\n",
       "    </tbody>\n",
       "</table>"
      ],
      "text/plain": [
       "[('S13052', 190.0),\n",
       " ('S14010', 188.0),\n",
       " ('S14050', 185.0),\n",
       " ('S13003', 180.0),\n",
       " ('S13018', 180.0)]"
      ]
     },
     "execution_count": 52,
     "metadata": {},
     "output_type": "execute_result"
    }
   ],
   "source": [
    "%%sql\n",
    "\n",
    "SELECT\n",
    "    store_cd,\n",
    "    PERCENTILE_CONT(0.5) WITHIN GROUP(ORDER BY amount) AS amount_50per\n",
    "FROM\n",
    "    receipt\n",
    "GROUP BY\n",
    "    store_cd\n",
    "ORDER BY \n",
    "    amount_50per DESC\n",
    "LIMIT\n",
    "    5\n",
    ";"
   ]
  },
  {
   "cell_type": "markdown",
   "metadata": {},
   "source": [
    "---\n",
    "> S-029: レシート明細データ（receipt）に対し、店舗コード（store_cd）ごとに商品コード（product_cd）の最頻値を求め、10件表示させよ。"
   ]
  },
  {
   "cell_type": "code",
   "execution_count": 54,
   "metadata": {},
   "outputs": [
    {
     "name": "stdout",
     "output_type": "stream",
     "text": [
      "*  postgresql://padawan:***@db:5432/dsdojo_db\n",
      "10 rows affected.\n"
     ]
    },
    {
     "data": {
      "text/html": [
       "<table>\n",
       "    <thead>\n",
       "        <tr>\n",
       "            <th>store_cd</th>\n",
       "            <th>mode</th>\n",
       "        </tr>\n",
       "    </thead>\n",
       "    <tbody>\n",
       "        <tr>\n",
       "            <td>S12007</td>\n",
       "            <td>P060303001</td>\n",
       "        </tr>\n",
       "        <tr>\n",
       "            <td>S12013</td>\n",
       "            <td>P060303001</td>\n",
       "        </tr>\n",
       "        <tr>\n",
       "            <td>S12014</td>\n",
       "            <td>P060303001</td>\n",
       "        </tr>\n",
       "        <tr>\n",
       "            <td>S12029</td>\n",
       "            <td>P060303001</td>\n",
       "        </tr>\n",
       "        <tr>\n",
       "            <td>S12030</td>\n",
       "            <td>P060303001</td>\n",
       "        </tr>\n",
       "        <tr>\n",
       "            <td>S13001</td>\n",
       "            <td>P060303001</td>\n",
       "        </tr>\n",
       "        <tr>\n",
       "            <td>S13002</td>\n",
       "            <td>P060303001</td>\n",
       "        </tr>\n",
       "        <tr>\n",
       "            <td>S13003</td>\n",
       "            <td>P071401001</td>\n",
       "        </tr>\n",
       "        <tr>\n",
       "            <td>S13004</td>\n",
       "            <td>P060303001</td>\n",
       "        </tr>\n",
       "        <tr>\n",
       "            <td>S13005</td>\n",
       "            <td>P040503001</td>\n",
       "        </tr>\n",
       "    </tbody>\n",
       "</table>"
      ],
      "text/plain": [
       "[('S12007', 'P060303001'),\n",
       " ('S12013', 'P060303001'),\n",
       " ('S12014', 'P060303001'),\n",
       " ('S12029', 'P060303001'),\n",
       " ('S12030', 'P060303001'),\n",
       " ('S13001', 'P060303001'),\n",
       " ('S13002', 'P060303001'),\n",
       " ('S13003', 'P071401001'),\n",
       " ('S13004', 'P060303001'),\n",
       " ('S13005', 'P040503001')]"
      ]
     },
     "execution_count": 54,
     "metadata": {},
     "output_type": "execute_result"
    }
   ],
   "source": [
    "%%sql\n",
    "\n",
    "SELECT\n",
    "    store_cd,\n",
    "    MODE() WITHIN GROUP(ORDER BY product_cd)\n",
    "FROM\n",
    "    receipt\n",
    "GROUP BY\n",
    "    store_cd\n",
    "LIMIT\n",
    "    10\n",
    ";"
   ]
  },
  {
   "cell_type": "markdown",
   "metadata": {},
   "source": [
    "---\n",
    "> S-030: レシート明細データ（receipt）に対し、店舗コード（store_cd）ごとに売上金額（amount）の分散を計算し、降順で5件表示せよ。"
   ]
  },
  {
   "cell_type": "code",
   "execution_count": 58,
   "metadata": {},
   "outputs": [
    {
     "name": "stdout",
     "output_type": "stream",
     "text": [
      "*  postgresql://padawan:***@db:5432/dsdojo_db\n",
      "5 rows affected.\n"
     ]
    },
    {
     "data": {
      "text/html": [
       "<table>\n",
       "    <thead>\n",
       "        <tr>\n",
       "            <th>store_cd</th>\n",
       "            <th>val_amount</th>\n",
       "        </tr>\n",
       "    </thead>\n",
       "    <tbody>\n",
       "        <tr>\n",
       "            <td>S13052</td>\n",
       "            <td>440088.701311269173</td>\n",
       "        </tr>\n",
       "        <tr>\n",
       "            <td>S14011</td>\n",
       "            <td>306314.558163888889</td>\n",
       "        </tr>\n",
       "        <tr>\n",
       "            <td>S14034</td>\n",
       "            <td>296920.081011283873</td>\n",
       "        </tr>\n",
       "        <tr>\n",
       "            <td>S13001</td>\n",
       "            <td>295431.993329035348</td>\n",
       "        </tr>\n",
       "        <tr>\n",
       "            <td>S13015</td>\n",
       "            <td>295294.361115940880</td>\n",
       "        </tr>\n",
       "    </tbody>\n",
       "</table>"
      ],
      "text/plain": [
       "[('S13052', Decimal('440088.701311269173')),\n",
       " ('S14011', Decimal('306314.558163888889')),\n",
       " ('S14034', Decimal('296920.081011283873')),\n",
       " ('S13001', Decimal('295431.993329035348')),\n",
       " ('S13015', Decimal('295294.361115940880'))]"
      ]
     },
     "execution_count": 58,
     "metadata": {},
     "output_type": "execute_result"
    }
   ],
   "source": [
    "%%sql\n",
    "\n",
    "SELECT\n",
    "    store_cd,\n",
    "    VAR_POP(amount) val_amount\n",
    "FROM\n",
    "    receipt\n",
    "GROUP BY\n",
    "    store_cd\n",
    "ORDER BY \n",
    "    val_amount DESC\n",
    "LIMIT\n",
    "    5\n",
    ";"
   ]
  },
  {
   "cell_type": "markdown",
   "metadata": {},
   "source": [
    "---\n",
    "> S-031: レシート明細データ（receipt）に対し、店舗コード（store_cd）ごとに売上金額（amount）の標準偏差を計算し、降順で5件表示せよ。"
   ]
  },
  {
   "cell_type": "code",
   "execution_count": 60,
   "metadata": {},
   "outputs": [
    {
     "name": "stdout",
     "output_type": "stream",
     "text": [
      "*  postgresql://padawan:***@db:5432/dsdojo_db\n",
      "5 rows affected.\n"
     ]
    },
    {
     "data": {
      "text/html": [
       "<table>\n",
       "    <thead>\n",
       "        <tr>\n",
       "            <th>store_cd</th>\n",
       "            <th>std_amount</th>\n",
       "        </tr>\n",
       "    </thead>\n",
       "    <tbody>\n",
       "        <tr>\n",
       "            <td>S13052</td>\n",
       "            <td>663.391815830787</td>\n",
       "        </tr>\n",
       "        <tr>\n",
       "            <td>S14011</td>\n",
       "            <td>553.456916267101</td>\n",
       "        </tr>\n",
       "        <tr>\n",
       "            <td>S14034</td>\n",
       "            <td>544.903735545357</td>\n",
       "        </tr>\n",
       "        <tr>\n",
       "            <td>S13001</td>\n",
       "            <td>543.536561170484</td>\n",
       "        </tr>\n",
       "        <tr>\n",
       "            <td>S13015</td>\n",
       "            <td>543.409938366921</td>\n",
       "        </tr>\n",
       "    </tbody>\n",
       "</table>"
      ],
      "text/plain": [
       "[('S13052', Decimal('663.391815830787')),\n",
       " ('S14011', Decimal('553.456916267101')),\n",
       " ('S14034', Decimal('544.903735545357')),\n",
       " ('S13001', Decimal('543.536561170484')),\n",
       " ('S13015', Decimal('543.409938366921'))]"
      ]
     },
     "execution_count": 60,
     "metadata": {},
     "output_type": "execute_result"
    }
   ],
   "source": [
    "%%sql\n",
    "\n",
    "SELECT\n",
    "    store_cd,\n",
    "    STDDEV_POP(amount) AS std_amount\n",
    "FROM\n",
    "    receipt\n",
    "GROUP BY\n",
    "    store_cd\n",
    "ORDER BY\n",
    "    std_amount DESC\n",
    "LIMIT\n",
    "    5\n",
    ";"
   ]
  },
  {
   "cell_type": "markdown",
   "metadata": {},
   "source": [
    "---\n",
    "> S-032: レシート明細データ（receipt）の売上金額（amount）について、25％刻みでパーセンタイル値を求めよ。"
   ]
  },
  {
   "cell_type": "code",
   "execution_count": 63,
   "metadata": {},
   "outputs": [
    {
     "name": "stdout",
     "output_type": "stream",
     "text": [
      "*  postgresql://padawan:***@db:5432/dsdojo_db\n",
      "1 rows affected.\n"
     ]
    },
    {
     "data": {
      "text/html": [
       "<table>\n",
       "    <thead>\n",
       "        <tr>\n",
       "            <th>amount_25per</th>\n",
       "            <th>amount_50per</th>\n",
       "            <th>amount_75per</th>\n",
       "            <th>amount_100per</th>\n",
       "        </tr>\n",
       "    </thead>\n",
       "    <tbody>\n",
       "        <tr>\n",
       "            <td>102.0</td>\n",
       "            <td>170.0</td>\n",
       "            <td>288.0</td>\n",
       "            <td>10925.0</td>\n",
       "        </tr>\n",
       "    </tbody>\n",
       "</table>"
      ],
      "text/plain": [
       "[(102.0, 170.0, 288.0, 10925.0)]"
      ]
     },
     "execution_count": 63,
     "metadata": {},
     "output_type": "execute_result"
    }
   ],
   "source": [
    "%%sql\n",
    "\n",
    "SELECT\n",
    "    PERCENTILE_CONT(0.25) WITHIN GROUP(ORDER BY amount) AS amount_25per,\n",
    "    PERCENTILE_CONT(0.5) WITHIN GROUP(ORDER BY amount) AS amount_50per,\n",
    "    PERCENTILE_CONT(0.75) WITHIN GROUP(ORDER BY amount) AS amount_75per,\n",
    "    PERCENTILE_CONT(1.0) WITHIN GROUP(ORDER BY amount) AS amount_100per\n",
    "FROM \n",
    "    receipt\n",
    "LIMIT\n",
    "    5\n",
    ";"
   ]
  },
  {
   "cell_type": "markdown",
   "metadata": {},
   "source": [
    "---\n",
    "> S-033: レシート明細データ（receipt）に対し、店舗コード（store_cd）ごとに売上金額（amount）の平均を計算し、330以上のものを抽出せよ。"
   ]
  },
  {
   "cell_type": "code",
   "execution_count": 64,
   "metadata": {},
   "outputs": [
    {
     "name": "stdout",
     "output_type": "stream",
     "text": [
      "*  postgresql://padawan:***@db:5432/dsdojo_db\n",
      "5 rows affected.\n"
     ]
    },
    {
     "data": {
      "text/html": [
       "<table>\n",
       "    <thead>\n",
       "        <tr>\n",
       "            <th>store_cd</th>\n",
       "            <th>avg_amount</th>\n",
       "        </tr>\n",
       "    </thead>\n",
       "    <tbody>\n",
       "        <tr>\n",
       "            <td>S13052</td>\n",
       "            <td>402.8674698795180723</td>\n",
       "        </tr>\n",
       "        <tr>\n",
       "            <td>S13019</td>\n",
       "            <td>330.2086158755484643</td>\n",
       "        </tr>\n",
       "        <tr>\n",
       "            <td>S13003</td>\n",
       "            <td>350.9155188246097337</td>\n",
       "        </tr>\n",
       "        <tr>\n",
       "            <td>S14045</td>\n",
       "            <td>330.0820734341252700</td>\n",
       "        </tr>\n",
       "        <tr>\n",
       "            <td>S13004</td>\n",
       "            <td>330.9439490445859873</td>\n",
       "        </tr>\n",
       "    </tbody>\n",
       "</table>"
      ],
      "text/plain": [
       "[('S13052', Decimal('402.8674698795180723')),\n",
       " ('S13019', Decimal('330.2086158755484643')),\n",
       " ('S13003', Decimal('350.9155188246097337')),\n",
       " ('S14045', Decimal('330.0820734341252700')),\n",
       " ('S13004', Decimal('330.9439490445859873'))]"
      ]
     },
     "execution_count": 64,
     "metadata": {},
     "output_type": "execute_result"
    }
   ],
   "source": [
    "%%sql\n",
    "\n",
    "SELECT\n",
    "    store_cd,\n",
    "    AVG(amount) AS avg_amount\n",
    "FROM\n",
    "    receipt\n",
    "GROUP BY\n",
    "    store_cd\n",
    "HAVING\n",
    "    AVG(amount) >= 330\n",
    "LIMIT\n",
    "    5\n",
    ";"
   ]
  },
  {
   "cell_type": "markdown",
   "metadata": {},
   "source": [
    "---\n",
    "> S-034: レシート明細データ（receipt）に対し、顧客ID（customer_id）ごとに売上金額（amount）を合計して全顧客の平均を求めよ。ただし、顧客IDが\"Z\"から始まるものは非会員を表すため、除外して計算すること。"
   ]
  },
  {
   "cell_type": "code",
   "execution_count": 67,
   "metadata": {},
   "outputs": [
    {
     "name": "stdout",
     "output_type": "stream",
     "text": [
      "*  postgresql://padawan:***@db:5432/dsdojo_db\n",
      "1 rows affected.\n"
     ]
    },
    {
     "data": {
      "text/html": [
       "<table>\n",
       "    <thead>\n",
       "        <tr>\n",
       "            <th>avg</th>\n",
       "        </tr>\n",
       "    </thead>\n",
       "    <tbody>\n",
       "        <tr>\n",
       "            <td>2547.7422345292559595</td>\n",
       "        </tr>\n",
       "    </tbody>\n",
       "</table>"
      ],
      "text/plain": [
       "[(Decimal('2547.7422345292559595'),)]"
      ]
     },
     "execution_count": 67,
     "metadata": {},
     "output_type": "execute_result"
    }
   ],
   "source": [
    "%%sql\n",
    "\n",
    "WITH sum_amount_by_customer AS (\n",
    "    SELECT\n",
    "        customer_id,\n",
    "        SUM(amount) AS sum_amount\n",
    "    FROM\n",
    "        receipt\n",
    "    WHERE\n",
    "        customer_id NOT LIKE 'Z%'\n",
    "    GROUP BY\n",
    "        customer_id\n",
    ")\n",
    "SELECT\n",
    "    AVG(sum_amount)\n",
    "FROM\n",
    "    sum_amount_by_customer\n",
    ";"
   ]
  },
  {
   "cell_type": "markdown",
   "metadata": {},
   "source": [
    "---\n",
    "> S-035: レシート明細データ（receipt）に対し、顧客ID（customer_id）ごとに売上金額（amount）を合計して全顧客の平均を求め、平均以上に買い物をしている顧客を抽出し、10件表示せよ。ただし、顧客IDが\"Z\"から始まるものは非会員を表すため、除外して計算すること。"
   ]
  },
  {
   "cell_type": "code",
   "execution_count": 73,
   "metadata": {},
   "outputs": [
    {
     "name": "stdout",
     "output_type": "stream",
     "text": [
      "*  postgresql://padawan:***@db:5432/dsdojo_db\n",
      "5 rows affected.\n"
     ]
    },
    {
     "data": {
      "text/html": [
       "<table>\n",
       "    <thead>\n",
       "        <tr>\n",
       "            <th>customer_id</th>\n",
       "            <th>sum_amount</th>\n",
       "        </tr>\n",
       "    </thead>\n",
       "    <tbody>\n",
       "        <tr>\n",
       "            <td>CS029212000033</td>\n",
       "            <td>3604</td>\n",
       "        </tr>\n",
       "        <tr>\n",
       "            <td>CS007515000119</td>\n",
       "            <td>7157</td>\n",
       "        </tr>\n",
       "        <tr>\n",
       "            <td>CS034515000123</td>\n",
       "            <td>3699</td>\n",
       "        </tr>\n",
       "        <tr>\n",
       "            <td>CS026414000014</td>\n",
       "            <td>6671</td>\n",
       "        </tr>\n",
       "        <tr>\n",
       "            <td>CS007615000070</td>\n",
       "            <td>2975</td>\n",
       "        </tr>\n",
       "    </tbody>\n",
       "</table>"
      ],
      "text/plain": [
       "[('CS029212000033', 3604),\n",
       " ('CS007515000119', 7157),\n",
       " ('CS034515000123', 3699),\n",
       " ('CS026414000014', 6671),\n",
       " ('CS007615000070', 2975)]"
      ]
     },
     "execution_count": 73,
     "metadata": {},
     "output_type": "execute_result"
    }
   ],
   "source": [
    "%%sql\n",
    "\n",
    "--STEP1, customer_idについて、Zから始まる顧客を除く\n",
    "--STEP2, amountをcustomer_idごとに合計\n",
    "--STEP3, amountの全体平均を求める\n",
    "--STEP4, 全体平均amountとcustomerごとのamount合計値を比較して、平均以上に購入しているもののみ表示する\n",
    "\n",
    "WITH customer_data AS (\n",
    "    SELECT\n",
    "        customer_id,\n",
    "        amount\n",
    "    FROM\n",
    "        receipt\n",
    "    WHERE\n",
    "        customer_id NOT LIKE 'Z%'\n",
    "), sum_amount_by_customer AS (\n",
    "    SELECT\n",
    "        customer_id,\n",
    "        sum(amount) sum_amount\n",
    "    FROM\n",
    "        customer_data\n",
    "    GROUP BY\n",
    "        customer_id\n",
    "), avg_amount_for_all AS (\n",
    "    SELECT\n",
    "        avg(sum_amount) AS avg_amount\n",
    "    FROM\n",
    "        sum_amount_by_customer\n",
    ")\n",
    "SELECT\n",
    "    s.customer_id,\n",
    "    s.sum_amount\n",
    "FROM\n",
    "    sum_amount_by_customer s,\n",
    "    avg_amount_for_all a\n",
    "WHERE\n",
    "    s.sum_amount >= a.avg_amount\n",
    "LIMIT\n",
    "    5;    "
   ]
  },
  {
   "cell_type": "markdown",
   "metadata": {},
   "source": [
    "---\n",
    "> S-036: レシート明細データ（receipt）と店舗データ（store）を内部結合し、レシート明細データの全項目と店舗データの店舗名（store_name）を10件表示せよ。"
   ]
  },
  {
   "cell_type": "code",
   "execution_count": 78,
   "metadata": {},
   "outputs": [
    {
     "name": "stdout",
     "output_type": "stream",
     "text": [
      "*  postgresql://padawan:***@db:5432/dsdojo_db\n",
      "5 rows affected.\n"
     ]
    },
    {
     "data": {
      "text/html": [
       "<table>\n",
       "    <thead>\n",
       "        <tr>\n",
       "            <th>sales_ymd</th>\n",
       "            <th>sales_epoch</th>\n",
       "            <th>store_cd</th>\n",
       "            <th>receipt_no</th>\n",
       "            <th>receipt_sub_no</th>\n",
       "            <th>customer_id</th>\n",
       "            <th>product_cd</th>\n",
       "            <th>quantity</th>\n",
       "            <th>amount</th>\n",
       "            <th>store_name</th>\n",
       "        </tr>\n",
       "    </thead>\n",
       "    <tbody>\n",
       "        <tr>\n",
       "            <td>20181103</td>\n",
       "            <td>1541203200</td>\n",
       "            <td>S14006</td>\n",
       "            <td>112</td>\n",
       "            <td>1</td>\n",
       "            <td>CS006214000001</td>\n",
       "            <td>P070305012</td>\n",
       "            <td>1</td>\n",
       "            <td>158</td>\n",
       "            <td>葛が谷店</td>\n",
       "        </tr>\n",
       "        <tr>\n",
       "            <td>20181118</td>\n",
       "            <td>1542499200</td>\n",
       "            <td>S13008</td>\n",
       "            <td>1132</td>\n",
       "            <td>2</td>\n",
       "            <td>CS008415000097</td>\n",
       "            <td>P070701017</td>\n",
       "            <td>1</td>\n",
       "            <td>81</td>\n",
       "            <td>成城店</td>\n",
       "        </tr>\n",
       "        <tr>\n",
       "            <td>20170712</td>\n",
       "            <td>1499817600</td>\n",
       "            <td>S14028</td>\n",
       "            <td>1102</td>\n",
       "            <td>1</td>\n",
       "            <td>CS028414000014</td>\n",
       "            <td>P060101005</td>\n",
       "            <td>1</td>\n",
       "            <td>170</td>\n",
       "            <td>二ツ橋店</td>\n",
       "        </tr>\n",
       "        <tr>\n",
       "            <td>20190205</td>\n",
       "            <td>1549324800</td>\n",
       "            <td>S14042</td>\n",
       "            <td>1132</td>\n",
       "            <td>1</td>\n",
       "            <td>ZZ000000000000</td>\n",
       "            <td>P050301001</td>\n",
       "            <td>1</td>\n",
       "            <td>25</td>\n",
       "            <td>新山下店</td>\n",
       "        </tr>\n",
       "        <tr>\n",
       "            <td>20180821</td>\n",
       "            <td>1534809600</td>\n",
       "            <td>S14025</td>\n",
       "            <td>1102</td>\n",
       "            <td>2</td>\n",
       "            <td>CS025415000050</td>\n",
       "            <td>P060102007</td>\n",
       "            <td>1</td>\n",
       "            <td>90</td>\n",
       "            <td>大和店</td>\n",
       "        </tr>\n",
       "    </tbody>\n",
       "</table>"
      ],
      "text/plain": [
       "[(20181103, 1541203200, 'S14006', 112, 1, 'CS006214000001', 'P070305012', 1, 158, '葛が谷店'),\n",
       " (20181118, 1542499200, 'S13008', 1132, 2, 'CS008415000097', 'P070701017', 1, 81, '成城店'),\n",
       " (20170712, 1499817600, 'S14028', 1102, 1, 'CS028414000014', 'P060101005', 1, 170, '二ツ橋店'),\n",
       " (20190205, 1549324800, 'S14042', 1132, 1, 'ZZ000000000000', 'P050301001', 1, 25, '新山下店'),\n",
       " (20180821, 1534809600, 'S14025', 1102, 2, 'CS025415000050', 'P060102007', 1, 90, '大和店')]"
      ]
     },
     "execution_count": 78,
     "metadata": {},
     "output_type": "execute_result"
    }
   ],
   "source": [
    "%%sql\n",
    "\n",
    "SELECT\n",
    "    r.*,\n",
    "    s.store_name\n",
    "FROM\n",
    "    receipt r\n",
    "INNER JOIN\n",
    "    store s\n",
    "ON\n",
    "    r.store_cd = s.store_cd\n",
    "LIMIT\n",
    "    5\n",
    ";  "
   ]
  },
  {
   "cell_type": "markdown",
   "metadata": {},
   "source": [
    "---\n",
    "> S-037: 商品データ（product）とカテゴリデータ（category）を内部結合し、商品データの全項目とカテゴリデータのカテゴリ小区分名（category_small_name）を10件表示せよ。"
   ]
  },
  {
   "cell_type": "code",
   "execution_count": 81,
   "metadata": {},
   "outputs": [
    {
     "name": "stdout",
     "output_type": "stream",
     "text": [
      "*  postgresql://padawan:***@db:5432/dsdojo_db\n",
      "5 rows affected.\n"
     ]
    },
    {
     "data": {
      "text/html": [
       "<table>\n",
       "    <thead>\n",
       "        <tr>\n",
       "            <th>product_cd</th>\n",
       "            <th>category_major_cd</th>\n",
       "            <th>category_medium_cd</th>\n",
       "            <th>category_small_cd</th>\n",
       "            <th>unit_price</th>\n",
       "            <th>unit_cost</th>\n",
       "            <th>category_small_name</th>\n",
       "        </tr>\n",
       "    </thead>\n",
       "    <tbody>\n",
       "        <tr>\n",
       "            <td>P040101001</td>\n",
       "            <td>04</td>\n",
       "            <td>0401</td>\n",
       "            <td>040101</td>\n",
       "            <td>198</td>\n",
       "            <td>149</td>\n",
       "            <td>弁当類</td>\n",
       "        </tr>\n",
       "        <tr>\n",
       "            <td>P040101002</td>\n",
       "            <td>04</td>\n",
       "            <td>0401</td>\n",
       "            <td>040101</td>\n",
       "            <td>218</td>\n",
       "            <td>164</td>\n",
       "            <td>弁当類</td>\n",
       "        </tr>\n",
       "        <tr>\n",
       "            <td>P040101003</td>\n",
       "            <td>04</td>\n",
       "            <td>0401</td>\n",
       "            <td>040101</td>\n",
       "            <td>230</td>\n",
       "            <td>173</td>\n",
       "            <td>弁当類</td>\n",
       "        </tr>\n",
       "        <tr>\n",
       "            <td>P040101004</td>\n",
       "            <td>04</td>\n",
       "            <td>0401</td>\n",
       "            <td>040101</td>\n",
       "            <td>248</td>\n",
       "            <td>186</td>\n",
       "            <td>弁当類</td>\n",
       "        </tr>\n",
       "        <tr>\n",
       "            <td>P040101005</td>\n",
       "            <td>04</td>\n",
       "            <td>0401</td>\n",
       "            <td>040101</td>\n",
       "            <td>268</td>\n",
       "            <td>201</td>\n",
       "            <td>弁当類</td>\n",
       "        </tr>\n",
       "    </tbody>\n",
       "</table>"
      ],
      "text/plain": [
       "[('P040101001', '04', '0401', '040101', 198, 149, '弁当類'),\n",
       " ('P040101002', '04', '0401', '040101', 218, 164, '弁当類'),\n",
       " ('P040101003', '04', '0401', '040101', 230, 173, '弁当類'),\n",
       " ('P040101004', '04', '0401', '040101', 248, 186, '弁当類'),\n",
       " ('P040101005', '04', '0401', '040101', 268, 201, '弁当類')]"
      ]
     },
     "execution_count": 81,
     "metadata": {},
     "output_type": "execute_result"
    }
   ],
   "source": [
    "%%sql\n",
    "\n",
    "SELECT\n",
    "    p.*,\n",
    "    c.category_small_name\n",
    "FROM\n",
    "    product p\n",
    "INNER JOIN\n",
    "    category c\n",
    "ON\n",
    "    p.category_small_cd = c.category_small_cd\n",
    "LIMIT\n",
    "    5\n",
    ";"
   ]
  },
  {
   "cell_type": "markdown",
   "metadata": {},
   "source": [
    "---\n",
    "> S-038: 顧客データ（customer）とレシート明細データ（receipt）から、顧客ごとの売上金額合計を求め、10件表示せよ。ただし、売上実績がない顧客については売上金額を0として表示させること。また、顧客は性別コード（gender_cd）が女性（1）であるものを対象とし、非会員（顧客IDが\"Z\"から始まるもの）は除外すること。"
   ]
  },
  {
   "cell_type": "code",
   "execution_count": 91,
   "metadata": {},
   "outputs": [
    {
     "name": "stdout",
     "output_type": "stream",
     "text": [
      "*  postgresql://padawan:***@db:5432/dsdojo_db\n",
      "5 rows affected.\n"
     ]
    },
    {
     "data": {
      "text/html": [
       "<table>\n",
       "    <thead>\n",
       "        <tr>\n",
       "            <th>customer_id</th>\n",
       "            <th>coalesce</th>\n",
       "        </tr>\n",
       "    </thead>\n",
       "    <tbody>\n",
       "        <tr>\n",
       "            <td>CS021313000114</td>\n",
       "            <td>0</td>\n",
       "        </tr>\n",
       "        <tr>\n",
       "            <td>CS031415000172</td>\n",
       "            <td>5088</td>\n",
       "        </tr>\n",
       "        <tr>\n",
       "            <td>CS028811000001</td>\n",
       "            <td>0</td>\n",
       "        </tr>\n",
       "        <tr>\n",
       "            <td>CS001215000145</td>\n",
       "            <td>875</td>\n",
       "        </tr>\n",
       "        <tr>\n",
       "            <td>CS015414000103</td>\n",
       "            <td>3122</td>\n",
       "        </tr>\n",
       "    </tbody>\n",
       "</table>"
      ],
      "text/plain": [
       "[('CS021313000114', 0),\n",
       " ('CS031415000172', 5088),\n",
       " ('CS028811000001', 0),\n",
       " ('CS001215000145', 875),\n",
       " ('CS015414000103', 3122)]"
      ]
     },
     "execution_count": 91,
     "metadata": {},
     "output_type": "execute_result"
    }
   ],
   "source": [
    "%%sql\n",
    "\n",
    "-- STEP1, 顧客ごとの売上金額合計を出す\n",
    "-- STEP2, 対象を女性、非会員は除外する\n",
    "-- STEP3, 顧客データとレシートデータ結合\n",
    "\n",
    "WITH customer_amount AS (\n",
    "    SELECT\n",
    "        customer_id,\n",
    "        SUM(amount) sum_amount\n",
    "    FROM\n",
    "        receipt\n",
    "    GROUP BY\n",
    "        customer_id\n",
    "), customer_data AS (\n",
    "    SELECT\n",
    "        customer_id,\n",
    "        gender_cd\n",
    "    FROM\n",
    "        customer\n",
    "    WHERE\n",
    "        customer_id NOT LIKE 'Z%'\n",
    "        AND gender_cd = '1'\n",
    ")\n",
    "SELECT\n",
    "    cd.customer_id,\n",
    "    COALESCE(ca.sum_amount, 0)\n",
    "FROM\n",
    "    customer_data cd\n",
    "LEFT JOIN\n",
    "    customer_amount ca\n",
    "ON\n",
    "    cd.customer_id = ca.customer_id\n",
    "LIMIT\n",
    "    5\n",
    ";"
   ]
  },
  {
   "cell_type": "markdown",
   "metadata": {},
   "source": [
    "---\n",
    "> S-039: レシート明細データ（receipt）から、売上日数の多い顧客の上位20件を抽出したデータと、売上金額合計の多い顧客の上位20件を抽出したデータをそれぞれ作成し、さらにその2つを完全外部結合せよ。ただし、非会員（顧客IDが\"Z\"から始まるもの）は除外すること。"
   ]
  },
  {
   "cell_type": "code",
   "execution_count": 101,
   "metadata": {},
   "outputs": [
    {
     "name": "stdout",
     "output_type": "stream",
     "text": [
      "*  postgresql://padawan:***@db:5432/dsdojo_db\n",
      "34 rows affected.\n"
     ]
    },
    {
     "data": {
      "text/html": [
       "<table>\n",
       "    <thead>\n",
       "        <tr>\n",
       "            <th>customer_id</th>\n",
       "            <th>days</th>\n",
       "            <th>sum_amount</th>\n",
       "        </tr>\n",
       "    </thead>\n",
       "    <tbody>\n",
       "        <tr>\n",
       "            <td>CS040214000008</td>\n",
       "            <td>23</td>\n",
       "            <td>None</td>\n",
       "        </tr>\n",
       "        <tr>\n",
       "            <td>CS015415000185</td>\n",
       "            <td>22</td>\n",
       "            <td>20153</td>\n",
       "        </tr>\n",
       "        <tr>\n",
       "            <td>CS010214000010</td>\n",
       "            <td>22</td>\n",
       "            <td>18585</td>\n",
       "        </tr>\n",
       "        <tr>\n",
       "            <td>CS028415000007</td>\n",
       "            <td>21</td>\n",
       "            <td>19127</td>\n",
       "        </tr>\n",
       "        <tr>\n",
       "            <td>CS010214000002</td>\n",
       "            <td>21</td>\n",
       "            <td>None</td>\n",
       "        </tr>\n",
       "        <tr>\n",
       "            <td>CS017415000097</td>\n",
       "            <td>20</td>\n",
       "            <td>23086</td>\n",
       "        </tr>\n",
       "        <tr>\n",
       "            <td>CS016415000141</td>\n",
       "            <td>20</td>\n",
       "            <td>18372</td>\n",
       "        </tr>\n",
       "        <tr>\n",
       "            <td>CS021514000045</td>\n",
       "            <td>19</td>\n",
       "            <td>None</td>\n",
       "        </tr>\n",
       "        <tr>\n",
       "            <td>CS022515000226</td>\n",
       "            <td>19</td>\n",
       "            <td>None</td>\n",
       "        </tr>\n",
       "        <tr>\n",
       "            <td>CS031414000051</td>\n",
       "            <td>19</td>\n",
       "            <td>19202</td>\n",
       "        </tr>\n",
       "        <tr>\n",
       "            <td>CS039414000052</td>\n",
       "            <td>19</td>\n",
       "            <td>None</td>\n",
       "        </tr>\n",
       "        <tr>\n",
       "            <td>CS014214000023</td>\n",
       "            <td>19</td>\n",
       "            <td>None</td>\n",
       "        </tr>\n",
       "        <tr>\n",
       "            <td>CS021515000172</td>\n",
       "            <td>19</td>\n",
       "            <td>None</td>\n",
       "        </tr>\n",
       "        <tr>\n",
       "            <td>CS031414000073</td>\n",
       "            <td>18</td>\n",
       "            <td>None</td>\n",
       "        </tr>\n",
       "        <tr>\n",
       "            <td>CS007515000107</td>\n",
       "            <td>18</td>\n",
       "            <td>None</td>\n",
       "        </tr>\n",
       "        <tr>\n",
       "            <td>CS014415000077</td>\n",
       "            <td>18</td>\n",
       "            <td>None</td>\n",
       "        </tr>\n",
       "        <tr>\n",
       "            <td>CS021515000056</td>\n",
       "            <td>18</td>\n",
       "            <td>None</td>\n",
       "        </tr>\n",
       "        <tr>\n",
       "            <td>CS032415000209</td>\n",
       "            <td>18</td>\n",
       "            <td>None</td>\n",
       "        </tr>\n",
       "        <tr>\n",
       "            <td>CS021515000211</td>\n",
       "            <td>18</td>\n",
       "            <td>None</td>\n",
       "        </tr>\n",
       "        <tr>\n",
       "            <td>CS022515000028</td>\n",
       "            <td>18</td>\n",
       "            <td>None</td>\n",
       "        </tr>\n",
       "        <tr>\n",
       "            <td>CS011415000006</td>\n",
       "            <td>None</td>\n",
       "            <td>16094</td>\n",
       "        </tr>\n",
       "        <tr>\n",
       "            <td>CS016415000101</td>\n",
       "            <td>None</td>\n",
       "            <td>16348</td>\n",
       "        </tr>\n",
       "        <tr>\n",
       "            <td>CS030415000034</td>\n",
       "            <td>None</td>\n",
       "            <td>15468</td>\n",
       "        </tr>\n",
       "        <tr>\n",
       "            <td>CS021515000089</td>\n",
       "            <td>None</td>\n",
       "            <td>17580</td>\n",
       "        </tr>\n",
       "        <tr>\n",
       "            <td>CS034415000047</td>\n",
       "            <td>None</td>\n",
       "            <td>16083</td>\n",
       "        </tr>\n",
       "        <tr>\n",
       "            <td>CS006515000023</td>\n",
       "            <td>None</td>\n",
       "            <td>18372</td>\n",
       "        </tr>\n",
       "        <tr>\n",
       "            <td>CS038415000104</td>\n",
       "            <td>None</td>\n",
       "            <td>17847</td>\n",
       "        </tr>\n",
       "        <tr>\n",
       "            <td>CS015515000034</td>\n",
       "            <td>None</td>\n",
       "            <td>15300</td>\n",
       "        </tr>\n",
       "        <tr>\n",
       "            <td>CS032414000072</td>\n",
       "            <td>None</td>\n",
       "            <td>16563</td>\n",
       "        </tr>\n",
       "        <tr>\n",
       "            <td>CS011414000106</td>\n",
       "            <td>None</td>\n",
       "            <td>18338</td>\n",
       "        </tr>\n",
       "        <tr>\n",
       "            <td>CS001605000009</td>\n",
       "            <td>None</td>\n",
       "            <td>18925</td>\n",
       "        </tr>\n",
       "        <tr>\n",
       "            <td>CS009414000059</td>\n",
       "            <td>None</td>\n",
       "            <td>15492</td>\n",
       "        </tr>\n",
       "        <tr>\n",
       "            <td>CS035414000024</td>\n",
       "            <td>None</td>\n",
       "            <td>17615</td>\n",
       "        </tr>\n",
       "        <tr>\n",
       "            <td>CS007514000094</td>\n",
       "            <td>None</td>\n",
       "            <td>15735</td>\n",
       "        </tr>\n",
       "    </tbody>\n",
       "</table>"
      ],
      "text/plain": [
       "[('CS040214000008', 23, None),\n",
       " ('CS015415000185', 22, 20153),\n",
       " ('CS010214000010', 22, 18585),\n",
       " ('CS028415000007', 21, 19127),\n",
       " ('CS010214000002', 21, None),\n",
       " ('CS017415000097', 20, 23086),\n",
       " ('CS016415000141', 20, 18372),\n",
       " ('CS021514000045', 19, None),\n",
       " ('CS022515000226', 19, None),\n",
       " ('CS031414000051', 19, 19202),\n",
       " ('CS039414000052', 19, None),\n",
       " ('CS014214000023', 19, None),\n",
       " ('CS021515000172', 19, None),\n",
       " ('CS031414000073', 18, None),\n",
       " ('CS007515000107', 18, None),\n",
       " ('CS014415000077', 18, None),\n",
       " ('CS021515000056', 18, None),\n",
       " ('CS032415000209', 18, None),\n",
       " ('CS021515000211', 18, None),\n",
       " ('CS022515000028', 18, None),\n",
       " ('CS011415000006', None, 16094),\n",
       " ('CS016415000101', None, 16348),\n",
       " ('CS030415000034', None, 15468),\n",
       " ('CS021515000089', None, 17580),\n",
       " ('CS034415000047', None, 16083),\n",
       " ('CS006515000023', None, 18372),\n",
       " ('CS038415000104', None, 17847),\n",
       " ('CS015515000034', None, 15300),\n",
       " ('CS032414000072', None, 16563),\n",
       " ('CS011414000106', None, 18338),\n",
       " ('CS001605000009', None, 18925),\n",
       " ('CS009414000059', None, 15492),\n",
       " ('CS035414000024', None, 17615),\n",
       " ('CS007514000094', None, 15735)]"
      ]
     },
     "execution_count": 101,
     "metadata": {},
     "output_type": "execute_result"
    }
   ],
   "source": [
    "%%sql\n",
    "\n",
    "WITH customer_data AS (\n",
    "    SELECT\n",
    "        *\n",
    "    FROM\n",
    "        receipt\n",
    "    WHERE\n",
    "        customer_id NOT LIKE 'Z%'\n",
    "), customer_days AS (\n",
    "    SELECT \n",
    "        customer_id,\n",
    "        COUNT(DISTINCT sales_ymd) AS days\n",
    "    FROM\n",
    "        customer_data\n",
    "    GROUP BY\n",
    "        customer_id\n",
    "    ORDER BY\n",
    "        days DESC\n",
    "    LIMIT\n",
    "        20\n",
    "), customer_amount AS (\n",
    "    SELECT\n",
    "        customer_id,\n",
    "        SUM(amount) sum_amount\n",
    "    FROM\n",
    "        customer_data\n",
    "    GROUP BY\n",
    "        customer_id\n",
    "    ORDER BY\n",
    "        sum_amount DESC\n",
    "    LIMIT\n",
    "        20\n",
    ")\n",
    "SELECT\n",
    "    COALESCE(cd.customer_id, ca.customer_id) AS customer_id,\n",
    "    cd.days,\n",
    "    ca.sum_amount\n",
    "FROM\n",
    "    customer_days cd\n",
    "FULL OUTER JOIN\n",
    "    customer_amount ca\n",
    "ON \n",
    "    cd.customer_id = ca.customer_id\n",
    ";"
   ]
  },
  {
   "cell_type": "markdown",
   "metadata": {},
   "source": [
    "---\n",
    "> S-040: 全ての店舗と全ての商品を組み合わせたデータを作成したい。店舗データ（store）と商品データ（product）を直積し、件数を計算せよ。"
   ]
  },
  {
   "cell_type": "code",
   "execution_count": 103,
   "metadata": {},
   "outputs": [
    {
     "name": "stdout",
     "output_type": "stream",
     "text": [
      "*  postgresql://padawan:***@db:5432/dsdojo_db\n",
      "1 rows affected.\n"
     ]
    },
    {
     "data": {
      "text/html": [
       "<table>\n",
       "    <thead>\n",
       "        <tr>\n",
       "            <th>count</th>\n",
       "        </tr>\n",
       "    </thead>\n",
       "    <tbody>\n",
       "        <tr>\n",
       "            <td>531590</td>\n",
       "        </tr>\n",
       "    </tbody>\n",
       "</table>"
      ],
      "text/plain": [
       "[(531590,)]"
      ]
     },
     "execution_count": 103,
     "metadata": {},
     "output_type": "execute_result"
    }
   ],
   "source": [
    "%%sql\n",
    "\n",
    "SELECT\n",
    "    COUNT(*)\n",
    "FROM\n",
    "    store\n",
    "CROSS JOIN\n",
    "    product\n",
    "LIMIT\n",
    "    5\n",
    ";\n",
    "\n",
    "-- 21問目-40問目：1時間38分20秒（2回目のチャレンジ）"
   ]
  },
  {
   "cell_type": "markdown",
   "metadata": {},
   "source": [
    "---\n",
    "> S-041: レシート明細データ（receipt）の売上金額（amount）を日付（sales_ymd）ごとに集計し、前回売上があった日からの売上金額増減を計算せよ。そして結果を10件表示せよ。"
   ]
  },
  {
   "cell_type": "code",
   "execution_count": 7,
   "metadata": {},
   "outputs": [
    {
     "name": "stdout",
     "output_type": "stream",
     "text": [
      "*  postgresql://padawan:***@db:5432/dsdojo_db\n",
      "3 rows affected.\n"
     ]
    },
    {
     "data": {
      "text/html": [
       "<table>\n",
       "    <thead>\n",
       "        <tr>\n",
       "            <th>sales_ymd</th>\n",
       "            <th>sum_amount</th>\n",
       "            <th>sales_ymd_lag1</th>\n",
       "            <th>sum_amount_lag1</th>\n",
       "            <th>diff</th>\n",
       "        </tr>\n",
       "    </thead>\n",
       "    <tbody>\n",
       "        <tr>\n",
       "            <td>20170101</td>\n",
       "            <td>33723</td>\n",
       "            <td>None</td>\n",
       "            <td>None</td>\n",
       "            <td>None</td>\n",
       "        </tr>\n",
       "        <tr>\n",
       "            <td>20170102</td>\n",
       "            <td>24165</td>\n",
       "            <td>20170101</td>\n",
       "            <td>33723</td>\n",
       "            <td>-9558</td>\n",
       "        </tr>\n",
       "        <tr>\n",
       "            <td>20170103</td>\n",
       "            <td>27503</td>\n",
       "            <td>20170102</td>\n",
       "            <td>24165</td>\n",
       "            <td>3338</td>\n",
       "        </tr>\n",
       "    </tbody>\n",
       "</table>"
      ],
      "text/plain": [
       "[(20170101, 33723, None, None, None),\n",
       " (20170102, 24165, 20170101, 33723, -9558),\n",
       " (20170103, 27503, 20170102, 24165, 3338)]"
      ]
     },
     "execution_count": 7,
     "metadata": {},
     "output_type": "execute_result"
    }
   ],
   "source": [
    "%%sql\n",
    "\n",
    "WITH sales_amount_by_date AS (\n",
    "    SELECT\n",
    "        sales_ymd,\n",
    "        SUM(amount) AS sum_amount\n",
    "    FROM\n",
    "        receipt\n",
    "    GROUP BY\n",
    "        sales_ymd\n",
    ")\n",
    "SELECT \n",
    "    sales_ymd,\n",
    "    sum_amount,\n",
    "    LAG(sales_ymd, 1) OVER(ORDER BY sales_ymd ASC) AS sales_ymd_lag1,\n",
    "    LAG(sum_amount, 1) OVER(ORDER BY sales_ymd ASC) AS sum_amount_lag1,\n",
    "    sum_amount - LAG(sum_amount, 1) OVER(ORDER BY sales_ymd ASC) AS diff\n",
    "FROM\n",
    "    sales_amount_by_date\n",
    "LIMIT\n",
    "    3;"
   ]
  },
  {
   "cell_type": "markdown",
   "metadata": {},
   "source": [
    "---\n",
    "> S-042: レシート明細データ（receipt）の売上金額（amount）を日付（sales_ymd）ごとに集計し、各日付のデータに対し、前回、前々回、3回前に売上があった日のデータを結合せよ。そして結果を10件表示せよ。"
   ]
  },
  {
   "cell_type": "code",
   "execution_count": 9,
   "metadata": {},
   "outputs": [
    {
     "name": "stdout",
     "output_type": "stream",
     "text": [
      "*  postgresql://padawan:***@db:5432/dsdojo_db\n",
      "3 rows affected.\n"
     ]
    },
    {
     "data": {
      "text/html": [
       "<table>\n",
       "    <thead>\n",
       "        <tr>\n",
       "            <th>sales_ymd</th>\n",
       "            <th>sum_amount</th>\n",
       "            <th>sum_amount_lag1</th>\n",
       "            <th>sum_amount_lag2</th>\n",
       "            <th>sum_amount_lag3</th>\n",
       "        </tr>\n",
       "    </thead>\n",
       "    <tbody>\n",
       "        <tr>\n",
       "            <td>20170101</td>\n",
       "            <td>33723</td>\n",
       "            <td>None</td>\n",
       "            <td>None</td>\n",
       "            <td>None</td>\n",
       "        </tr>\n",
       "        <tr>\n",
       "            <td>20170102</td>\n",
       "            <td>24165</td>\n",
       "            <td>33723</td>\n",
       "            <td>None</td>\n",
       "            <td>None</td>\n",
       "        </tr>\n",
       "        <tr>\n",
       "            <td>20170103</td>\n",
       "            <td>27503</td>\n",
       "            <td>24165</td>\n",
       "            <td>33723</td>\n",
       "            <td>None</td>\n",
       "        </tr>\n",
       "    </tbody>\n",
       "</table>"
      ],
      "text/plain": [
       "[(20170101, 33723, None, None, None),\n",
       " (20170102, 24165, 33723, None, None),\n",
       " (20170103, 27503, 24165, 33723, None)]"
      ]
     },
     "execution_count": 9,
     "metadata": {},
     "output_type": "execute_result"
    }
   ],
   "source": [
    "%%sql\n",
    "\n",
    "--amountを日付ごとに集計\n",
    "--前回、前々回、3回前月のテーブルをSELECT\n",
    "\n",
    "WITH sales_amount_by_date AS (\n",
    "    SELECT\n",
    "        sales_ymd,\n",
    "        SUM(amount) AS sum_amount\n",
    "    FROM\n",
    "        receipt\n",
    "    GROUP BY\n",
    "        sales_ymd\n",
    ")\n",
    "SELECT\n",
    "    sales_ymd,\n",
    "    sum_amount,\n",
    "    LAG(sum_amount, 1) OVER(ORDER BY sales_ymd ASC) AS sum_amount_lag1,\n",
    "    LAG(sum_amount, 2) OVER(ORDER BY sales_ymd ASC) AS sum_amount_lag2,\n",
    "    LAG(sum_amount, 3) OVER(ORDER BY sales_ymd ASC) AS sum_amount_lag3\n",
    "FROM\n",
    "    sales_amount_by_date\n",
    "LIMIT\n",
    "    3;\n",
    "    "
   ]
  },
  {
   "cell_type": "markdown",
   "metadata": {},
   "source": [
    "---\n",
    "> S-043: レシート明細データ（receipt）と顧客データ（customer）を結合し、性別コード（gender_cd）と年代（ageから計算）ごとに売上金額（amount）を合計した売上サマリデータを作成せよ。性別コードは0が男性、1が女性、9が不明を表すものとする。\n",
    ">\n",
    "> ただし、項目構成は年代、女性の売上金額、男性の売上金額、性別不明の売上金額の4項目とすること（縦に年代、横に性別のクロス集計）。また、年代は10歳ごとの階級とすること。"
   ]
  },
  {
   "cell_type": "code",
   "execution_count": 30,
   "metadata": {},
   "outputs": [
    {
     "name": "stdout",
     "output_type": "stream",
     "text": [
      "*  postgresql://padawan:***@db:5432/dsdojo_db\n",
      "Done.\n",
      "10 rows affected.\n",
      "3 rows affected.\n"
     ]
    },
    {
     "data": {
      "text/html": [
       "<table>\n",
       "    <thead>\n",
       "        <tr>\n",
       "            <th>era</th>\n",
       "            <th>male</th>\n",
       "            <th>female</th>\n",
       "            <th>unknown</th>\n",
       "        </tr>\n",
       "    </thead>\n",
       "    <tbody>\n",
       "        <tr>\n",
       "            <td>10.0</td>\n",
       "            <td>1591</td>\n",
       "            <td>149836</td>\n",
       "            <td>4317</td>\n",
       "        </tr>\n",
       "        <tr>\n",
       "            <td>20.0</td>\n",
       "            <td>72940</td>\n",
       "            <td>1363724</td>\n",
       "            <td>44328</td>\n",
       "        </tr>\n",
       "        <tr>\n",
       "            <td>30.0</td>\n",
       "            <td>177322</td>\n",
       "            <td>693047</td>\n",
       "            <td>50441</td>\n",
       "        </tr>\n",
       "    </tbody>\n",
       "</table>"
      ],
      "text/plain": [
       "[(10.0, Decimal('1591'), Decimal('149836'), Decimal('4317')),\n",
       " (20.0, Decimal('72940'), Decimal('1363724'), Decimal('44328')),\n",
       " (30.0, Decimal('177322'), Decimal('693047'), Decimal('50441'))]"
      ]
     },
     "execution_count": 30,
     "metadata": {},
     "output_type": "execute_result"
    }
   ],
   "source": [
    "%%sql\n",
    "\n",
    "--customer_idごとにamountを合計(receipt tableから)\n",
    "--customer tableとcustomer_idで結合(gender, ageを取得)\n",
    "--ageを10年代ずつに変換\n",
    "--CASE文でgenderの番号ごとに1ならsum_amountをAS maleのコラムに加算。SELECTでeraも書いておく。\n",
    "\n",
    "DROP TABLE IF EXISTS customer_1;\n",
    "\n",
    "CREATE TABLE customer_1 AS\n",
    "    WITH sum_amount_by_customer AS (\n",
    "        SELECT\n",
    "            c.gender_cd,\n",
    "            TRUNC(c.age / 10) * 10 AS era,\n",
    "            SUM(r.amount) AS sum_amount\n",
    "        FROM\n",
    "            receipt r\n",
    "        LEFT JOIN\n",
    "            customer c\n",
    "        ON\n",
    "            r.customer_id = c.customer_id\n",
    "        GROUP BY\n",
    "            gender_cd,\n",
    "            era\n",
    "    )\n",
    "    SELECT\n",
    "        era,\n",
    "        SUM(CASE WHEN gender_cd = '0' THEN sum_amount END) AS male,\n",
    "        SUM(CASE WHEN gender_cd = '1' THEN sum_amount END) AS female,\n",
    "        SUM(CASE WHEN gender_cd = '9' THEN sum_amount END) AS unknown\n",
    "    FROM\n",
    "        sum_amount_by_customer\n",
    "    GROUP BY\n",
    "        era\n",
    "    ORDER BY\n",
    "        era\n",
    ";\n",
    "\n",
    "SELECT\n",
    "    *\n",
    "FROM\n",
    "    customer_1\n",
    "LIMIT\n",
    "    3\n",
    ";"
   ]
  },
  {
   "cell_type": "markdown",
   "metadata": {},
   "source": [
    "---\n",
    "> S-044: 043で作成した売上サマリデータ（sales_summary）は性別の売上を横持ちさせたものであった。このデータから性別を縦持ちさせ、年代、性別コード、売上金額の3項目に変換せよ。ただし、性別コードは男性を\"00\"、女性を\"01\"、不明を\"99\"とする。"
   ]
  },
  {
   "cell_type": "code",
   "execution_count": 36,
   "metadata": {},
   "outputs": [
    {
     "name": "stdout",
     "output_type": "stream",
     "text": [
      "*  postgresql://padawan:***@db:5432/dsdojo_db\n",
      "30 rows affected.\n"
     ]
    },
    {
     "data": {
      "text/html": [
       "<table>\n",
       "    <thead>\n",
       "        <tr>\n",
       "            <th>era</th>\n",
       "            <th>gender_cd</th>\n",
       "            <th>amount</th>\n",
       "        </tr>\n",
       "    </thead>\n",
       "    <tbody>\n",
       "        <tr>\n",
       "            <td>20.0</td>\n",
       "            <td>99</td>\n",
       "            <td>44328</td>\n",
       "        </tr>\n",
       "        <tr>\n",
       "            <td>90.0</td>\n",
       "            <td>00</td>\n",
       "            <td>None</td>\n",
       "        </tr>\n",
       "        <tr>\n",
       "            <td>None</td>\n",
       "            <td>00</td>\n",
       "            <td>None</td>\n",
       "        </tr>\n",
       "        <tr>\n",
       "            <td>60.0</td>\n",
       "            <td>01</td>\n",
       "            <td>987741</td>\n",
       "        </tr>\n",
       "        <tr>\n",
       "            <td>50.0</td>\n",
       "            <td>00</td>\n",
       "            <td>54320</td>\n",
       "        </tr>\n",
       "        <tr>\n",
       "            <td>80.0</td>\n",
       "            <td>99</td>\n",
       "            <td>5111</td>\n",
       "        </tr>\n",
       "        <tr>\n",
       "            <td>20.0</td>\n",
       "            <td>00</td>\n",
       "            <td>72940</td>\n",
       "        </tr>\n",
       "        <tr>\n",
       "            <td>10.0</td>\n",
       "            <td>99</td>\n",
       "            <td>4317</td>\n",
       "        </tr>\n",
       "        <tr>\n",
       "            <td>30.0</td>\n",
       "            <td>01</td>\n",
       "            <td>693047</td>\n",
       "        </tr>\n",
       "        <tr>\n",
       "            <td>None</td>\n",
       "            <td>99</td>\n",
       "            <td>None</td>\n",
       "        </tr>\n",
       "        <tr>\n",
       "            <td>90.0</td>\n",
       "            <td>01</td>\n",
       "            <td>6260</td>\n",
       "        </tr>\n",
       "        <tr>\n",
       "            <td>30.0</td>\n",
       "            <td>99</td>\n",
       "            <td>50441</td>\n",
       "        </tr>\n",
       "        <tr>\n",
       "            <td>10.0</td>\n",
       "            <td>00</td>\n",
       "            <td>1591</td>\n",
       "        </tr>\n",
       "        <tr>\n",
       "            <td>70.0</td>\n",
       "            <td>00</td>\n",
       "            <td>13435</td>\n",
       "        </tr>\n",
       "        <tr>\n",
       "            <td>40.0</td>\n",
       "            <td>01</td>\n",
       "            <td>9320791</td>\n",
       "        </tr>\n",
       "        <tr>\n",
       "            <td>10.0</td>\n",
       "            <td>01</td>\n",
       "            <td>149836</td>\n",
       "        </tr>\n",
       "        <tr>\n",
       "            <td>70.0</td>\n",
       "            <td>01</td>\n",
       "            <td>29764</td>\n",
       "        </tr>\n",
       "        <tr>\n",
       "            <td>40.0</td>\n",
       "            <td>00</td>\n",
       "            <td>19355</td>\n",
       "        </tr>\n",
       "        <tr>\n",
       "            <td>30.0</td>\n",
       "            <td>00</td>\n",
       "            <td>177322</td>\n",
       "        </tr>\n",
       "        <tr>\n",
       "            <td>60.0</td>\n",
       "            <td>00</td>\n",
       "            <td>272469</td>\n",
       "        </tr>\n",
       "        <tr>\n",
       "            <td>90.0</td>\n",
       "            <td>99</td>\n",
       "            <td>None</td>\n",
       "        </tr>\n",
       "        <tr>\n",
       "            <td>80.0</td>\n",
       "            <td>00</td>\n",
       "            <td>46360</td>\n",
       "        </tr>\n",
       "        <tr>\n",
       "            <td>50.0</td>\n",
       "            <td>01</td>\n",
       "            <td>6685192</td>\n",
       "        </tr>\n",
       "        <tr>\n",
       "            <td>None</td>\n",
       "            <td>01</td>\n",
       "            <td>None</td>\n",
       "        </tr>\n",
       "        <tr>\n",
       "            <td>50.0</td>\n",
       "            <td>99</td>\n",
       "            <td>342923</td>\n",
       "        </tr>\n",
       "        <tr>\n",
       "            <td>40.0</td>\n",
       "            <td>99</td>\n",
       "            <td>483512</td>\n",
       "        </tr>\n",
       "        <tr>\n",
       "            <td>20.0</td>\n",
       "            <td>01</td>\n",
       "            <td>1363724</td>\n",
       "        </tr>\n",
       "        <tr>\n",
       "            <td>70.0</td>\n",
       "            <td>99</td>\n",
       "            <td>2427</td>\n",
       "        </tr>\n",
       "        <tr>\n",
       "            <td>80.0</td>\n",
       "            <td>01</td>\n",
       "            <td>262923</td>\n",
       "        </tr>\n",
       "        <tr>\n",
       "            <td>60.0</td>\n",
       "            <td>99</td>\n",
       "            <td>71418</td>\n",
       "        </tr>\n",
       "    </tbody>\n",
       "</table>"
      ],
      "text/plain": [
       "[(20.0, '99', Decimal('44328')),\n",
       " (90.0, '00', None),\n",
       " (None, '00', None),\n",
       " (60.0, '01', Decimal('987741')),\n",
       " (50.0, '00', Decimal('54320')),\n",
       " (80.0, '99', Decimal('5111')),\n",
       " (20.0, '00', Decimal('72940')),\n",
       " (10.0, '99', Decimal('4317')),\n",
       " (30.0, '01', Decimal('693047')),\n",
       " (None, '99', None),\n",
       " (90.0, '01', Decimal('6260')),\n",
       " (30.0, '99', Decimal('50441')),\n",
       " (10.0, '00', Decimal('1591')),\n",
       " (70.0, '00', Decimal('13435')),\n",
       " (40.0, '01', Decimal('9320791')),\n",
       " (10.0, '01', Decimal('149836')),\n",
       " (70.0, '01', Decimal('29764')),\n",
       " (40.0, '00', Decimal('19355')),\n",
       " (30.0, '00', Decimal('177322')),\n",
       " (60.0, '00', Decimal('272469')),\n",
       " (90.0, '99', None),\n",
       " (80.0, '00', Decimal('46360')),\n",
       " (50.0, '01', Decimal('6685192')),\n",
       " (None, '01', None),\n",
       " (50.0, '99', Decimal('342923')),\n",
       " (40.0, '99', Decimal('483512')),\n",
       " (20.0, '01', Decimal('1363724')),\n",
       " (70.0, '99', Decimal('2427')),\n",
       " (80.0, '01', Decimal('262923')),\n",
       " (60.0, '99', Decimal('71418'))]"
      ]
     },
     "execution_count": 36,
     "metadata": {},
     "output_type": "execute_result"
    }
   ],
   "source": [
    "%%sql\n",
    "\n",
    "SELECT \n",
    "    era, \n",
    "    '00' AS gender_cd, \n",
    "    male AS amount\n",
    "FROM \n",
    "    customer_1\n",
    "UNION\n",
    "SELECT\n",
    "    era,\n",
    "    '01' AS gender_cd,\n",
    "    female AS amount\n",
    "FROM\n",
    "    customer_1\n",
    "UNION\n",
    "SELECT\n",
    "    era,\n",
    "    '99' AS gender_cd,\n",
    "    unknown AS amount\n",
    "FROM\n",
    "    customer_1\n",
    ";\n",
    "    \n"
   ]
  },
  {
   "cell_type": "markdown",
   "metadata": {},
   "source": [
    "---\n",
    "> S-045: 顧客データ（customer）の生年月日（birth_day）は日付型でデータを保有している。これをYYYYMMDD形式の文字列に変換し、顧客ID（customer_id）とともに10件表示せよ。"
   ]
  },
  {
   "cell_type": "code",
   "execution_count": 38,
   "metadata": {},
   "outputs": [
    {
     "name": "stdout",
     "output_type": "stream",
     "text": [
      "*  postgresql://padawan:***@db:5432/dsdojo_db\n",
      "3 rows affected.\n"
     ]
    },
    {
     "data": {
      "text/html": [
       "<table>\n",
       "    <thead>\n",
       "        <tr>\n",
       "            <th>customer_id</th>\n",
       "            <th>birth_day</th>\n",
       "            <th>birth_day_varchar</th>\n",
       "        </tr>\n",
       "    </thead>\n",
       "    <tbody>\n",
       "        <tr>\n",
       "            <td>CS021313000114</td>\n",
       "            <td>1981-04-29</td>\n",
       "            <td>19810429</td>\n",
       "        </tr>\n",
       "        <tr>\n",
       "            <td>CS037613000071</td>\n",
       "            <td>1952-04-01</td>\n",
       "            <td>19520401</td>\n",
       "        </tr>\n",
       "        <tr>\n",
       "            <td>CS031415000172</td>\n",
       "            <td>1976-10-04</td>\n",
       "            <td>19761004</td>\n",
       "        </tr>\n",
       "    </tbody>\n",
       "</table>"
      ],
      "text/plain": [
       "[('CS021313000114', datetime.date(1981, 4, 29), '19810429'),\n",
       " ('CS037613000071', datetime.date(1952, 4, 1), '19520401'),\n",
       " ('CS031415000172', datetime.date(1976, 10, 4), '19761004')]"
      ]
     },
     "execution_count": 38,
     "metadata": {},
     "output_type": "execute_result"
    }
   ],
   "source": [
    "%%sql\n",
    "\n",
    "SELECT\n",
    "    customer_id,\n",
    "    birth_day,\n",
    "    TO_CHAR(birth_day, 'YYYYMMDD') AS birth_day_varchar\n",
    "FROM\n",
    "    customer\n",
    "LIMIT\n",
    "    3;"
   ]
  },
  {
   "cell_type": "markdown",
   "metadata": {},
   "source": [
    "---\n",
    "> S-046: 顧客データ（customer）の申し込み日（application_date）はYYYYMMDD形式の文字列型でデータを保有している。これを日付型に変換し、顧客ID（customer_id）とともに10件表示せよ。"
   ]
  },
  {
   "cell_type": "code",
   "execution_count": 39,
   "metadata": {},
   "outputs": [
    {
     "name": "stdout",
     "output_type": "stream",
     "text": [
      "*  postgresql://padawan:***@db:5432/dsdojo_db\n",
      "3 rows affected.\n"
     ]
    },
    {
     "data": {
      "text/html": [
       "<table>\n",
       "    <thead>\n",
       "        <tr>\n",
       "            <th>customer_id</th>\n",
       "            <th>application_date</th>\n",
       "            <th>application_date_timestamp</th>\n",
       "        </tr>\n",
       "    </thead>\n",
       "    <tbody>\n",
       "        <tr>\n",
       "            <td>CS021313000114</td>\n",
       "            <td>20150905</td>\n",
       "            <td>2015-09-05</td>\n",
       "        </tr>\n",
       "        <tr>\n",
       "            <td>CS037613000071</td>\n",
       "            <td>20150414</td>\n",
       "            <td>2015-04-14</td>\n",
       "        </tr>\n",
       "        <tr>\n",
       "            <td>CS031415000172</td>\n",
       "            <td>20150529</td>\n",
       "            <td>2015-05-29</td>\n",
       "        </tr>\n",
       "    </tbody>\n",
       "</table>"
      ],
      "text/plain": [
       "[('CS021313000114', '20150905', datetime.date(2015, 9, 5)),\n",
       " ('CS037613000071', '20150414', datetime.date(2015, 4, 14)),\n",
       " ('CS031415000172', '20150529', datetime.date(2015, 5, 29))]"
      ]
     },
     "execution_count": 39,
     "metadata": {},
     "output_type": "execute_result"
    }
   ],
   "source": [
    "%%sql\n",
    "\n",
    "SELECT\n",
    "    customer_id,\n",
    "    application_date,\n",
    "    TO_DATE(application_date, 'YYYYMMDD') AS application_date_timestamp\n",
    "FROM\n",
    "    customer\n",
    "LIMIT\n",
    "    3\n",
    ";"
   ]
  },
  {
   "cell_type": "markdown",
   "metadata": {},
   "source": [
    "---\n",
    "> S-047: レシート明細データ（receipt）の売上日（sales_ymd）はYYYYMMDD形式の数値型でデータを保有している。これを日付型に変換し、レシート番号(receipt_no)、レシートサブ番号（receipt_sub_no）とともに10件表示せよ。"
   ]
  },
  {
   "cell_type": "code",
   "execution_count": 43,
   "metadata": {},
   "outputs": [
    {
     "name": "stdout",
     "output_type": "stream",
     "text": [
      "*  postgresql://padawan:***@db:5432/dsdojo_db\n",
      "3 rows affected.\n"
     ]
    },
    {
     "data": {
      "text/html": [
       "<table>\n",
       "    <thead>\n",
       "        <tr>\n",
       "            <th>receipt_no</th>\n",
       "            <th>receipt_sub_no</th>\n",
       "            <th>sales_ymd</th>\n",
       "            <th>sales_ymd_datetype</th>\n",
       "        </tr>\n",
       "    </thead>\n",
       "    <tbody>\n",
       "        <tr>\n",
       "            <td>112</td>\n",
       "            <td>1</td>\n",
       "            <td>20181103</td>\n",
       "            <td>2018-11-03</td>\n",
       "        </tr>\n",
       "        <tr>\n",
       "            <td>1132</td>\n",
       "            <td>2</td>\n",
       "            <td>20181118</td>\n",
       "            <td>2018-11-18</td>\n",
       "        </tr>\n",
       "        <tr>\n",
       "            <td>1102</td>\n",
       "            <td>1</td>\n",
       "            <td>20170712</td>\n",
       "            <td>2017-07-12</td>\n",
       "        </tr>\n",
       "    </tbody>\n",
       "</table>"
      ],
      "text/plain": [
       "[(112, 1, 20181103, datetime.date(2018, 11, 3)),\n",
       " (1132, 2, 20181118, datetime.date(2018, 11, 18)),\n",
       " (1102, 1, 20170712, datetime.date(2017, 7, 12))]"
      ]
     },
     "execution_count": 43,
     "metadata": {},
     "output_type": "execute_result"
    }
   ],
   "source": [
    "%%sql\n",
    "\n",
    "SELECT\n",
    "    receipt_no,\n",
    "    receipt_sub_no,\n",
    "    sales_ymd,\n",
    "    TO_DATE(CAST(sales_ymd AS VARCHAR), 'YYYYMMDD') AS sales_ymd_datetype\n",
    "FROM\n",
    "    receipt\n",
    "LIMIT\n",
    "    3\n",
    ";"
   ]
  },
  {
   "cell_type": "markdown",
   "metadata": {},
   "source": [
    "---\n",
    "> S-048: レシート明細データ（receipt）の売上エポック秒（sales_epoch）は数値型のUNIX秒でデータを保有している。これを日付型に変換し、レシート番号(receipt_no)、レシートサブ番号（receipt_sub_no）とともに10件表示せよ。"
   ]
  },
  {
   "cell_type": "code",
   "execution_count": 47,
   "metadata": {},
   "outputs": [
    {
     "name": "stdout",
     "output_type": "stream",
     "text": [
      "*  postgresql://padawan:***@db:5432/dsdojo_db\n",
      "3 rows affected.\n"
     ]
    },
    {
     "data": {
      "text/html": [
       "<table>\n",
       "    <thead>\n",
       "        <tr>\n",
       "            <th>receipt_no</th>\n",
       "            <th>receipt_sub_no</th>\n",
       "            <th>sales_epoch</th>\n",
       "            <th>sales_date</th>\n",
       "        </tr>\n",
       "    </thead>\n",
       "    <tbody>\n",
       "        <tr>\n",
       "            <td>112</td>\n",
       "            <td>1</td>\n",
       "            <td>1541203200</td>\n",
       "            <td>2018-11-03</td>\n",
       "        </tr>\n",
       "        <tr>\n",
       "            <td>1132</td>\n",
       "            <td>2</td>\n",
       "            <td>1542499200</td>\n",
       "            <td>2018-11-18</td>\n",
       "        </tr>\n",
       "        <tr>\n",
       "            <td>1102</td>\n",
       "            <td>1</td>\n",
       "            <td>1499817600</td>\n",
       "            <td>2017-07-12</td>\n",
       "        </tr>\n",
       "    </tbody>\n",
       "</table>"
      ],
      "text/plain": [
       "[(112, 1, 1541203200, datetime.date(2018, 11, 3)),\n",
       " (1132, 2, 1542499200, datetime.date(2018, 11, 18)),\n",
       " (1102, 1, 1499817600, datetime.date(2017, 7, 12))]"
      ]
     },
     "execution_count": 47,
     "metadata": {},
     "output_type": "execute_result"
    }
   ],
   "source": [
    "%%sql\n",
    "\n",
    "SELECT\n",
    "    receipt_no,\n",
    "    receipt_sub_no,\n",
    "    sales_epoch,\n",
    "    CAST(TO_TIMESTAMP(sales_epoch) AS DATE) AS sales_date\n",
    "FROM\n",
    "    receipt\n",
    "LIMIT\n",
    "    3;"
   ]
  },
  {
   "cell_type": "markdown",
   "metadata": {},
   "source": [
    "---\n",
    "> S-049: レシート明細データ（receipt）の売上エポック秒（sales_epoch）を日付型に変換し、「年」だけ取り出してレシート番号(receipt_no)、レシートサブ番号（receipt_sub_no）とともに10件表示せよ。"
   ]
  },
  {
   "cell_type": "code",
   "execution_count": 54,
   "metadata": {},
   "outputs": [
    {
     "name": "stdout",
     "output_type": "stream",
     "text": [
      "*  postgresql://padawan:***@db:5432/dsdojo_db\n",
      "3 rows affected.\n"
     ]
    },
    {
     "data": {
      "text/html": [
       "<table>\n",
       "    <thead>\n",
       "        <tr>\n",
       "            <th>receipt_no</th>\n",
       "            <th>receipt_sub_no</th>\n",
       "            <th>sales_epoch</th>\n",
       "            <th>sales_year</th>\n",
       "        </tr>\n",
       "    </thead>\n",
       "    <tbody>\n",
       "        <tr>\n",
       "            <td>112</td>\n",
       "            <td>1</td>\n",
       "            <td>1541203200</td>\n",
       "            <td>2018</td>\n",
       "        </tr>\n",
       "        <tr>\n",
       "            <td>1132</td>\n",
       "            <td>2</td>\n",
       "            <td>1542499200</td>\n",
       "            <td>2018</td>\n",
       "        </tr>\n",
       "        <tr>\n",
       "            <td>1102</td>\n",
       "            <td>1</td>\n",
       "            <td>1499817600</td>\n",
       "            <td>2017</td>\n",
       "        </tr>\n",
       "    </tbody>\n",
       "</table>"
      ],
      "text/plain": [
       "[(112, 1, 1541203200, Decimal('2018')),\n",
       " (1132, 2, 1542499200, Decimal('2018')),\n",
       " (1102, 1, 1499817600, Decimal('2017'))]"
      ]
     },
     "execution_count": 54,
     "metadata": {},
     "output_type": "execute_result"
    }
   ],
   "source": [
    "%%sql\n",
    "\n",
    "SELECT\n",
    "    receipt_no,\n",
    "    receipt_sub_no,\n",
    "    sales_epoch,\n",
    "    EXTRACT(YEAR FROM \n",
    "    TO_TIMESTAMP(sales_epoch)\n",
    "    ) AS sales_year\n",
    "FROM\n",
    "    receipt\n",
    "LIMIT\n",
    "    3;"
   ]
  },
  {
   "cell_type": "markdown",
   "metadata": {},
   "source": [
    "---\n",
    "> S-050: レシート明細データ（receipt）の売上エポック秒（sales_epoch）を日付型に変換し、「月」だけ取り出してレシート番号(receipt_no)、レシートサブ番号（receipt_sub_no）とともに10件表示せよ。なお、「月」は0埋め2桁で取り出すこと。"
   ]
  },
  {
   "cell_type": "code",
   "execution_count": 62,
   "metadata": {},
   "outputs": [
    {
     "name": "stdout",
     "output_type": "stream",
     "text": [
      "*  postgresql://padawan:***@db:5432/dsdojo_db\n",
      "3 rows affected.\n"
     ]
    },
    {
     "data": {
      "text/html": [
       "<table>\n",
       "    <thead>\n",
       "        <tr>\n",
       "            <th>receipt_no</th>\n",
       "            <th>receipt_sub_no</th>\n",
       "            <th>sales_epoch</th>\n",
       "            <th>sales_month</th>\n",
       "        </tr>\n",
       "    </thead>\n",
       "    <tbody>\n",
       "        <tr>\n",
       "            <td>112</td>\n",
       "            <td>1</td>\n",
       "            <td>1541203200</td>\n",
       "            <td>11</td>\n",
       "        </tr>\n",
       "        <tr>\n",
       "            <td>1132</td>\n",
       "            <td>2</td>\n",
       "            <td>1542499200</td>\n",
       "            <td>11</td>\n",
       "        </tr>\n",
       "        <tr>\n",
       "            <td>1102</td>\n",
       "            <td>1</td>\n",
       "            <td>1499817600</td>\n",
       "            <td>07</td>\n",
       "        </tr>\n",
       "    </tbody>\n",
       "</table>"
      ],
      "text/plain": [
       "[(112, 1, 1541203200, '11'),\n",
       " (1132, 2, 1542499200, '11'),\n",
       " (1102, 1, 1499817600, '07')]"
      ]
     },
     "execution_count": 62,
     "metadata": {},
     "output_type": "execute_result"
    }
   ],
   "source": [
    "%%sql\n",
    "\n",
    "SELECT\n",
    "    receipt_no,\n",
    "    receipt_sub_no,\n",
    "    sales_epoch,\n",
    "    TO_CHAR(\n",
    "        EXTRACT(MONTH FROM TO_TIMESTAMP(sales_epoch)),\n",
    "        'FM00') AS sales_month\n",
    "FROM\n",
    "    receipt\n",
    "LIMIT\n",
    "    3;\n"
   ]
  },
  {
   "cell_type": "markdown",
   "metadata": {},
   "source": [
    "---\n",
    "> S-051: レシート明細データ（receipt）の売上エポック秒を日付型に変換し、「日」だけ取り出してレシート番号(receipt_no)、レシートサブ番号（receipt_sub_no）とともに10件表示せよ。なお、「日」は0埋め2桁で取り出すこと。"
   ]
  },
  {
   "cell_type": "code",
   "execution_count": 65,
   "metadata": {},
   "outputs": [
    {
     "name": "stdout",
     "output_type": "stream",
     "text": [
      "*  postgresql://padawan:***@db:5432/dsdojo_db\n",
      "3 rows affected.\n"
     ]
    },
    {
     "data": {
      "text/html": [
       "<table>\n",
       "    <thead>\n",
       "        <tr>\n",
       "            <th>receipt_no</th>\n",
       "            <th>receipt_sub_no</th>\n",
       "            <th>sales_epoch</th>\n",
       "            <th>sales_date</th>\n",
       "        </tr>\n",
       "    </thead>\n",
       "    <tbody>\n",
       "        <tr>\n",
       "            <td>112</td>\n",
       "            <td>1</td>\n",
       "            <td>1541203200</td>\n",
       "            <td>03</td>\n",
       "        </tr>\n",
       "        <tr>\n",
       "            <td>1132</td>\n",
       "            <td>2</td>\n",
       "            <td>1542499200</td>\n",
       "            <td>18</td>\n",
       "        </tr>\n",
       "        <tr>\n",
       "            <td>1102</td>\n",
       "            <td>1</td>\n",
       "            <td>1499817600</td>\n",
       "            <td>12</td>\n",
       "        </tr>\n",
       "    </tbody>\n",
       "</table>"
      ],
      "text/plain": [
       "[(112, 1, 1541203200, '03'),\n",
       " (1132, 2, 1542499200, '18'),\n",
       " (1102, 1, 1499817600, '12')]"
      ]
     },
     "execution_count": 65,
     "metadata": {},
     "output_type": "execute_result"
    }
   ],
   "source": [
    "%%sql\n",
    "\n",
    "\n",
    "SELECT\n",
    "    receipt_no,\n",
    "    receipt_sub_no,\n",
    "    sales_epoch,\n",
    "    TO_CHAR(\n",
    "        EXTRACT(DAY FROM TO_TIMESTAMP(sales_epoch)), 'FM00'\n",
    "    ) AS sales_date\n",
    "FROM\n",
    "    receiptS\n",
    "LIMIT\n",
    "    3;"
   ]
  },
  {
   "cell_type": "markdown",
   "metadata": {},
   "source": [
    "---\n",
    "> S-052: レシート明細データ（receipt）の売上金額（amount）を顧客ID（customer_id）ごとに合計の上、売上金額合計に対して2,000円以下を0、2,000円より大きい金額を1に二値化し、顧客ID、売上金額合計とともに10件表示せよ。ただし、顧客IDが\"Z\"から始まるのものは非会員を表すため、除外して計算すること。"
   ]
  },
  {
   "cell_type": "code",
   "execution_count": 67,
   "metadata": {},
   "outputs": [
    {
     "name": "stdout",
     "output_type": "stream",
     "text": [
      "*  postgresql://padawan:***@db:5432/dsdojo_db\n",
      "3 rows affected.\n"
     ]
    },
    {
     "data": {
      "text/html": [
       "<table>\n",
       "    <thead>\n",
       "        <tr>\n",
       "            <th>customer_id</th>\n",
       "            <th>sum_amount</th>\n",
       "            <th>sales_flg</th>\n",
       "        </tr>\n",
       "    </thead>\n",
       "    <tbody>\n",
       "        <tr>\n",
       "            <td>CS001311000059</td>\n",
       "            <td>2302</td>\n",
       "            <td>1</td>\n",
       "        </tr>\n",
       "        <tr>\n",
       "            <td>CS004614000122</td>\n",
       "            <td>248</td>\n",
       "            <td>0</td>\n",
       "        </tr>\n",
       "        <tr>\n",
       "            <td>CS003512000043</td>\n",
       "            <td>298</td>\n",
       "            <td>0</td>\n",
       "        </tr>\n",
       "    </tbody>\n",
       "</table>"
      ],
      "text/plain": [
       "[('CS001311000059', 2302, 1),\n",
       " ('CS004614000122', 248, 0),\n",
       " ('CS003512000043', 298, 0)]"
      ]
     },
     "execution_count": 67,
     "metadata": {},
     "output_type": "execute_result"
    }
   ],
   "source": [
    "%%sql\n",
    "\n",
    "--suctomer_idごとに売上金額を合計\n",
    "--フラッグ作成\n",
    "\n",
    "WITH sales_amount AS (\n",
    "    SELECT\n",
    "        customer_id,\n",
    "        SUM(amount) AS sum_amount\n",
    "    FROM\n",
    "        receipt\n",
    "    WHERE\n",
    "        customer_id NOT LIKE 'Z%'\n",
    "    GROUP BY\n",
    "        customer_id\n",
    ")\n",
    "SELECT\n",
    "    customer_id,\n",
    "    sum_amount,\n",
    "    CASE\n",
    "        WHEN sum_amount <= 2000 THEN 0\n",
    "        WHEN sum_amount > 2000 THEN 1\n",
    "        ELSE 0\n",
    "        END AS sales_flg\n",
    "FROM\n",
    "    sales_amount\n",
    "LIMIT\n",
    "    3;"
   ]
  },
  {
   "cell_type": "markdown",
   "metadata": {},
   "source": [
    "---\n",
    "> S-053: 顧客データ（customer）の郵便番号（postal_cd）に対し、東京（先頭3桁が100〜209のもの）を1、それ以外のものを0に二値化せよ。さらにレシート明細データ（receipt）と結合し、全期間において売上実績のある顧客数を、作成した二値ごとにカウントせよ。"
   ]
  },
  {
   "cell_type": "code",
   "execution_count": 73,
   "metadata": {},
   "outputs": [
    {
     "name": "stdout",
     "output_type": "stream",
     "text": [
      "*  postgresql://padawan:***@db:5432/dsdojo_db\n",
      "3 rows affected.\n"
     ]
    },
    {
     "data": {
      "text/html": [
       "<table>\n",
       "    <thead>\n",
       "        <tr>\n",
       "            <th>customer_id</th>\n",
       "            <th>cnt</th>\n",
       "        </tr>\n",
       "    </thead>\n",
       "    <tbody>\n",
       "        <tr>\n",
       "            <td>CS019612000010</td>\n",
       "            <td>1</td>\n",
       "        </tr>\n",
       "        <tr>\n",
       "            <td>CS004215000095</td>\n",
       "            <td>1</td>\n",
       "        </tr>\n",
       "        <tr>\n",
       "            <td>CS012502000051</td>\n",
       "            <td>1</td>\n",
       "        </tr>\n",
       "    </tbody>\n",
       "</table>"
      ],
      "text/plain": [
       "[('CS019612000010', 1), ('CS004215000095', 1), ('CS012502000051', 1)]"
      ]
     },
     "execution_count": 73,
     "metadata": {},
     "output_type": "execute_result"
    }
   ],
   "source": [
    "%%sql\n",
    "\n",
    "SELECT\n",
    "    customer_id, COUNT(*) AS cnt\n",
    "FROM\n",
    "    customer\n",
    "GROUP BY\n",
    "    customer_id\n",
    "ORDER BY\n",
    "    cnt DESC\n",
    "LIMIT\n",
    "    3;\n",
    "--customer_idは重複無し。"
   ]
  },
  {
   "cell_type": "code",
   "execution_count": 79,
   "metadata": {},
   "outputs": [
    {
     "name": "stdout",
     "output_type": "stream",
     "text": [
      "*  postgresql://padawan:***@db:5432/dsdojo_db\n",
      "3 rows affected.\n"
     ]
    },
    {
     "data": {
      "text/html": [
       "<table>\n",
       "    <thead>\n",
       "        <tr>\n",
       "            <th>customer_id</th>\n",
       "            <th>postal_cd</th>\n",
       "            <th>postal_cd_flg</th>\n",
       "        </tr>\n",
       "    </thead>\n",
       "    <tbody>\n",
       "        <tr>\n",
       "            <td>CS021313000114</td>\n",
       "            <td>259-1113</td>\n",
       "            <td>0</td>\n",
       "        </tr>\n",
       "        <tr>\n",
       "            <td>CS037613000071</td>\n",
       "            <td>136-0076</td>\n",
       "            <td>1</td>\n",
       "        </tr>\n",
       "        <tr>\n",
       "            <td>CS031415000172</td>\n",
       "            <td>151-0053</td>\n",
       "            <td>1</td>\n",
       "        </tr>\n",
       "    </tbody>\n",
       "</table>"
      ],
      "text/plain": [
       "[('CS021313000114', '259-1113', 0),\n",
       " ('CS037613000071', '136-0076', 1),\n",
       " ('CS031415000172', '151-0053', 1)]"
      ]
     },
     "execution_count": 79,
     "metadata": {},
     "output_type": "execute_result"
    }
   ],
   "source": [
    "%%sql\n",
    "\n",
    "SELECT\n",
    "    customer_id,\n",
    "    postal_cd,\n",
    "    CASE\n",
    "        WHEN CAST(SUBSTR(postal_cd, 1, 3) AS INTEGER) BETWEEN 100 AND 209 THEN 1\n",
    "        ELSE 0 \n",
    "        END AS postal_cd_flg\n",
    "FROM\n",
    "    customer\n",
    "LIMIT\n",
    "    3;"
   ]
  },
  {
   "cell_type": "markdown",
   "metadata": {},
   "source": [
    "---\n",
    "> S-054: 顧客データ（customer）の住所（address）は、埼玉県、千葉県、東京都、神奈川県のいずれかとなっている。都道府県毎にコード値を作成し、顧客ID、住所とともに10件表示せよ。値は埼玉県を11、千葉県を12、東京都を13、神奈川県を14とすること。"
   ]
  },
  {
   "cell_type": "code",
   "execution_count": 81,
   "metadata": {},
   "outputs": [
    {
     "name": "stdout",
     "output_type": "stream",
     "text": [
      "*  postgresql://padawan:***@db:5432/dsdojo_db\n",
      "3 rows affected.\n"
     ]
    },
    {
     "data": {
      "text/html": [
       "<table>\n",
       "    <thead>\n",
       "        <tr>\n",
       "            <th>customer_id</th>\n",
       "            <th>address</th>\n",
       "            <th>address_cd</th>\n",
       "        </tr>\n",
       "    </thead>\n",
       "    <tbody>\n",
       "        <tr>\n",
       "            <td>CS021313000114</td>\n",
       "            <td>神奈川県伊勢原市粟窪**********</td>\n",
       "            <td>14</td>\n",
       "        </tr>\n",
       "        <tr>\n",
       "            <td>CS037613000071</td>\n",
       "            <td>東京都江東区南砂**********</td>\n",
       "            <td>13</td>\n",
       "        </tr>\n",
       "        <tr>\n",
       "            <td>CS031415000172</td>\n",
       "            <td>東京都渋谷区代々木**********</td>\n",
       "            <td>13</td>\n",
       "        </tr>\n",
       "    </tbody>\n",
       "</table>"
      ],
      "text/plain": [
       "[('CS021313000114', '神奈川県伊勢原市粟窪**********', 14),\n",
       " ('CS037613000071', '東京都江東区南砂**********', 13),\n",
       " ('CS031415000172', '東京都渋谷区代々木**********', 13)]"
      ]
     },
     "execution_count": 81,
     "metadata": {},
     "output_type": "execute_result"
    }
   ],
   "source": [
    "%%sql\n",
    "\n",
    "SELECT\n",
    "    customer_id,\n",
    "    address,\n",
    "    CASE SUBSTR(address, 1, 3)\n",
    "        WHEN '埼玉県' THEN 11\n",
    "        WHEN '千葉県' THEN 12\n",
    "        WHEN '東京都' THEN 13\n",
    "        WHEN '神奈川' THEN 14\n",
    "    END AS address_cd\n",
    "FROM\n",
    "    customer\n",
    "LIMIT\n",
    "    3;"
   ]
  },
  {
   "cell_type": "markdown",
   "metadata": {},
   "source": [
    "---\n",
    "> S-055: レシート明細（receipt）データの売上金額（amount）を顧客ID（customer_id）ごとに合計し、その合計金額の四分位点を求めよ。その上で、顧客ごとの売上金額合計に対して以下の基準でカテゴリ値を作成し、顧客ID、売上金額合計とともに10件表示せよ。カテゴリ値は順に1〜4とする。\n",
    ">\n",
    "> - 最小値以上第1四分位未満 ・・・ 1を付与\n",
    "> - 第1四分位以上第2四分位未満 ・・・ 2を付与\n",
    "> - 第2四分位以上第3四分位未満 ・・・ 3を付与\n",
    "> - 第3四分位以上 ・・・ 4を付与"
   ]
  },
  {
   "cell_type": "code",
   "execution_count": 91,
   "metadata": {},
   "outputs": [
    {
     "name": "stdout",
     "output_type": "stream",
     "text": [
      "*  postgresql://padawan:***@db:5432/dsdojo_db\n",
      "3 rows affected.\n"
     ]
    },
    {
     "data": {
      "text/html": [
       "<table>\n",
       "    <thead>\n",
       "        <tr>\n",
       "            <th>customer_id</th>\n",
       "            <th>sum_amount</th>\n",
       "            <th>amount_25pct</th>\n",
       "            <th>amount_50pct</th>\n",
       "            <th>amount_75pct</th>\n",
       "            <th>amount_100pct</th>\n",
       "            <th>sum_amount_category</th>\n",
       "        </tr>\n",
       "    </thead>\n",
       "    <tbody>\n",
       "        <tr>\n",
       "            <td>CS001311000059</td>\n",
       "            <td>2302</td>\n",
       "            <td>548.5</td>\n",
       "            <td>1478.0</td>\n",
       "            <td>3651.0</td>\n",
       "            <td>70.0</td>\n",
       "            <td>3</td>\n",
       "        </tr>\n",
       "        <tr>\n",
       "            <td>CS004614000122</td>\n",
       "            <td>248</td>\n",
       "            <td>548.5</td>\n",
       "            <td>1478.0</td>\n",
       "            <td>3651.0</td>\n",
       "            <td>70.0</td>\n",
       "            <td>1</td>\n",
       "        </tr>\n",
       "        <tr>\n",
       "            <td>CS003512000043</td>\n",
       "            <td>298</td>\n",
       "            <td>548.5</td>\n",
       "            <td>1478.0</td>\n",
       "            <td>3651.0</td>\n",
       "            <td>70.0</td>\n",
       "            <td>1</td>\n",
       "        </tr>\n",
       "    </tbody>\n",
       "</table>"
      ],
      "text/plain": [
       "[('CS001311000059', 2302, 548.5, 1478.0, 3651.0, 70.0, 3),\n",
       " ('CS004614000122', 248, 548.5, 1478.0, 3651.0, 70.0, 1),\n",
       " ('CS003512000043', 298, 548.5, 1478.0, 3651.0, 70.0, 1)]"
      ]
     },
     "execution_count": 91,
     "metadata": {},
     "output_type": "execute_result"
    }
   ],
   "source": [
    "%%sql\n",
    "\n",
    "--customer_idごとにamountを集計\n",
    "--CASEを使ってcategory分類\n",
    "\n",
    "WITH sales_amount AS (\n",
    "    SELECT\n",
    "        customer_id,\n",
    "        SUM(amount) AS sum_amount\n",
    "    FROM\n",
    "        receipt\n",
    "    GROUP BY\n",
    "        customer_id\n",
    "), stats AS (\n",
    "    SELECT\n",
    "        PERCENTILE_CONT(0.25) WITHIN GROUP(ORDER BY sum_amount) AS amount_25pct,\n",
    "        PERCENTILE_CONT(0.50) WITHIN GROUP(ORDER BY sum_amount) AS amount_50pct,\n",
    "        PERCENTILE_CONT(0.75) WITHIN GROUP(ORDER BY sum_amount) AS amount_75pct,\n",
    "        PERCENTILE_CONT(.0) WITHIN GROUP(ORDER BY sum_amount) AS amount_100pct\n",
    "    FROM\n",
    "        sales_amount\n",
    ")\n",
    "SELECT\n",
    "    sa.customer_id,\n",
    "    sa.sum_amount,\n",
    "    st.amount_25pct,\n",
    "    st.amount_50pct,\n",
    "    st.amount_75pct,\n",
    "    st.amount_100pct,\n",
    "    CASE\n",
    "        WHEN sa.sum_amount < st.amount_25pct THEN 1 \n",
    "        WHEN st.amount_25pct <= sa.sum_amount AND sa.sum_amount < st.amount_50pct THEN 2 \n",
    "        WHEN st.amount_50pct <= sa.sum_amount AND sa.sum_amount < st.amount_75pct THEN 3 \n",
    "        ELSE 4\n",
    "        END AS sum_amount_category\n",
    "FROM\n",
    "    sales_amount sa\n",
    "CROSS JOIN\n",
    "    stats st\n",
    "LIMIT\n",
    "    3;"
   ]
  },
  {
   "cell_type": "markdown",
   "metadata": {},
   "source": [
    "---\n",
    "> S-056: 顧客データ（customer）の年齢（age）をもとに10歳刻みで年代を算出し、顧客ID（customer_id）、生年月日（birth_day）とともに10件表示せよ。ただし、60歳以上は全て60歳代とすること。年代を表すカテゴリ名は任意とする。"
   ]
  },
  {
   "cell_type": "code",
   "execution_count": 95,
   "metadata": {},
   "outputs": [
    {
     "name": "stdout",
     "output_type": "stream",
     "text": [
      "*  postgresql://padawan:***@db:5432/dsdojo_db\n",
      "10 rows affected.\n"
     ]
    },
    {
     "data": {
      "text/html": [
       "<table>\n",
       "    <thead>\n",
       "        <tr>\n",
       "            <th>customer_id</th>\n",
       "            <th>birth_day</th>\n",
       "            <th>age</th>\n",
       "            <th>era</th>\n",
       "        </tr>\n",
       "    </thead>\n",
       "    <tbody>\n",
       "        <tr>\n",
       "            <td>CS021313000114</td>\n",
       "            <td>1981-04-29</td>\n",
       "            <td>37</td>\n",
       "            <td>30.0</td>\n",
       "        </tr>\n",
       "        <tr>\n",
       "            <td>CS037613000071</td>\n",
       "            <td>1952-04-01</td>\n",
       "            <td>66</td>\n",
       "            <td>60.0</td>\n",
       "        </tr>\n",
       "        <tr>\n",
       "            <td>CS031415000172</td>\n",
       "            <td>1976-10-04</td>\n",
       "            <td>42</td>\n",
       "            <td>40.0</td>\n",
       "        </tr>\n",
       "        <tr>\n",
       "            <td>CS028811000001</td>\n",
       "            <td>1933-03-27</td>\n",
       "            <td>86</td>\n",
       "            <td>60.0</td>\n",
       "        </tr>\n",
       "        <tr>\n",
       "            <td>CS001215000145</td>\n",
       "            <td>1995-03-29</td>\n",
       "            <td>24</td>\n",
       "            <td>20.0</td>\n",
       "        </tr>\n",
       "        <tr>\n",
       "            <td>CS020401000016</td>\n",
       "            <td>1974-09-15</td>\n",
       "            <td>44</td>\n",
       "            <td>40.0</td>\n",
       "        </tr>\n",
       "        <tr>\n",
       "            <td>CS015414000103</td>\n",
       "            <td>1977-08-09</td>\n",
       "            <td>41</td>\n",
       "            <td>40.0</td>\n",
       "        </tr>\n",
       "        <tr>\n",
       "            <td>CS029403000008</td>\n",
       "            <td>1973-08-17</td>\n",
       "            <td>45</td>\n",
       "            <td>40.0</td>\n",
       "        </tr>\n",
       "        <tr>\n",
       "            <td>CS015804000004</td>\n",
       "            <td>1931-05-02</td>\n",
       "            <td>87</td>\n",
       "            <td>60.0</td>\n",
       "        </tr>\n",
       "        <tr>\n",
       "            <td>CS033513000180</td>\n",
       "            <td>1962-07-11</td>\n",
       "            <td>56</td>\n",
       "            <td>50.0</td>\n",
       "        </tr>\n",
       "    </tbody>\n",
       "</table>"
      ],
      "text/plain": [
       "[('CS021313000114', datetime.date(1981, 4, 29), 37, 30.0),\n",
       " ('CS037613000071', datetime.date(1952, 4, 1), 66, 60.0),\n",
       " ('CS031415000172', datetime.date(1976, 10, 4), 42, 40.0),\n",
       " ('CS028811000001', datetime.date(1933, 3, 27), 86, 60.0),\n",
       " ('CS001215000145', datetime.date(1995, 3, 29), 24, 20.0),\n",
       " ('CS020401000016', datetime.date(1974, 9, 15), 44, 40.0),\n",
       " ('CS015414000103', datetime.date(1977, 8, 9), 41, 40.0),\n",
       " ('CS029403000008', datetime.date(1973, 8, 17), 45, 40.0),\n",
       " ('CS015804000004', datetime.date(1931, 5, 2), 87, 60.0),\n",
       " ('CS033513000180', datetime.date(1962, 7, 11), 56, 50.0)]"
      ]
     },
     "execution_count": 95,
     "metadata": {},
     "output_type": "execute_result"
    }
   ],
   "source": [
    "%%sql\n",
    "\n",
    "SELECT\n",
    "    customer_id,\n",
    "    birth_day,\n",
    "    age,\n",
    "    LEAST(TRUNC(age/10) * 10, 60) AS era\n",
    "FROM\n",
    "    customer\n",
    "LIMIT\n",
    "    10;"
   ]
  },
  {
   "cell_type": "markdown",
   "metadata": {},
   "source": [
    "---\n",
    "> S-057: 056の抽出結果と性別コード（gender_cd）により、新たに性別×年代の組み合わせを表すカテゴリデータを作成し、10件表示せよ。組み合わせを表すカテゴリの値は任意とする。"
   ]
  },
  {
   "cell_type": "code",
   "execution_count": 101,
   "metadata": {},
   "outputs": [
    {
     "name": "stdout",
     "output_type": "stream",
     "text": [
      "*  postgresql://padawan:***@db:5432/dsdojo_db\n",
      "3 rows affected.\n"
     ]
    },
    {
     "data": {
      "text/html": [
       "<table>\n",
       "    <thead>\n",
       "        <tr>\n",
       "            <th>customer_id</th>\n",
       "            <th>birth_day</th>\n",
       "            <th>age</th>\n",
       "            <th>era</th>\n",
       "            <th>gender_cd</th>\n",
       "            <th>era_gender_cd</th>\n",
       "        </tr>\n",
       "    </thead>\n",
       "    <tbody>\n",
       "        <tr>\n",
       "            <td>CS021313000114</td>\n",
       "            <td>1981-04-29</td>\n",
       "            <td>37</td>\n",
       "            <td>30.0</td>\n",
       "            <td>1</td>\n",
       "            <td>301</td>\n",
       "        </tr>\n",
       "        <tr>\n",
       "            <td>CS037613000071</td>\n",
       "            <td>1952-04-01</td>\n",
       "            <td>66</td>\n",
       "            <td>60.0</td>\n",
       "            <td>9</td>\n",
       "            <td>609</td>\n",
       "        </tr>\n",
       "        <tr>\n",
       "            <td>CS031415000172</td>\n",
       "            <td>1976-10-04</td>\n",
       "            <td>42</td>\n",
       "            <td>40.0</td>\n",
       "            <td>1</td>\n",
       "            <td>401</td>\n",
       "        </tr>\n",
       "    </tbody>\n",
       "</table>"
      ],
      "text/plain": [
       "[('CS021313000114', datetime.date(1981, 4, 29), 37, 30.0, '1', '301'),\n",
       " ('CS037613000071', datetime.date(1952, 4, 1), 66, 60.0, '9', '609'),\n",
       " ('CS031415000172', datetime.date(1976, 10, 4), 42, 40.0, '1', '401')]"
      ]
     },
     "execution_count": 101,
     "metadata": {},
     "output_type": "execute_result"
    }
   ],
   "source": [
    "%%sql\n",
    "\n",
    "WITH era_tbl AS (\n",
    "    SELECT\n",
    "        customer_id,\n",
    "        birth_day,\n",
    "        age,\n",
    "        LEAST(TRUNC(age/10) * 10, 60) AS era,\n",
    "        gender_cd\n",
    "    FROM\n",
    "        customer\n",
    ")\n",
    "SELECT\n",
    "        customer_id,\n",
    "        birth_day,\n",
    "        age,\n",
    "        era,\n",
    "        gender_cd,\n",
    "        CONCAT(CAST(era AS VARCHAR),CAST(gender_cd AS VARCHAR)) AS era_gender_cd\n",
    "FROM\n",
    "    era_tbl\n",
    "LIMIT\n",
    "    3;\n"
   ]
  },
  {
   "cell_type": "markdown",
   "metadata": {},
   "source": [
    "---\n",
    "> S-058: 顧客データ（customer）の性別コード（gender_cd）をダミー変数化し、顧客ID（customer_id）とともに10件表示せよ。"
   ]
  },
  {
   "cell_type": "code",
   "execution_count": 109,
   "metadata": {},
   "outputs": [
    {
     "name": "stdout",
     "output_type": "stream",
     "text": [
      "*  postgresql://padawan:***@db:5432/dsdojo_db\n",
      "3 rows affected.\n"
     ]
    },
    {
     "data": {
      "text/html": [
       "<table>\n",
       "    <thead>\n",
       "        <tr>\n",
       "            <th>customer_id</th>\n",
       "            <th>gender_cd</th>\n",
       "            <th>male</th>\n",
       "            <th>female</th>\n",
       "            <th>unknown</th>\n",
       "        </tr>\n",
       "    </thead>\n",
       "    <tbody>\n",
       "        <tr>\n",
       "            <td>CS021313000114</td>\n",
       "            <td>1</td>\n",
       "            <td>0</td>\n",
       "            <td>1</td>\n",
       "            <td>0</td>\n",
       "        </tr>\n",
       "        <tr>\n",
       "            <td>CS037613000071</td>\n",
       "            <td>9</td>\n",
       "            <td>0</td>\n",
       "            <td>0</td>\n",
       "            <td>1</td>\n",
       "        </tr>\n",
       "        <tr>\n",
       "            <td>CS031415000172</td>\n",
       "            <td>1</td>\n",
       "            <td>0</td>\n",
       "            <td>1</td>\n",
       "            <td>0</td>\n",
       "        </tr>\n",
       "    </tbody>\n",
       "</table>"
      ],
      "text/plain": [
       "[('CS021313000114', '1', 0, 1, 0),\n",
       " ('CS037613000071', '9', 0, 0, 1),\n",
       " ('CS031415000172', '1', 0, 1, 0)]"
      ]
     },
     "execution_count": 109,
     "metadata": {},
     "output_type": "execute_result"
    }
   ],
   "source": [
    "%%sql\n",
    "\n",
    "SELECT\n",
    "    customer_id,\n",
    "    gender_cd,\n",
    "    CASE WHEN gender_cd = '0' THEN 1 ELSE 0 END AS male,\n",
    "    CASE WHEN gender_cd = '1' THEN 1 ELSE 0 END AS female,\n",
    "    CASE WHEN gender_cd = '9' THEN 1 ELSE 0 END AS unknown\n",
    "FROM\n",
    "    customer\n",
    "LIMIT\n",
    "    3;\n"
   ]
  },
  {
   "cell_type": "markdown",
   "metadata": {},
   "source": [
    "---\n",
    "> S-059: レシート明細データ（receipt）の売上金額（amount）を顧客ID（customer_id）ごとに合計し、売上金額合計を平均0、標準偏差1に標準化して顧客ID、売上金額合計とともに10件表示せよ。標準化に使用する標準偏差は、分散の平方根、もしくは不偏分散の平方根のどちらでも良いものとする。ただし、顧客IDが\"Z\"から始まるのものは非会員を表すため、除外して計算すること。"
   ]
  },
  {
   "cell_type": "code",
   "execution_count": 114,
   "metadata": {},
   "outputs": [
    {
     "name": "stdout",
     "output_type": "stream",
     "text": [
      "*  postgresql://padawan:***@db:5432/dsdojo_db\n",
      "10 rows affected.\n"
     ]
    },
    {
     "data": {
      "text/html": [
       "<table>\n",
       "    <thead>\n",
       "        <tr>\n",
       "            <th>customer_id</th>\n",
       "            <th>sum_amount</th>\n",
       "            <th>avg_amount</th>\n",
       "            <th>stddev_amount</th>\n",
       "            <th>std_amount</th>\n",
       "        </tr>\n",
       "    </thead>\n",
       "    <tbody>\n",
       "        <tr>\n",
       "            <td>CS001311000059</td>\n",
       "            <td>2302</td>\n",
       "            <td>2547.7422345292559595</td>\n",
       "            <td>2720.510255798560</td>\n",
       "            <td>-0.09032946448390523062</td>\n",
       "        </tr>\n",
       "        <tr>\n",
       "            <td>CS004614000122</td>\n",
       "            <td>248</td>\n",
       "            <td>2547.7422345292559595</td>\n",
       "            <td>2720.510255798560</td>\n",
       "            <td>-0.84533488878695858131</td>\n",
       "        </tr>\n",
       "        <tr>\n",
       "            <td>CS003512000043</td>\n",
       "            <td>298</td>\n",
       "            <td>2547.7422345292559595</td>\n",
       "            <td>2720.510255798560</td>\n",
       "            <td>-0.82695598361891930792</td>\n",
       "        </tr>\n",
       "        <tr>\n",
       "            <td>CS011615000061</td>\n",
       "            <td>246</td>\n",
       "            <td>2547.7422345292559595</td>\n",
       "            <td>2720.510255798560</td>\n",
       "            <td>-0.84607004499368015224</td>\n",
       "        </tr>\n",
       "        <tr>\n",
       "            <td>CS029212000033</td>\n",
       "            <td>3604</td>\n",
       "            <td>2547.7422345292559595</td>\n",
       "            <td>2720.510255798560</td>\n",
       "            <td>0.38825722609183744835</td>\n",
       "        </tr>\n",
       "        <tr>\n",
       "            <td>CS007515000119</td>\n",
       "            <td>7157</td>\n",
       "            <td>2547.7422345292559595</td>\n",
       "            <td>2720.510255798560</td>\n",
       "            <td>1.6942622273327082</td>\n",
       "        </tr>\n",
       "        <tr>\n",
       "            <td>CS034515000123</td>\n",
       "            <td>3699</td>\n",
       "            <td>2547.7422345292559595</td>\n",
       "            <td>2720.510255798560</td>\n",
       "            <td>0.42317714591111206778</td>\n",
       "        </tr>\n",
       "        <tr>\n",
       "            <td>CS004315000058</td>\n",
       "            <td>490</td>\n",
       "            <td>2547.7422345292559595</td>\n",
       "            <td>2720.510255798560</td>\n",
       "            <td>-0.75638098777364849812</td>\n",
       "        </tr>\n",
       "        <tr>\n",
       "            <td>CS026414000014</td>\n",
       "            <td>6671</td>\n",
       "            <td>2547.7422345292559595</td>\n",
       "            <td>2720.510255798560</td>\n",
       "            <td>1.5156192690993665</td>\n",
       "        </tr>\n",
       "        <tr>\n",
       "            <td>CS001615000099</td>\n",
       "            <td>768</td>\n",
       "            <td>2547.7422345292559595</td>\n",
       "            <td>2720.510255798560</td>\n",
       "            <td>-0.65419427503935013810</td>\n",
       "        </tr>\n",
       "    </tbody>\n",
       "</table>"
      ],
      "text/plain": [
       "[('CS001311000059', 2302, Decimal('2547.7422345292559595'), Decimal('2720.510255798560'), Decimal('-0.09032946448390523062')),\n",
       " ('CS004614000122', 248, Decimal('2547.7422345292559595'), Decimal('2720.510255798560'), Decimal('-0.84533488878695858131')),\n",
       " ('CS003512000043', 298, Decimal('2547.7422345292559595'), Decimal('2720.510255798560'), Decimal('-0.82695598361891930792')),\n",
       " ('CS011615000061', 246, Decimal('2547.7422345292559595'), Decimal('2720.510255798560'), Decimal('-0.84607004499368015224')),\n",
       " ('CS029212000033', 3604, Decimal('2547.7422345292559595'), Decimal('2720.510255798560'), Decimal('0.38825722609183744835')),\n",
       " ('CS007515000119', 7157, Decimal('2547.7422345292559595'), Decimal('2720.510255798560'), Decimal('1.6942622273327082')),\n",
       " ('CS034515000123', 3699, Decimal('2547.7422345292559595'), Decimal('2720.510255798560'), Decimal('0.42317714591111206778')),\n",
       " ('CS004315000058', 490, Decimal('2547.7422345292559595'), Decimal('2720.510255798560'), Decimal('-0.75638098777364849812')),\n",
       " ('CS026414000014', 6671, Decimal('2547.7422345292559595'), Decimal('2720.510255798560'), Decimal('1.5156192690993665')),\n",
       " ('CS001615000099', 768, Decimal('2547.7422345292559595'), Decimal('2720.510255798560'), Decimal('-0.65419427503935013810'))]"
      ]
     },
     "execution_count": 114,
     "metadata": {},
     "output_type": "execute_result"
    }
   ],
   "source": [
    "%%sql\n",
    "\n",
    "--customer_idごとにamountを集計, 非会員は除外\n",
    "--statsで統計値集計\n",
    "--各customer_idのamountを標準化\n",
    "\n",
    "WITH sales_amount AS (\n",
    "    SELECT\n",
    "        customer_id,\n",
    "        SUM(amount) AS sum_amount\n",
    "    FROM\n",
    "        receipt\n",
    "    WHERE\n",
    "        customer_id NOT LIKE 'Z%'\n",
    "    GROUP BY\n",
    "        customer_id\n",
    "), stats_tbl AS (\n",
    "    SELECT\n",
    "        AVG(sum_amount) AS avg_amount,\n",
    "        STDDEV_POP(sum_amount) AS stddev_amount\n",
    "    FROM\n",
    "        sales_amount    \n",
    ")\n",
    "SELECT\n",
    "    sa.customer_id,\n",
    "    sa.sum_amount,\n",
    "    st.avg_amount,\n",
    "    st.stddev_amount,\n",
    "    (sa.sum_amount - st.avg_amount) / st.stddev_amount AS std_amount\n",
    "FROM\n",
    "    sales_amount sa\n",
    "CROSS JOIN\n",
    "    stats_tbl st\n",
    "LIMIT\n",
    "    10;\n"
   ]
  },
  {
   "cell_type": "markdown",
   "metadata": {},
   "source": [
    "---\n",
    "> S-060: レシート明細データ（receipt）の売上金額（amount）を顧客ID（customer_id）ごとに合計し、売上金額合計を最小値0、最大値1に正規化して顧客ID、売上金額合計とともに10件表示せよ。ただし、顧客IDが\"Z\"から始まるのものは非会員を表すため、除外して計算すること。"
   ]
  },
  {
   "cell_type": "code",
   "execution_count": 118,
   "metadata": {},
   "outputs": [
    {
     "name": "stdout",
     "output_type": "stream",
     "text": [
      "*  postgresql://padawan:***@db:5432/dsdojo_db\n",
      "3 rows affected.\n"
     ]
    },
    {
     "data": {
      "text/html": [
       "<table>\n",
       "    <thead>\n",
       "        <tr>\n",
       "            <th>customer_id</th>\n",
       "            <th>sum_amount</th>\n",
       "            <th>min_amount</th>\n",
       "            <th>max_amount</th>\n",
       "            <th>std_amount</th>\n",
       "        </tr>\n",
       "    </thead>\n",
       "    <tbody>\n",
       "        <tr>\n",
       "            <td>CS001311000059</td>\n",
       "            <td>2302</td>\n",
       "            <td>70</td>\n",
       "            <td>23086</td>\n",
       "            <td>0.09697601668404588113</td>\n",
       "        </tr>\n",
       "        <tr>\n",
       "            <td>CS004614000122</td>\n",
       "            <td>248</td>\n",
       "            <td>70</td>\n",
       "            <td>23086</td>\n",
       "            <td>0.00773375043448036149</td>\n",
       "        </tr>\n",
       "        <tr>\n",
       "            <td>CS003512000043</td>\n",
       "            <td>298</td>\n",
       "            <td>70</td>\n",
       "            <td>23086</td>\n",
       "            <td>0.00990615224191866528</td>\n",
       "        </tr>\n",
       "    </tbody>\n",
       "</table>"
      ],
      "text/plain": [
       "[('CS001311000059', 2302, 70, 23086, Decimal('0.09697601668404588113')),\n",
       " ('CS004614000122', 248, 70, 23086, Decimal('0.00773375043448036149')),\n",
       " ('CS003512000043', 298, 70, 23086, Decimal('0.00990615224191866528'))]"
      ]
     },
     "execution_count": 118,
     "metadata": {},
     "output_type": "execute_result"
    }
   ],
   "source": [
    "%%sql\n",
    "\n",
    "--customer_idごとにamountを集計,非会員を除外\n",
    "--stats tblで統計値計算\n",
    "--正規化適用\n",
    "\n",
    "WITH sales_amount AS (\n",
    "    SELECT\n",
    "        customer_id,\n",
    "        SUM(amount) AS sum_amount\n",
    "    FROM\n",
    "        receipt\n",
    "    WHERE\n",
    "        customer_id NOT LIKE 'Z%'\n",
    "    GROUP BY\n",
    "        customer_id\n",
    "), stats_tbl AS (\n",
    "    SELECT\n",
    "        MIN(sum_amount) AS min_amount,\n",
    "        MAX(sum_amount) AS max_amount\n",
    "    FROM\n",
    "        sales_amount\n",
    ")\n",
    "SELECT\n",
    "    customer_id,\n",
    "    sum_amount,\n",
    "    min_amount,\n",
    "    max_amount,\n",
    "    (sum_amount - min_amount) * 1.0 / (max_amount - min_amount) AS std_amount\n",
    "FROM\n",
    "    sales_amount\n",
    "CROSS JOIN\n",
    "    stats_tbl\n",
    "LIMIT\n",
    "    3;\n",
    "\n",
    "-- 41問目-60問目：2時間04分07秒（2回目のチャレンジ）"
   ]
  },
  {
   "cell_type": "markdown",
   "metadata": {},
   "source": [
    "---\n",
    "> S-061: レシート明細データ（receipt）の売上金額（amount）を顧客ID（customer_id）ごとに合計し、売上金額合計を常用対数化（底10）して顧客ID、売上金額合計とともに10件表示せよ。ただし、顧客IDが\"Z\"から始まるのものは非会員を表すため、除外して計算すること。"
   ]
  },
  {
   "cell_type": "code",
   "execution_count": 127,
   "metadata": {},
   "outputs": [
    {
     "name": "stdout",
     "output_type": "stream",
     "text": [
      "*  postgresql://padawan:***@db:5432/dsdojo_db\n",
      "3 rows affected.\n"
     ]
    },
    {
     "data": {
      "text/html": [
       "<table>\n",
       "    <thead>\n",
       "        <tr>\n",
       "            <th>customer_id</th>\n",
       "            <th>sum_amount</th>\n",
       "            <th>log_amount</th>\n",
       "        </tr>\n",
       "    </thead>\n",
       "    <tbody>\n",
       "        <tr>\n",
       "            <td>CS001311000059</td>\n",
       "            <td>2302</td>\n",
       "            <td>3.3621996388688865</td>\n",
       "        </tr>\n",
       "        <tr>\n",
       "            <td>CS004614000122</td>\n",
       "            <td>248</td>\n",
       "            <td>2.3953263930693509</td>\n",
       "        </tr>\n",
       "        <tr>\n",
       "            <td>CS003512000043</td>\n",
       "            <td>298</td>\n",
       "            <td>2.4749443354653879</td>\n",
       "        </tr>\n",
       "    </tbody>\n",
       "</table>"
      ],
      "text/plain": [
       "[('CS001311000059', 2302, Decimal('3.3621996388688865')),\n",
       " ('CS004614000122', 248, Decimal('2.3953263930693509')),\n",
       " ('CS003512000043', 298, Decimal('2.4749443354653879'))]"
      ]
     },
     "execution_count": 127,
     "metadata": {},
     "output_type": "execute_result"
    }
   ],
   "source": [
    "%%sql\n",
    "\n",
    "--customer_idごとにamountを集計,非会員を除外\n",
    "--常用対数化\n",
    "\n",
    "WITH sales_amount AS (\n",
    "    SELECT\n",
    "        customer_id,\n",
    "        SUM(amount) AS sum_amount\n",
    "    FROM\n",
    "        receipt\n",
    "    WHERE\n",
    "        customer_id NOT LIKE 'Z%'\n",
    "    GROUP BY\n",
    "        customer_id\n",
    ")\n",
    "SELECT\n",
    "    customer_id,\n",
    "    sum_amount,\n",
    "    LOG(sum_amount + 0.5) AS log_amount\n",
    "FROM\n",
    "    sales_amount\n",
    "LIMIT\n",
    "    3;"
   ]
  },
  {
   "cell_type": "markdown",
   "metadata": {},
   "source": [
    "---\n",
    "> S-062: レシート明細データ（receipt）の売上金額（amount）を顧客ID（customer_id）ごとに合計し、売上金額合計を自然対数化（底e）して顧客ID、売上金額合計とともに10件表示せよ。ただし、顧客IDが\"Z\"から始まるのものは非会員を表すため、除外して計算すること。"
   ]
  },
  {
   "cell_type": "code",
   "execution_count": 128,
   "metadata": {},
   "outputs": [
    {
     "name": "stdout",
     "output_type": "stream",
     "text": [
      "*  postgresql://padawan:***@db:5432/dsdojo_db\n",
      "3 rows affected.\n"
     ]
    },
    {
     "data": {
      "text/html": [
       "<table>\n",
       "    <thead>\n",
       "        <tr>\n",
       "            <th>customer_id</th>\n",
       "            <th>sum_amount</th>\n",
       "            <th>nlog_amount</th>\n",
       "        </tr>\n",
       "    </thead>\n",
       "    <tbody>\n",
       "        <tr>\n",
       "            <td>CS001311000059</td>\n",
       "            <td>2302</td>\n",
       "            <td>7.7417507681294619</td>\n",
       "        </tr>\n",
       "        <tr>\n",
       "            <td>CS004614000122</td>\n",
       "            <td>248</td>\n",
       "            <td>5.5154428455366834</td>\n",
       "        </tr>\n",
       "        <tr>\n",
       "            <td>CS003512000043</td>\n",
       "            <td>298</td>\n",
       "            <td>5.6987699328326568</td>\n",
       "        </tr>\n",
       "    </tbody>\n",
       "</table>"
      ],
      "text/plain": [
       "[('CS001311000059', 2302, Decimal('7.7417507681294619')),\n",
       " ('CS004614000122', 248, Decimal('5.5154428455366834')),\n",
       " ('CS003512000043', 298, Decimal('5.6987699328326568'))]"
      ]
     },
     "execution_count": 128,
     "metadata": {},
     "output_type": "execute_result"
    }
   ],
   "source": [
    "%%sql\n",
    "\n",
    "\n",
    "--customer_idごとにamountを集計,非会員を除外\n",
    "--常用対数化\n",
    "\n",
    "WITH sales_amount AS (\n",
    "    SELECT\n",
    "        customer_id,\n",
    "        SUM(amount) AS sum_amount\n",
    "    FROM\n",
    "        receipt\n",
    "    WHERE\n",
    "        customer_id NOT LIKE 'Z%'\n",
    "    GROUP BY\n",
    "        customer_id\n",
    ")\n",
    "SELECT\n",
    "    customer_id,\n",
    "    sum_amount,\n",
    "    LN(sum_amount + 0.5) AS nlog_amount\n",
    "FROM\n",
    "    sales_amount\n",
    "LIMIT\n",
    "    3;"
   ]
  },
  {
   "cell_type": "markdown",
   "metadata": {},
   "source": [
    "---\n",
    "> S-063: 商品データ（product）の単価（unit_price）と原価（unit_cost）から各商品の利益額を算出し、結果を10件表示せよ。"
   ]
  },
  {
   "cell_type": "code",
   "execution_count": 124,
   "metadata": {},
   "outputs": [
    {
     "name": "stdout",
     "output_type": "stream",
     "text": [
      "*  postgresql://padawan:***@db:5432/dsdojo_db\n",
      "3 rows affected.\n"
     ]
    },
    {
     "data": {
      "text/html": [
       "<table>\n",
       "    <thead>\n",
       "        <tr>\n",
       "            <th>product_cd</th>\n",
       "            <th>unit_price</th>\n",
       "            <th>unit_cost</th>\n",
       "            <th>unit_profit</th>\n",
       "        </tr>\n",
       "    </thead>\n",
       "    <tbody>\n",
       "        <tr>\n",
       "            <td>P040101001</td>\n",
       "            <td>198</td>\n",
       "            <td>149</td>\n",
       "            <td>49</td>\n",
       "        </tr>\n",
       "        <tr>\n",
       "            <td>P040101002</td>\n",
       "            <td>218</td>\n",
       "            <td>164</td>\n",
       "            <td>54</td>\n",
       "        </tr>\n",
       "        <tr>\n",
       "            <td>P040101003</td>\n",
       "            <td>230</td>\n",
       "            <td>173</td>\n",
       "            <td>57</td>\n",
       "        </tr>\n",
       "    </tbody>\n",
       "</table>"
      ],
      "text/plain": [
       "[('P040101001', 198, 149, 49),\n",
       " ('P040101002', 218, 164, 54),\n",
       " ('P040101003', 230, 173, 57)]"
      ]
     },
     "execution_count": 124,
     "metadata": {},
     "output_type": "execute_result"
    }
   ],
   "source": [
    "%%sql\n",
    "\n",
    "SELECT\n",
    "    product_cd,\n",
    "    unit_price,\n",
    "    unit_cost,\n",
    "    unit_price - unit_cost AS unit_profit\n",
    "FROM\n",
    "    product\n",
    "LIMIT\n",
    "    3;"
   ]
  },
  {
   "cell_type": "markdown",
   "metadata": {},
   "source": [
    "---\n",
    "> S-064: 商品データ（product）の単価（unit_price）と原価（unit_cost）から、各商品の利益率の全体平均を算出せよ。ただし、単価と原価には欠損が生じていることに注意せよ。"
   ]
  },
  {
   "cell_type": "code",
   "execution_count": 129,
   "metadata": {},
   "outputs": [
    {
     "name": "stdout",
     "output_type": "stream",
     "text": [
      "*  postgresql://padawan:***@db:5432/dsdojo_db\n",
      "1 rows affected.\n"
     ]
    },
    {
     "data": {
      "text/html": [
       "<table>\n",
       "    <thead>\n",
       "        <tr>\n",
       "            <th>avg</th>\n",
       "        </tr>\n",
       "    </thead>\n",
       "    <tbody>\n",
       "        <tr>\n",
       "            <td>0.24911389885177001279</td>\n",
       "        </tr>\n",
       "    </tbody>\n",
       "</table>"
      ],
      "text/plain": [
       "[(Decimal('0.24911389885177001279'),)]"
      ]
     },
     "execution_count": 129,
     "metadata": {},
     "output_type": "execute_result"
    }
   ],
   "source": [
    "%%sql\n",
    "--各productの利益率を計算\n",
    "--利益率の全体平均を計算\n",
    "\n",
    "WITH product_profit AS (\n",
    "    SELECT\n",
    "        product_cd,\n",
    "        unit_price,\n",
    "        unit_cost,\n",
    "        (unit_price - unit_cost) * 1.0 / unit_price AS unit_profit_rate\n",
    "    FROM\n",
    "        product\n",
    ")\n",
    "SELECT\n",
    "    AVG(unit_profit_rate)\n",
    "FROM\n",
    "    product_profit\n",
    ";"
   ]
  },
  {
   "cell_type": "markdown",
   "metadata": {},
   "source": [
    "---\n",
    "> S-065: 商品データ（product）の各商品について、利益率が30%となる新たな単価を求めよ。ただし、1円未満は切り捨てること。そして結果を10件表示させ、利益率がおよそ30％付近であることを確認せよ。ただし、単価（unit_price）と原価（unit_cost）には欠損が生じていることに注意せよ。"
   ]
  },
  {
   "cell_type": "code",
   "execution_count": 132,
   "metadata": {},
   "outputs": [
    {
     "name": "stdout",
     "output_type": "stream",
     "text": [
      "*  postgresql://padawan:***@db:5432/dsdojo_db\n",
      "3 rows affected.\n"
     ]
    },
    {
     "data": {
      "text/html": [
       "<table>\n",
       "    <thead>\n",
       "        <tr>\n",
       "            <th>product_cd</th>\n",
       "            <th>unit_price</th>\n",
       "            <th>unit_cost</th>\n",
       "            <th>new_price</th>\n",
       "        </tr>\n",
       "    </thead>\n",
       "    <tbody>\n",
       "        <tr>\n",
       "            <td>P040101001</td>\n",
       "            <td>198</td>\n",
       "            <td>149</td>\n",
       "            <td>212</td>\n",
       "        </tr>\n",
       "        <tr>\n",
       "            <td>P040101002</td>\n",
       "            <td>218</td>\n",
       "            <td>164</td>\n",
       "            <td>234</td>\n",
       "        </tr>\n",
       "        <tr>\n",
       "            <td>P040101003</td>\n",
       "            <td>230</td>\n",
       "            <td>173</td>\n",
       "            <td>247</td>\n",
       "        </tr>\n",
       "    </tbody>\n",
       "</table>"
      ],
      "text/plain": [
       "[('P040101001', 198, 149, Decimal('212')),\n",
       " ('P040101002', 218, 164, Decimal('234')),\n",
       " ('P040101003', 230, 173, Decimal('247'))]"
      ]
     },
     "execution_count": 132,
     "metadata": {},
     "output_type": "execute_result"
    }
   ],
   "source": [
    "%%sql\n",
    "\n",
    "SELECT\n",
    "    product_cd,\n",
    "    unit_price,\n",
    "    unit_cost,\n",
    "    FLOOR(unit_cost / 0.7) AS new_price\n",
    "FROM\n",
    "    product\n",
    "LIMIT\n",
    "    3;\n"
   ]
  },
  {
   "cell_type": "markdown",
   "metadata": {},
   "source": [
    "---\n",
    "> S-066: 商品データ（product）の各商品について、利益率が30%となる新たな単価を求めよ。今回は、1円未満を丸めること（四捨五入または偶数への丸めで良い）。そして結果を10件表示させ、利益率がおよそ30％付近であることを確認せよ。ただし、単価（unit_price）と原価（unit_cost）には欠損が生じていることに注意せよ。"
   ]
  },
  {
   "cell_type": "code",
   "execution_count": 134,
   "metadata": {},
   "outputs": [
    {
     "name": "stdout",
     "output_type": "stream",
     "text": [
      "*  postgresql://padawan:***@db:5432/dsdojo_db\n",
      "3 rows affected.\n"
     ]
    },
    {
     "data": {
      "text/html": [
       "<table>\n",
       "    <thead>\n",
       "        <tr>\n",
       "            <th>product_cd</th>\n",
       "            <th>unit_price</th>\n",
       "            <th>unit_cost</th>\n",
       "            <th>new_price</th>\n",
       "            <th>new_profit_rate</th>\n",
       "        </tr>\n",
       "    </thead>\n",
       "    <tbody>\n",
       "        <tr>\n",
       "            <td>P040101001</td>\n",
       "            <td>198</td>\n",
       "            <td>149</td>\n",
       "            <td>213</td>\n",
       "            <td>0.30046948356807511737</td>\n",
       "        </tr>\n",
       "        <tr>\n",
       "            <td>P040101002</td>\n",
       "            <td>218</td>\n",
       "            <td>164</td>\n",
       "            <td>234</td>\n",
       "            <td>0.29914529914529914530</td>\n",
       "        </tr>\n",
       "        <tr>\n",
       "            <td>P040101003</td>\n",
       "            <td>230</td>\n",
       "            <td>173</td>\n",
       "            <td>247</td>\n",
       "            <td>0.29959514170040485830</td>\n",
       "        </tr>\n",
       "    </tbody>\n",
       "</table>"
      ],
      "text/plain": [
       "[('P040101001', 198, 149, Decimal('213'), Decimal('0.30046948356807511737')),\n",
       " ('P040101002', 218, 164, Decimal('234'), Decimal('0.29914529914529914530')),\n",
       " ('P040101003', 230, 173, Decimal('247'), Decimal('0.29959514170040485830'))]"
      ]
     },
     "execution_count": 134,
     "metadata": {},
     "output_type": "execute_result"
    }
   ],
   "source": [
    "%%sql\n",
    "\n",
    "SELECT\n",
    "    product_cd,\n",
    "    unit_price,\n",
    "    unit_cost,\n",
    "    ROUND(unit_cost / 0.7) AS new_price,\n",
    "    (ROUND(unit_cost / 0.7) - unit_cost) * 1.0/ ROUND(unit_cost / 0.7) AS new_profit_rate\n",
    "FROM\n",
    "    product\n",
    "LIMIT\n",
    "    3;"
   ]
  },
  {
   "cell_type": "markdown",
   "metadata": {},
   "source": [
    "---\n",
    "> S-067: 商品データ（product）の各商品について、利益率が30%となる新たな単価を求めよ。今回は、1円未満を切り上げること。そして結果を10件表示させ、利益率がおよそ30％付近であることを確認せよ。ただし、単価（unit_price）と原価（unit_cost）には欠損が生じていることに注意せよ。"
   ]
  },
  {
   "cell_type": "code",
   "execution_count": 135,
   "metadata": {},
   "outputs": [
    {
     "name": "stdout",
     "output_type": "stream",
     "text": [
      "*  postgresql://padawan:***@db:5432/dsdojo_db\n",
      "3 rows affected.\n"
     ]
    },
    {
     "data": {
      "text/html": [
       "<table>\n",
       "    <thead>\n",
       "        <tr>\n",
       "            <th>product_cd</th>\n",
       "            <th>unit_price</th>\n",
       "            <th>unit_cost</th>\n",
       "            <th>new_price</th>\n",
       "            <th>new_profit_rate</th>\n",
       "        </tr>\n",
       "    </thead>\n",
       "    <tbody>\n",
       "        <tr>\n",
       "            <td>P040101001</td>\n",
       "            <td>198</td>\n",
       "            <td>149</td>\n",
       "            <td>213</td>\n",
       "            <td>0.30046948356807511737</td>\n",
       "        </tr>\n",
       "        <tr>\n",
       "            <td>P040101002</td>\n",
       "            <td>218</td>\n",
       "            <td>164</td>\n",
       "            <td>234</td>\n",
       "            <td>0.30341880341880341880</td>\n",
       "        </tr>\n",
       "        <tr>\n",
       "            <td>P040101003</td>\n",
       "            <td>230</td>\n",
       "            <td>173</td>\n",
       "            <td>247</td>\n",
       "            <td>0.30364372469635627530</td>\n",
       "        </tr>\n",
       "    </tbody>\n",
       "</table>"
      ],
      "text/plain": [
       "[('P040101001', 198, 149, Decimal('213'), Decimal('0.30046948356807511737')),\n",
       " ('P040101002', 218, 164, Decimal('234'), Decimal('0.30341880341880341880')),\n",
       " ('P040101003', 230, 173, Decimal('247'), Decimal('0.30364372469635627530'))]"
      ]
     },
     "execution_count": 135,
     "metadata": {},
     "output_type": "execute_result"
    }
   ],
   "source": [
    "%%sql\n",
    "\n",
    "SELECT\n",
    "    product_cd,\n",
    "    unit_price,\n",
    "    unit_cost,\n",
    "    ROUND(unit_cost / 0.7) AS new_price,\n",
    "    (CEIL(unit_cost / 0.7) - unit_cost) * 1.0/ ROUND(unit_cost / 0.7) AS new_profit_rate\n",
    "FROM\n",
    "    product\n",
    "LIMIT\n",
    "    3;"
   ]
  },
  {
   "cell_type": "markdown",
   "metadata": {},
   "source": [
    "---\n",
    "> S-068: 商品データ（product）の各商品について、消費税率10％の税込み金額を求めよ。1円未満の端数は切り捨てとし、結果を10件表示せよ。ただし、単価（unit_price）には欠損が生じていることに注意せよ。"
   ]
  },
  {
   "cell_type": "code",
   "execution_count": 138,
   "metadata": {},
   "outputs": [
    {
     "name": "stdout",
     "output_type": "stream",
     "text": [
      "*  postgresql://padawan:***@db:5432/dsdojo_db\n",
      "3 rows affected.\n"
     ]
    },
    {
     "data": {
      "text/html": [
       "<table>\n",
       "    <thead>\n",
       "        <tr>\n",
       "            <th>product_cd</th>\n",
       "            <th>unit_price</th>\n",
       "            <th>unit_price_wit_tax</th>\n",
       "        </tr>\n",
       "    </thead>\n",
       "    <tbody>\n",
       "        <tr>\n",
       "            <td>P040101001</td>\n",
       "            <td>198</td>\n",
       "            <td>217</td>\n",
       "        </tr>\n",
       "        <tr>\n",
       "            <td>P040101002</td>\n",
       "            <td>218</td>\n",
       "            <td>239</td>\n",
       "        </tr>\n",
       "        <tr>\n",
       "            <td>P040101003</td>\n",
       "            <td>230</td>\n",
       "            <td>253</td>\n",
       "        </tr>\n",
       "    </tbody>\n",
       "</table>"
      ],
      "text/plain": [
       "[('P040101001', 198, Decimal('217')),\n",
       " ('P040101002', 218, Decimal('239')),\n",
       " ('P040101003', 230, Decimal('253'))]"
      ]
     },
     "execution_count": 138,
     "metadata": {},
     "output_type": "execute_result"
    }
   ],
   "source": [
    "%%sql\n",
    "\n",
    "SELECT\n",
    "    product_cd,\n",
    "    unit_price,\n",
    "    FLOOR(unit_price * 1.1) AS unit_price_wit_tax\n",
    "FROM\n",
    "    product\n",
    "LIMIT\n",
    "    3;\n"
   ]
  },
  {
   "cell_type": "markdown",
   "metadata": {},
   "source": [
    "---\n",
    "> S-069: レシート明細データ（receipt）と商品データ（product）を結合し、顧客毎に全商品の売上金額合計と、カテゴリ大区分コード（category_major_cd）が\"07\"（瓶詰缶詰）の売上金額合計を計算の上、両者の比率を求めよ。抽出対象はカテゴリ大区分コード\"07\"（瓶詰缶詰）の売上実績がある顧客のみとし、結果を10件表示せよ。"
   ]
  },
  {
   "cell_type": "code",
   "execution_count": 143,
   "metadata": {},
   "outputs": [
    {
     "name": "stdout",
     "output_type": "stream",
     "text": [
      "*  postgresql://padawan:***@db:5432/dsdojo_db\n",
      "3 rows affected.\n"
     ]
    },
    {
     "data": {
      "text/html": [
       "<table>\n",
       "    <thead>\n",
       "        <tr>\n",
       "            <th>customer_id</th>\n",
       "            <th>sum_amount_all</th>\n",
       "            <th>sum_amount_07</th>\n",
       "            <th>ratio</th>\n",
       "        </tr>\n",
       "    </thead>\n",
       "    <tbody>\n",
       "        <tr>\n",
       "            <td>CS001311000059</td>\n",
       "            <td>2302</td>\n",
       "            <td>102</td>\n",
       "            <td>0.04430929626411815812</td>\n",
       "        </tr>\n",
       "        <tr>\n",
       "            <td>CS011615000061</td>\n",
       "            <td>246</td>\n",
       "            <td>98</td>\n",
       "            <td>0.39837398373983739837</td>\n",
       "        </tr>\n",
       "        <tr>\n",
       "            <td>CS029212000033</td>\n",
       "            <td>3604</td>\n",
       "            <td>3604</td>\n",
       "            <td>1.00000000000000000000</td>\n",
       "        </tr>\n",
       "    </tbody>\n",
       "</table>"
      ],
      "text/plain": [
       "[('CS001311000059', 2302, 102, Decimal('0.04430929626411815812')),\n",
       " ('CS011615000061', 246, 98, Decimal('0.39837398373983739837')),\n",
       " ('CS029212000033', 3604, 3604, Decimal('1.00000000000000000000'))]"
      ]
     },
     "execution_count": 143,
     "metadata": {},
     "output_type": "execute_result"
    }
   ],
   "source": [
    "%%sql\n",
    "\n",
    "--全商品の売上金額合計をcustomer_idごとに計算\n",
    "--商品07の売上金額合計をcustomer_idごとに計算、07の売上がある顧客だけ計算\n",
    "--夫々の比率を求める\n",
    "\n",
    "WITH sales_amount_all AS (\n",
    "    SELECT\n",
    "        customer_id,\n",
    "        SUM(amount) AS sum_amount_all\n",
    "    FROM\n",
    "        receipt\n",
    "    GROUP BY\n",
    "        customer_id\n",
    "), sales_amount_07 AS (\n",
    "    SELECT\n",
    "        customer_id,\n",
    "        SUM(amount) AS sum_amount_07\n",
    "    FROM\n",
    "        receipt r\n",
    "    INNER JOIN\n",
    "        product p\n",
    "    ON\n",
    "        r.product_cd = p.product_cd\n",
    "    WHERE\n",
    "        p.category_major_cd = '07'\n",
    "    GROUP BY\n",
    "        customer_id\n",
    ")\n",
    "SELECT\n",
    "    sall.customer_id,\n",
    "    sall.sum_amount_all,\n",
    "    s07.sum_amount_07,\n",
    "    s07.sum_amount_07 * 1.0 / sall.sum_amount_all AS ratio\n",
    "FROM\n",
    "    sales_amount_all sall\n",
    "INNER JOIN\n",
    "    sales_amount_07 s07\n",
    "ON\n",
    "    sall.customer_id = s07.customer_id\n",
    "LIMIT\n",
    "    3;"
   ]
  },
  {
   "cell_type": "markdown",
   "metadata": {},
   "source": [
    "---\n",
    "> S-070: レシート明細データ（receipt）の売上日（sales_ymd）に対し、顧客データ（customer）の会員申込日（application_date）からの経過日数を計算し、顧客ID（customer_id）、売上日、会員申込日とともに10件表示せよ（sales_ymdは数値、application_dateは文字列でデータを保持している点に注意）。"
   ]
  },
  {
   "cell_type": "code",
   "execution_count": 151,
   "metadata": {},
   "outputs": [
    {
     "name": "stdout",
     "output_type": "stream",
     "text": [
      "*  postgresql://padawan:***@db:5432/dsdojo_db\n",
      "3 rows affected.\n"
     ]
    },
    {
     "data": {
      "text/html": [
       "<table>\n",
       "    <thead>\n",
       "        <tr>\n",
       "            <th>customer_id</th>\n",
       "            <th>sales_ymd</th>\n",
       "            <th>application_date</th>\n",
       "            <th>elapsed_days</th>\n",
       "        </tr>\n",
       "    </thead>\n",
       "    <tbody>\n",
       "        <tr>\n",
       "            <td>CS006214000001</td>\n",
       "            <td>20181103</td>\n",
       "            <td>20150201</td>\n",
       "            <td>1371</td>\n",
       "        </tr>\n",
       "        <tr>\n",
       "            <td>CS008415000097</td>\n",
       "            <td>20181118</td>\n",
       "            <td>20150322</td>\n",
       "            <td>1337</td>\n",
       "        </tr>\n",
       "        <tr>\n",
       "            <td>CS028414000014</td>\n",
       "            <td>20170712</td>\n",
       "            <td>20150711</td>\n",
       "            <td>732</td>\n",
       "        </tr>\n",
       "    </tbody>\n",
       "</table>"
      ],
      "text/plain": [
       "[('CS006214000001', 20181103, '20150201', Decimal('1371')),\n",
       " ('CS008415000097', 20181118, '20150322', Decimal('1337')),\n",
       " ('CS028414000014', 20170712, '20150711', Decimal('732'))]"
      ]
     },
     "execution_count": 151,
     "metadata": {},
     "output_type": "execute_result"
    }
   ],
   "source": [
    "%%sql\n",
    "\n",
    "SELECT\n",
    "    r.customer_id,\n",
    "    r.sales_ymd,\n",
    "    c.application_date,\n",
    "    EXTRACT(DAY FROM\n",
    "    (TO_TIMESTAMP(CAST(r.sales_ymd AS VARCHAR), 'YYYYMMDD')\n",
    "    - TO_TIMESTAMP(c.application_date, 'YYYYMMDD'))\n",
    "           ) AS elapsed_days\n",
    "FROM\n",
    "    receipt r\n",
    "INNER JOIN\n",
    "    customer c\n",
    "ON\n",
    "    r.customer_id = c.customer_id\n",
    "LIMIT\n",
    "    3;"
   ]
  },
  {
   "cell_type": "markdown",
   "metadata": {},
   "source": [
    "---\n",
    "> S-071: レシート明細データ（receipt）の売上日（sales_ymd）に対し、顧客データ（customer）の会員申込日（application_date）からの経過月数を計算し、顧客ID（customer_id）、売上日、会員申込日とともに10件表示せよ（sales_ymdは数値、application_dateは文字列でデータを保持している点に注意）。1ヶ月未満は切り捨てること。"
   ]
  },
  {
   "cell_type": "code",
   "execution_count": 161,
   "metadata": {},
   "outputs": [
    {
     "name": "stdout",
     "output_type": "stream",
     "text": [
      "*  postgresql://padawan:***@db:5432/dsdojo_db\n",
      "3 rows affected.\n"
     ]
    },
    {
     "data": {
      "text/html": [
       "<table>\n",
       "    <thead>\n",
       "        <tr>\n",
       "            <th>customer_id</th>\n",
       "            <th>sales_ymd</th>\n",
       "            <th>application_date</th>\n",
       "            <th>elapsed</th>\n",
       "            <th>elapsed_month</th>\n",
       "        </tr>\n",
       "    </thead>\n",
       "    <tbody>\n",
       "        <tr>\n",
       "            <td>CS006214000001</td>\n",
       "            <td>20181103</td>\n",
       "            <td>20150201</td>\n",
       "            <td>1367 days, 0:00:00</td>\n",
       "            <td>45</td>\n",
       "        </tr>\n",
       "        <tr>\n",
       "            <td>CS008415000097</td>\n",
       "            <td>20181118</td>\n",
       "            <td>20150322</td>\n",
       "            <td>1332 days, 0:00:00</td>\n",
       "            <td>43</td>\n",
       "        </tr>\n",
       "        <tr>\n",
       "            <td>CS028414000014</td>\n",
       "            <td>20170712</td>\n",
       "            <td>20150711</td>\n",
       "            <td>731 days, 0:00:00</td>\n",
       "            <td>24</td>\n",
       "        </tr>\n",
       "    </tbody>\n",
       "</table>"
      ],
      "text/plain": [
       "[('CS006214000001', 20181103, '20150201', datetime.timedelta(days=1367), Decimal('45')),\n",
       " ('CS008415000097', 20181118, '20150322', datetime.timedelta(days=1332), Decimal('43')),\n",
       " ('CS028414000014', 20170712, '20150711', datetime.timedelta(days=731), Decimal('24'))]"
      ]
     },
     "execution_count": 161,
     "metadata": {},
     "output_type": "execute_result"
    }
   ],
   "source": [
    "%%sql\n",
    "\n",
    "WITH elapsed_age_tbl AS (\n",
    "    SELECT\n",
    "        r.customer_id,\n",
    "        r.sales_ymd,\n",
    "        c.application_date,\n",
    "        AGE(\n",
    "        TO_TIMESTAMP(CAST(r.sales_ymd AS VARCHAR), 'YYYYMMDD'),\n",
    "        TO_TIMESTAMP(c.application_date, 'YYYYMMDD')\n",
    "               ) AS elapsed\n",
    "    FROM\n",
    "        receipt r\n",
    "    INNER JOIN\n",
    "        customer c\n",
    "    ON\n",
    "        r.customer_id = c.customer_id\n",
    ")\n",
    "SELECT\n",
    "    customer_id,\n",
    "    sales_ymd,\n",
    "    application_date,\n",
    "    elapsed,\n",
    "    EXTRACT(YEAR FROM elapsed) * 12\n",
    "    + EXTRACT(MONTH FROM elapsed) AS elapsed_month\n",
    "FROM\n",
    "    elapsed_age_tbl\n",
    "LIMIT\n",
    "    3;\n"
   ]
  },
  {
   "cell_type": "markdown",
   "metadata": {},
   "source": [
    "---\n",
    "> S-072: レシート明細データ（receipt）の売上日（sales_ymd）に対し、顧客データ（customer）の会員申込日（application_date）からの経過年数を計算し、顧客ID（customer_id）、売上日、会員申込日とともに10件表示せよ（sales_ymdは数値、application_dateは文字列でデータを保持している点に注意）。1年未満は切り捨てること。"
   ]
  },
  {
   "cell_type": "code",
   "execution_count": 162,
   "metadata": {},
   "outputs": [
    {
     "name": "stdout",
     "output_type": "stream",
     "text": [
      "*  postgresql://padawan:***@db:5432/dsdojo_db\n",
      "3 rows affected.\n"
     ]
    },
    {
     "data": {
      "text/html": [
       "<table>\n",
       "    <thead>\n",
       "        <tr>\n",
       "            <th>customer_id</th>\n",
       "            <th>sales_ymd</th>\n",
       "            <th>application_date</th>\n",
       "            <th>elapsed</th>\n",
       "            <th>elapsed_year</th>\n",
       "        </tr>\n",
       "    </thead>\n",
       "    <tbody>\n",
       "        <tr>\n",
       "            <td>CS006214000001</td>\n",
       "            <td>20181103</td>\n",
       "            <td>20150201</td>\n",
       "            <td>1367 days, 0:00:00</td>\n",
       "            <td>3</td>\n",
       "        </tr>\n",
       "        <tr>\n",
       "            <td>CS008415000097</td>\n",
       "            <td>20181118</td>\n",
       "            <td>20150322</td>\n",
       "            <td>1332 days, 0:00:00</td>\n",
       "            <td>3</td>\n",
       "        </tr>\n",
       "        <tr>\n",
       "            <td>CS028414000014</td>\n",
       "            <td>20170712</td>\n",
       "            <td>20150711</td>\n",
       "            <td>731 days, 0:00:00</td>\n",
       "            <td>2</td>\n",
       "        </tr>\n",
       "    </tbody>\n",
       "</table>"
      ],
      "text/plain": [
       "[('CS006214000001', 20181103, '20150201', datetime.timedelta(days=1367), Decimal('3')),\n",
       " ('CS008415000097', 20181118, '20150322', datetime.timedelta(days=1332), Decimal('3')),\n",
       " ('CS028414000014', 20170712, '20150711', datetime.timedelta(days=731), Decimal('2'))]"
      ]
     },
     "execution_count": 162,
     "metadata": {},
     "output_type": "execute_result"
    }
   ],
   "source": [
    "%%sql\n",
    "\n",
    "WITH elapsed_age_tbl AS (\n",
    "    SELECT\n",
    "        r.customer_id,\n",
    "        r.sales_ymd,\n",
    "        c.application_date,\n",
    "        AGE(\n",
    "        TO_TIMESTAMP(CAST(r.sales_ymd AS VARCHAR), 'YYYYMMDD'),\n",
    "        TO_TIMESTAMP(c.application_date, 'YYYYMMDD')\n",
    "               ) AS elapsed\n",
    "    FROM\n",
    "        receipt r\n",
    "    INNER JOIN\n",
    "        customer c\n",
    "    ON\n",
    "        r.customer_id = c.customer_id\n",
    ")\n",
    "SELECT\n",
    "    customer_id,\n",
    "    sales_ymd,\n",
    "    application_date,\n",
    "    elapsed,\n",
    "    EXTRACT(YEAR FROM elapsed) AS elapsed_year\n",
    "FROM\n",
    "    elapsed_age_tbl\n",
    "LIMIT\n",
    "    3;\n"
   ]
  },
  {
   "cell_type": "markdown",
   "metadata": {},
   "source": [
    "---\n",
    "> S-073: レシート明細データ（receipt）の売上日（sales_ymd）に対し、顧客データ（customer）の会員申込日（application_date）からのエポック秒による経過時間を計算し、顧客ID（customer_id）、売上日、会員申込日とともに10件表示せよ（なお、sales_ymdは数値、application_dateは文字列でデータを保持している点に注意）。なお、時間情報は保有していないため各日付は0時0分0秒を表すものとする。"
   ]
  },
  {
   "cell_type": "code",
   "execution_count": 174,
   "metadata": {},
   "outputs": [
    {
     "name": "stdout",
     "output_type": "stream",
     "text": [
      "*  postgresql://padawan:***@db:5432/dsdojo_db\n",
      "3 rows affected.\n"
     ]
    },
    {
     "data": {
      "text/html": [
       "<table>\n",
       "    <thead>\n",
       "        <tr>\n",
       "            <th>customer_id</th>\n",
       "            <th>sales_ymd</th>\n",
       "            <th>application_date</th>\n",
       "            <th>elapsed_epoch</th>\n",
       "        </tr>\n",
       "    </thead>\n",
       "    <tbody>\n",
       "        <tr>\n",
       "            <td>CS020414000081</td>\n",
       "            <td>20190429</td>\n",
       "            <td>20150301</td>\n",
       "            <td>131241600.000000</td>\n",
       "        </tr>\n",
       "        <tr>\n",
       "            <td>CS011415000188</td>\n",
       "            <td>20171220</td>\n",
       "            <td>20150506</td>\n",
       "            <td>82468800.000000</td>\n",
       "        </tr>\n",
       "        <tr>\n",
       "            <td>CS014514000054</td>\n",
       "            <td>20180525</td>\n",
       "            <td>20150803</td>\n",
       "            <td>88344000.000000</td>\n",
       "        </tr>\n",
       "    </tbody>\n",
       "</table>"
      ],
      "text/plain": [
       "[('CS020414000081', 20190429, '20150301', Decimal('131241600.000000')),\n",
       " ('CS011415000188', 20171220, '20150506', Decimal('82468800.000000')),\n",
       " ('CS014514000054', 20180525, '20150803', Decimal('88344000.000000'))]"
      ]
     },
     "execution_count": 174,
     "metadata": {},
     "output_type": "execute_result"
    }
   ],
   "source": [
    "%%sql\n",
    "\n",
    "WITH distinct_receipt AS (\n",
    "    SELECT DISTINCT\n",
    "        sales_ymd,\n",
    "        customer_id\n",
    "    FROM\n",
    "        receipt\n",
    ")\n",
    "SELECT\n",
    "    d.customer_id,\n",
    "    d.sales_ymd,\n",
    "    c.application_date,\n",
    "    EXTRACT(epoch FROM\n",
    "    AGE(\n",
    "    TO_TIMESTAMP(CAST(d.sales_ymd AS VARCHAR), 'YYYYMMDD'),\n",
    "    TO_TIMESTAMP(c.application_date, 'YYYYMMDD')\n",
    "    )) AS elapsed_epoch\n",
    "\n",
    "FROM\n",
    "    distinct_receipt d\n",
    "INNER JOIN\n",
    "    customer c\n",
    "ON\n",
    "    d.customer_id = c.customer_id\n",
    "LIMIT\n",
    "    3;\n"
   ]
  },
  {
   "cell_type": "markdown",
   "metadata": {},
   "source": [
    "---\n",
    "> S-074: レシート明細データ（receipt）の売上日（sales_ymd）に対し、当該週の月曜日からの経過日数を計算し、売上日、直前の月曜日付とともに10件表示せよ（sales_ymdは数値でデータを保持している点に注意）。"
   ]
  },
  {
   "cell_type": "code",
   "execution_count": 183,
   "metadata": {},
   "outputs": [
    {
     "name": "stdout",
     "output_type": "stream",
     "text": [
      "*  postgresql://padawan:***@db:5432/dsdojo_db\n",
      "3 rows affected.\n"
     ]
    },
    {
     "data": {
      "text/html": [
       "<table>\n",
       "    <thead>\n",
       "        <tr>\n",
       "            <th>sales_date</th>\n",
       "            <th>elapsed_days</th>\n",
       "            <th>last_monday</th>\n",
       "        </tr>\n",
       "    </thead>\n",
       "    <tbody>\n",
       "        <tr>\n",
       "            <td>2018-11-03</td>\n",
       "            <td>5</td>\n",
       "            <td>2018-10-29</td>\n",
       "        </tr>\n",
       "        <tr>\n",
       "            <td>2018-11-18</td>\n",
       "            <td>6</td>\n",
       "            <td>2018-11-12</td>\n",
       "        </tr>\n",
       "        <tr>\n",
       "            <td>2017-07-12</td>\n",
       "            <td>2</td>\n",
       "            <td>2017-07-10</td>\n",
       "        </tr>\n",
       "    </tbody>\n",
       "</table>"
      ],
      "text/plain": [
       "[(datetime.date(2018, 11, 3), Decimal('5'), datetime.date(2018, 10, 29)),\n",
       " (datetime.date(2018, 11, 18), Decimal('6'), datetime.date(2018, 11, 12)),\n",
       " (datetime.date(2017, 7, 12), Decimal('2'), datetime.date(2017, 7, 10))]"
      ]
     },
     "execution_count": 183,
     "metadata": {},
     "output_type": "execute_result"
    }
   ],
   "source": [
    "%%sql\n",
    "\n",
    "WITH elapsed_tbl AS (\n",
    "    SELECT\n",
    "        TO_DATE(CAST(sales_ymd AS VARCHAR), 'YYYYMMDD') AS sales_date,\n",
    "        EXTRACT(DOW FROM (\n",
    "        TO_DATE(CAST(sales_ymd AS VARCHAR), 'YYYYMMDD') - 1 \n",
    "        )) AS elapsed_days\n",
    "    FROM\n",
    "        receipt\n",
    ")\n",
    "SELECT\n",
    "    sales_date,\n",
    "    elapsed_days,\n",
    "    sales_date - CAST(elapsed_days AS INTEGER) AS last_monday\n",
    "FROM\n",
    "    elapsed_tbl\n",
    "LIMIT\n",
    "    3;\n"
   ]
  },
  {
   "cell_type": "markdown",
   "metadata": {},
   "source": [
    "---\n",
    "> S-075: 顧客データ（customer）からランダムに1%のデータを抽出し、先頭から10件表示せよ。"
   ]
  },
  {
   "cell_type": "code",
   "execution_count": 190,
   "metadata": {},
   "outputs": [
    {
     "name": "stdout",
     "output_type": "stream",
     "text": [
      "*  postgresql://padawan:***@db:5432/dsdojo_db\n",
      "1 rows affected.\n",
      "3 rows affected.\n"
     ]
    },
    {
     "data": {
      "text/html": [
       "<table>\n",
       "    <thead>\n",
       "        <tr>\n",
       "            <th>row</th>\n",
       "            <th>sales_ymd</th>\n",
       "            <th>sales_epoch</th>\n",
       "            <th>store_cd</th>\n",
       "            <th>receipt_no</th>\n",
       "            <th>receipt_sub_no</th>\n",
       "            <th>customer_id</th>\n",
       "            <th>product_cd</th>\n",
       "            <th>quantity</th>\n",
       "            <th>amount</th>\n",
       "        </tr>\n",
       "    </thead>\n",
       "    <tbody>\n",
       "        <tr>\n",
       "            <td>1</td>\n",
       "            <td>20190322</td>\n",
       "            <td>1553212800</td>\n",
       "            <td>S13038</td>\n",
       "            <td>1182</td>\n",
       "            <td>2</td>\n",
       "            <td>CS038515000215</td>\n",
       "            <td>P070310003</td>\n",
       "            <td>1</td>\n",
       "            <td>228</td>\n",
       "        </tr>\n",
       "        <tr>\n",
       "            <td>2</td>\n",
       "            <td>20190330</td>\n",
       "            <td>1553904000</td>\n",
       "            <td>S13016</td>\n",
       "            <td>1102</td>\n",
       "            <td>1</td>\n",
       "            <td>ZZ000000000000</td>\n",
       "            <td>P050701006</td>\n",
       "            <td>1</td>\n",
       "            <td>108</td>\n",
       "        </tr>\n",
       "        <tr>\n",
       "            <td>3</td>\n",
       "            <td>20170828</td>\n",
       "            <td>1503878400</td>\n",
       "            <td>S13005</td>\n",
       "            <td>1102</td>\n",
       "            <td>2</td>\n",
       "            <td>ZZ000000000000</td>\n",
       "            <td>P070506003</td>\n",
       "            <td>1</td>\n",
       "            <td>188</td>\n",
       "        </tr>\n",
       "    </tbody>\n",
       "</table>"
      ],
      "text/plain": [
       "[(1, 20190322, 1553212800, 'S13038', 1182, 2, 'CS038515000215', 'P070310003', 1, 228),\n",
       " (2, 20190330, 1553904000, 'S13016', 1102, 1, 'ZZ000000000000', 'P050701006', 1, 108),\n",
       " (3, 20170828, 1503878400, 'S13005', 1102, 2, 'ZZ000000000000', 'P070506003', 1, 188)]"
      ]
     },
     "execution_count": 190,
     "metadata": {},
     "output_type": "execute_result"
    }
   ],
   "source": [
    "%%sql\n",
    "\n",
    "SELECT SETSEED(0.1);\n",
    "WITH row_tbl AS (\n",
    "    SELECT\n",
    "        ROW_NUMBER() OVER(ORDER BY RANDOM()) AS row,\n",
    "        *\n",
    "    FROM\n",
    "        receipt\n",
    ")\n",
    "SELECT\n",
    "    *\n",
    "FROM\n",
    "    row_tbl\n",
    "WHERE\n",
    "    row <= (\n",
    "        SELECT\n",
    "            COUNT(*)\n",
    "        FROM\n",
    "            receipt\n",
    "    ) * 0.01\n",
    "LIMIT\n",
    "    3\n",
    ";"
   ]
  },
  {
   "cell_type": "markdown",
   "metadata": {},
   "source": [
    "---\n",
    "> S-076: 顧客データ（customer）から性別コード（gender_cd）の割合に基づきランダムに10%のデータを層化抽出し、性別コードごとに件数を集計せよ。"
   ]
  },
  {
   "cell_type": "code",
   "execution_count": 202,
   "metadata": {},
   "outputs": [
    {
     "name": "stdout",
     "output_type": "stream",
     "text": [
      "*  postgresql://padawan:***@db:5432/dsdojo_db\n",
      "1 rows affected.\n",
      "3 rows affected.\n"
     ]
    },
    {
     "data": {
      "text/html": [
       "<table>\n",
       "    <thead>\n",
       "        <tr>\n",
       "            <th>gender_cd</th>\n",
       "            <th>count</th>\n",
       "        </tr>\n",
       "    </thead>\n",
       "    <tbody>\n",
       "        <tr>\n",
       "            <td>9</td>\n",
       "            <td>107</td>\n",
       "        </tr>\n",
       "        <tr>\n",
       "            <td>0</td>\n",
       "            <td>298</td>\n",
       "        </tr>\n",
       "        <tr>\n",
       "            <td>1</td>\n",
       "            <td>1791</td>\n",
       "        </tr>\n",
       "    </tbody>\n",
       "</table>"
      ],
      "text/plain": [
       "[('9', 107), ('0', 298), ('1', 1791)]"
      ]
     },
     "execution_count": 202,
     "metadata": {},
     "output_type": "execute_result"
    }
   ],
   "source": [
    "%%sql\n",
    "\n",
    "SELECT SETSEED(0.1);\n",
    "\n",
    "WITH row_tbl AS (\n",
    "    SELECT\n",
    "        ROW_NUMBER() OVER(PARTITION BY gender_cd ORDER BY RANDOM()) AS row,\n",
    "        COUNT(*) OVER(PARTITION BY gender_cd) AS cnt,\n",
    "        *\n",
    "    FROM\n",
    "        customer\n",
    ")\n",
    "SELECT\n",
    "    gender_cd,\n",
    "    COUNT(*)\n",
    "FROM\n",
    "    row_tbl\n",
    "WHERE\n",
    "    row <= cnt * 0.1\n",
    "GROUP BY\n",
    "    gender_cd\n",
    ";\n",
    "\n"
   ]
  },
  {
   "cell_type": "markdown",
   "metadata": {},
   "source": [
    "---\n",
    "> S-077: レシート明細データ（receipt）の売上金額を顧客単位に合計し、合計した売上金額の外れ値を抽出せよ。なお、外れ値は売上金額合計を対数化したうえで平均と標準偏差を計算し、その平均から3σを超えて離れたものとする（自然対数と常用対数のどちらでも可）。結果は10件表示せよ。"
   ]
  },
  {
   "cell_type": "code",
   "execution_count": 213,
   "metadata": {},
   "outputs": [
    {
     "name": "stdout",
     "output_type": "stream",
     "text": [
      "*  postgresql://padawan:***@db:5432/dsdojo_db\n",
      "1 rows affected.\n"
     ]
    },
    {
     "data": {
      "text/html": [
       "<table>\n",
       "    <thead>\n",
       "        <tr>\n",
       "            <th>customer_id</th>\n",
       "            <th>sum_amount</th>\n",
       "            <th>log_amount</th>\n",
       "            <th>avg_amount</th>\n",
       "        </tr>\n",
       "    </thead>\n",
       "    <tbody>\n",
       "        <tr>\n",
       "            <td>ZZ000000000000</td>\n",
       "            <td>12395003</td>\n",
       "            <td>7.093246653736391</td>\n",
       "            <td>3.1577235163277617</td>\n",
       "        </tr>\n",
       "    </tbody>\n",
       "</table>"
      ],
      "text/plain": [
       "[('ZZ000000000000', 12395003, Decimal('7.093246653736391'), Decimal('3.1577235163277617'))]"
      ]
     },
     "execution_count": 213,
     "metadata": {},
     "output_type": "execute_result"
    }
   ],
   "source": [
    "%%sql\n",
    "\n",
    "WITH sales_amount AS (\n",
    "    SELECT\n",
    "        customer_id,\n",
    "        SUM(amount) AS sum_amount,\n",
    "        LOG(SUM(amount) + 0.5) AS log_amount\n",
    "    FROM\n",
    "        receipt\n",
    "    GROUP BY\n",
    "        customer_id\n",
    "), stats_tbl AS (\n",
    "    SELECT\n",
    "        AVG(log_amount) AS avg_amount,\n",
    "        stddev_POP(log_amount) AS std_amount\n",
    "    FROM\n",
    "        sales_amount\n",
    ")\n",
    "SELECT\n",
    "    sa.customer_id,\n",
    "    sa.sum_amount,\n",
    "    sa.log_amount,\n",
    "    st.avg_amount\n",
    "FROM\n",
    "    sales_amount sa\n",
    "CROSS JOIN\n",
    "    stats_tbl st\n",
    "WHERE\n",
    "    ABS(sa.log_amount - st.avg_amount) > 3 * std_amount\n",
    "LIMIT\n",
    "    3\n",
    ";"
   ]
  },
  {
   "cell_type": "markdown",
   "metadata": {},
   "source": [
    "---\n",
    "> S-078: レシート明細データ（receipt）の売上金額（amount）を顧客単位に合計し、合計した売上金額の外れ値を抽出せよ。ただし、顧客IDが\"Z\"から始まるのものは非会員を表すため、除外して計算すること。なお、ここでは外れ値を第1四分位と第3四分位の差であるIQRを用いて、「第1四分位数-1.5×IQR」を下回るもの、または「第3四分位数+1.5×IQR」を超えるものとする。結果は10件表示せよ。"
   ]
  },
  {
   "cell_type": "code",
   "execution_count": 218,
   "metadata": {},
   "outputs": [
    {
     "name": "stdout",
     "output_type": "stream",
     "text": [
      "*  postgresql://padawan:***@db:5432/dsdojo_db\n",
      "10 rows affected.\n"
     ]
    },
    {
     "data": {
      "text/html": [
       "<table>\n",
       "    <thead>\n",
       "        <tr>\n",
       "            <th>customer_id</th>\n",
       "            <th>sum_amount</th>\n",
       "            <th>sum_amount_25pct</th>\n",
       "            <th>sum_amount_50pct</th>\n",
       "            <th>sum_amount_75pct</th>\n",
       "            <th>sum_amount_100pct</th>\n",
       "        </tr>\n",
       "    </thead>\n",
       "    <tbody>\n",
       "        <tr>\n",
       "            <td>CS013415000226</td>\n",
       "            <td>8362</td>\n",
       "            <td>548.25</td>\n",
       "            <td>1478.0</td>\n",
       "            <td>3649.75</td>\n",
       "            <td>23086.0</td>\n",
       "        </tr>\n",
       "        <tr>\n",
       "            <td>CS011415000041</td>\n",
       "            <td>9454</td>\n",
       "            <td>548.25</td>\n",
       "            <td>1478.0</td>\n",
       "            <td>3649.75</td>\n",
       "            <td>23086.0</td>\n",
       "        </tr>\n",
       "        <tr>\n",
       "            <td>CS014514000004</td>\n",
       "            <td>8872</td>\n",
       "            <td>548.25</td>\n",
       "            <td>1478.0</td>\n",
       "            <td>3649.75</td>\n",
       "            <td>23086.0</td>\n",
       "        </tr>\n",
       "        <tr>\n",
       "            <td>CS021514000008</td>\n",
       "            <td>12839</td>\n",
       "            <td>548.25</td>\n",
       "            <td>1478.0</td>\n",
       "            <td>3649.75</td>\n",
       "            <td>23086.0</td>\n",
       "        </tr>\n",
       "        <tr>\n",
       "            <td>CS014515000007</td>\n",
       "            <td>9763</td>\n",
       "            <td>548.25</td>\n",
       "            <td>1478.0</td>\n",
       "            <td>3649.75</td>\n",
       "            <td>23086.0</td>\n",
       "        </tr>\n",
       "        <tr>\n",
       "            <td>CS040415000220</td>\n",
       "            <td>10158</td>\n",
       "            <td>548.25</td>\n",
       "            <td>1478.0</td>\n",
       "            <td>3649.75</td>\n",
       "            <td>23086.0</td>\n",
       "        </tr>\n",
       "        <tr>\n",
       "            <td>CS028415000161</td>\n",
       "            <td>8465</td>\n",
       "            <td>548.25</td>\n",
       "            <td>1478.0</td>\n",
       "            <td>3649.75</td>\n",
       "            <td>23086.0</td>\n",
       "        </tr>\n",
       "        <tr>\n",
       "            <td>CS034515000173</td>\n",
       "            <td>10074</td>\n",
       "            <td>548.25</td>\n",
       "            <td>1478.0</td>\n",
       "            <td>3649.75</td>\n",
       "            <td>23086.0</td>\n",
       "        </tr>\n",
       "        <tr>\n",
       "            <td>CS022515000065</td>\n",
       "            <td>12903</td>\n",
       "            <td>548.25</td>\n",
       "            <td>1478.0</td>\n",
       "            <td>3649.75</td>\n",
       "            <td>23086.0</td>\n",
       "        </tr>\n",
       "        <tr>\n",
       "            <td>CS007514000094</td>\n",
       "            <td>15735</td>\n",
       "            <td>548.25</td>\n",
       "            <td>1478.0</td>\n",
       "            <td>3649.75</td>\n",
       "            <td>23086.0</td>\n",
       "        </tr>\n",
       "    </tbody>\n",
       "</table>"
      ],
      "text/plain": [
       "[('CS013415000226', 8362, 548.25, 1478.0, 3649.75, 23086.0),\n",
       " ('CS011415000041', 9454, 548.25, 1478.0, 3649.75, 23086.0),\n",
       " ('CS014514000004', 8872, 548.25, 1478.0, 3649.75, 23086.0),\n",
       " ('CS021514000008', 12839, 548.25, 1478.0, 3649.75, 23086.0),\n",
       " ('CS014515000007', 9763, 548.25, 1478.0, 3649.75, 23086.0),\n",
       " ('CS040415000220', 10158, 548.25, 1478.0, 3649.75, 23086.0),\n",
       " ('CS028415000161', 8465, 548.25, 1478.0, 3649.75, 23086.0),\n",
       " ('CS034515000173', 10074, 548.25, 1478.0, 3649.75, 23086.0),\n",
       " ('CS022515000065', 12903, 548.25, 1478.0, 3649.75, 23086.0),\n",
       " ('CS007514000094', 15735, 548.25, 1478.0, 3649.75, 23086.0)]"
      ]
     },
     "execution_count": 218,
     "metadata": {},
     "output_type": "execute_result"
    }
   ],
   "source": [
    "%%sql\n",
    "\n",
    "--集計、非会員を除外\n",
    "--統計値集計\n",
    "--外れ値検出\n",
    "\n",
    "WITH sales_amount AS (\n",
    "    SELECT\n",
    "        customer_id,\n",
    "        SUM(amount) AS sum_amount\n",
    "    FROM\n",
    "        receipt\n",
    "    WHERE\n",
    "        customer_id NOT LIKE 'Z%'\n",
    "    GROUP BY\n",
    "        customer_id\n",
    "), stats_tbl AS (\n",
    "    SELECT\n",
    "        PERCENTILE_CONT(0.25) WITHIN GROUP(ORDER BY sum_amount) AS sum_amount_25pct,\n",
    "        PERCENTILE_CONT(0.5) WITHIN GROUP(ORDER BY sum_amount) AS sum_amount_50pct,\n",
    "        PERCENTILE_CONT(0.75) WITHIN GROUP(ORDER BY sum_amount) AS sum_amount_75pct,\n",
    "        PERCENTILE_CONT(1.0) WITHIN GROUP(ORDER BY sum_amount) AS sum_amount_100pct\n",
    "    FROM\n",
    "        sales_amount\n",
    ")\n",
    "SELECT\n",
    "    sa.customer_id,\n",
    "    sa.sum_amount,\n",
    "    st.sum_amount_25pct,\n",
    "    st.sum_amount_50pct,\n",
    "    st.sum_amount_75pct,\n",
    "    st.sum_amount_100pct\n",
    "FROM\n",
    "    sales_amount sa\n",
    "CROSS JOIN\n",
    "    stats_tbl st\n",
    "WHERE\n",
    "    sa.sum_amount < st.sum_amount_25pct - 1.5 * (st.sum_amount_75pct - st.sum_amount_25pct)\n",
    "    OR st.sum_amount_75pct + 1.5 * (st.sum_amount_75pct - st.sum_amount_25pct) < sa.sum_amount\n",
    "\n",
    "LIMIT\n",
    "    10;"
   ]
  },
  {
   "cell_type": "markdown",
   "metadata": {},
   "source": [
    "---\n",
    "> S-079: 商品データ（product）の各項目に対し、欠損数を確認せよ。"
   ]
  },
  {
   "cell_type": "code",
   "execution_count": 222,
   "metadata": {},
   "outputs": [
    {
     "name": "stdout",
     "output_type": "stream",
     "text": [
      "*  postgresql://padawan:***@db:5432/dsdojo_db\n",
      "1 rows affected.\n"
     ]
    },
    {
     "data": {
      "text/html": [
       "<table>\n",
       "    <thead>\n",
       "        <tr>\n",
       "            <th>product_cd</th>\n",
       "            <th>category_major_cd</th>\n",
       "            <th>category_medium_cd</th>\n",
       "            <th>category_small_cd</th>\n",
       "            <th>unit_price</th>\n",
       "            <th>unit_cost</th>\n",
       "        </tr>\n",
       "    </thead>\n",
       "    <tbody>\n",
       "        <tr>\n",
       "            <td>0</td>\n",
       "            <td>0</td>\n",
       "            <td>0</td>\n",
       "            <td>0</td>\n",
       "            <td>7</td>\n",
       "            <td>7</td>\n",
       "        </tr>\n",
       "    </tbody>\n",
       "</table>"
      ],
      "text/plain": [
       "[(0, 0, 0, 0, 7, 7)]"
      ]
     },
     "execution_count": 222,
     "metadata": {},
     "output_type": "execute_result"
    }
   ],
   "source": [
    "%%sql\n",
    "\n",
    "SELECT\n",
    "    SUM(CASE WHEN product_cd IS NULL THEN 1 ELSE 0 END) AS product_cd,\n",
    "    SUM(CASE WHEN category_major_cd IS NULL THEN 1 ELSE 0 END) AS category_major_cd,\n",
    "    SUM(CASE WHEN category_medium_cd IS NULL THEN 1 ELSE 0 END) AS category_medium_cd,\n",
    "    SUM(CASE WHEN category_small_cd IS NULL THEN 1 ELSE 0 END) AS category_small_cd,\n",
    "    SUM(CASE WHEN unit_price IS NULL THEN 1 ELSE 0 END) AS unit_price,\n",
    "    SUM(CASE WHEN unit_cost IS NULL THEN 1 ELSE 0 END) AS unit_cost\n",
    "FROM\n",
    "    product\n",
    ";\n"
   ]
  },
  {
   "cell_type": "markdown",
   "metadata": {},
   "source": [
    "---\n",
    "> S-080: 商品データ（product）のいずれかの項目に欠損が発生しているレコードを全て削除した新たな商品データを作成せよ。なお、削除前後の件数を表示させ、079で確認した件数だけ減少していることも確認すること。"
   ]
  },
  {
   "cell_type": "code",
   "execution_count": 230,
   "metadata": {},
   "outputs": [
    {
     "name": "stdout",
     "output_type": "stream",
     "text": [
      "*  postgresql://padawan:***@db:5432/dsdojo_db\n",
      "Done.\n",
      "10023 rows affected.\n"
     ]
    },
    {
     "data": {
      "text/plain": [
       "[]"
      ]
     },
     "execution_count": 230,
     "metadata": {},
     "output_type": "execute_result"
    }
   ],
   "source": [
    "%%sql\n",
    "\n",
    "DROP TABLE IF EXISTS product_1;\n",
    "\n",
    "CREATE TABLE product_1 AS (\n",
    "    SELECT\n",
    "        *\n",
    "    FROM\n",
    "        product\n",
    "    WHERE\n",
    "        unit_price IS NOT NULL\n",
    "        OR unit_cost IS NOT NULL\n",
    ");\n"
   ]
  },
  {
   "cell_type": "code",
   "execution_count": 231,
   "metadata": {},
   "outputs": [
    {
     "name": "stdout",
     "output_type": "stream",
     "text": [
      "*  postgresql://padawan:***@db:5432/dsdojo_db\n",
      "1 rows affected.\n"
     ]
    },
    {
     "data": {
      "text/html": [
       "<table>\n",
       "    <thead>\n",
       "        <tr>\n",
       "            <th>?column?</th>\n",
       "            <th>count</th>\n",
       "        </tr>\n",
       "    </thead>\n",
       "    <tbody>\n",
       "        <tr>\n",
       "            <td>削除前</td>\n",
       "            <td>10030</td>\n",
       "        </tr>\n",
       "    </tbody>\n",
       "</table>"
      ],
      "text/plain": [
       "[('削除前', 10030)]"
      ]
     },
     "execution_count": 231,
     "metadata": {},
     "output_type": "execute_result"
    }
   ],
   "source": [
    "%%sql\n",
    "\n",
    "SELECT\n",
    "    '削除前',\n",
    "    COUNT(*)\n",
    "FROM\n",
    "    product\n",
    ";"
   ]
  },
  {
   "cell_type": "code",
   "execution_count": 232,
   "metadata": {},
   "outputs": [
    {
     "name": "stdout",
     "output_type": "stream",
     "text": [
      "*  postgresql://padawan:***@db:5432/dsdojo_db\n",
      "1 rows affected.\n"
     ]
    },
    {
     "data": {
      "text/html": [
       "<table>\n",
       "    <thead>\n",
       "        <tr>\n",
       "            <th>?column?</th>\n",
       "            <th>count</th>\n",
       "        </tr>\n",
       "    </thead>\n",
       "    <tbody>\n",
       "        <tr>\n",
       "            <td>削除前</td>\n",
       "            <td>10023</td>\n",
       "        </tr>\n",
       "    </tbody>\n",
       "</table>"
      ],
      "text/plain": [
       "[('削除前', 10023)]"
      ]
     },
     "execution_count": 232,
     "metadata": {},
     "output_type": "execute_result"
    }
   ],
   "source": [
    "%%sql\n",
    "\n",
    "SELECT\n",
    "    '削除前',\n",
    "    COUNT(*)\n",
    "FROM\n",
    "    product_1\n",
    ";\n",
    "\n",
    "-- 61問目-80問目：1時間44分28秒（2回目のチャレンジ）"
   ]
  },
  {
   "cell_type": "markdown",
   "metadata": {},
   "source": [
    "---\n",
    "> S-081: 単価（unit_price）と原価（unit_cost）の欠損値について、それぞれの平均値で補完した新たな商品データを作成せよ。なお、平均値については1円未満を丸めること（四捨五入または偶数への丸めで良い）。補完実施後、各項目について欠損が生じていないことも確認すること。"
   ]
  },
  {
   "cell_type": "code",
   "execution_count": 145,
   "metadata": {},
   "outputs": [
    {
     "name": "stdout",
     "output_type": "stream",
     "text": [
      "*  postgresql://padawan:***@db:5432/dsdojo_db\n",
      "Done.\n",
      "10030 rows affected.\n"
     ]
    },
    {
     "data": {
      "text/plain": [
       "[]"
      ]
     },
     "execution_count": 145,
     "metadata": {},
     "output_type": "execute_result"
    }
   ],
   "source": [
    "%%sql\n",
    "\n",
    "DROP TABLE IF EXISTS product_2;\n",
    "\n",
    "CREATE TABLE product_2 AS (\n",
    "    SELECT\n",
    "        product_cd,\n",
    "        category_major_cd,\n",
    "        category_medium_cd,\n",
    "        category_small_cd,\n",
    "        COALESCE(unit_price, unit_avg_price) AS unit_price,\n",
    "        COALESCE(unit_cost, unit_avg_cost) AS unit_cost\n",
    "    FROM\n",
    "        product\n",
    "    CROSS JOIN (\n",
    "        SELECT\n",
    "            ROUND(AVG(unit_price)) AS unit_avg_price,\n",
    "            ROUND(AVG(unit_cost)) AS unit_avg_cost\n",
    "        FROM\n",
    "            product\n",
    "    ) stats_tbl\n",
    ");\n"
   ]
  },
  {
   "cell_type": "code",
   "execution_count": 146,
   "metadata": {},
   "outputs": [
    {
     "name": "stdout",
     "output_type": "stream",
     "text": [
      "*  postgresql://padawan:***@db:5432/dsdojo_db\n",
      "1 rows affected.\n"
     ]
    },
    {
     "data": {
      "text/html": [
       "<table>\n",
       "    <thead>\n",
       "        <tr>\n",
       "            <th>unit_price</th>\n",
       "            <th>unit_cost</th>\n",
       "        </tr>\n",
       "    </thead>\n",
       "    <tbody>\n",
       "        <tr>\n",
       "            <td>0</td>\n",
       "            <td>0</td>\n",
       "        </tr>\n",
       "    </tbody>\n",
       "</table>"
      ],
      "text/plain": [
       "[(0, 0)]"
      ]
     },
     "execution_count": 146,
     "metadata": {},
     "output_type": "execute_result"
    }
   ],
   "source": [
    "%%sql\n",
    "\n",
    "SELECT\n",
    "    SUM(CASE WHEN unit_price IS NULL THEN 1 ELSE 0 END) AS unit_price,\n",
    "    SUM(CASE WHEN unit_cost IS NULL THEN 1 ELSE 0 END) AS unit_cost\n",
    "FROM\n",
    "    product_2"
   ]
  },
  {
   "cell_type": "markdown",
   "metadata": {},
   "source": [
    "---\n",
    "> S-082: 単価（unit_price）と原価（unit_cost）の欠損値について、それぞれの中央値で補完した新たな商品データを作成せよ。なお、中央値については1円未満を丸めること（四捨五入または偶数への丸めで良い）。補完実施後、各項目について欠損が生じていないことも確認すること。"
   ]
  },
  {
   "cell_type": "code",
   "execution_count": 148,
   "metadata": {},
   "outputs": [
    {
     "name": "stdout",
     "output_type": "stream",
     "text": [
      "*  postgresql://padawan:***@db:5432/dsdojo_db\n",
      "Done.\n",
      "10030 rows affected.\n"
     ]
    },
    {
     "data": {
      "text/plain": [
       "[]"
      ]
     },
     "execution_count": 148,
     "metadata": {},
     "output_type": "execute_result"
    }
   ],
   "source": [
    "%%sql\n",
    "\n",
    "DROP TABLE IF EXISTS product_3;\n",
    "\n",
    "CREATE TABLE product_3 AS (\n",
    "    SELECT\n",
    "        product_cd,\n",
    "        category_major_cd,\n",
    "        category_medium_cd,\n",
    "        category_small_cd,\n",
    "        COALESCE(unit_price, unit_med_price) AS unit_price,\n",
    "        COALESCE(unit_cost, unit_med_cost) AS unit_cost\n",
    "    FROM\n",
    "        product\n",
    "    CROSS JOIN (\n",
    "        SELECT\n",
    "            ROUND(PERCENTILE_CONT(0.5) WITHIN GROUP(ORDER BY unit_price)) AS unit_med_price,\n",
    "            ROUND(PERCENTILE_CONT(0.5) WITHIN GROUP(ORDER BY unit_cost)) AS unit_med_cost\n",
    "        FROM\n",
    "            product\n",
    "    ) AS stats_tbl\n",
    ");"
   ]
  },
  {
   "cell_type": "code",
   "execution_count": 152,
   "metadata": {},
   "outputs": [
    {
     "name": "stdout",
     "output_type": "stream",
     "text": [
      "*  postgresql://padawan:***@db:5432/dsdojo_db\n",
      "1 rows affected.\n"
     ]
    },
    {
     "data": {
      "text/html": [
       "<table>\n",
       "    <thead>\n",
       "        <tr>\n",
       "            <th>unit_price</th>\n",
       "            <th>unit_cost</th>\n",
       "        </tr>\n",
       "    </thead>\n",
       "    <tbody>\n",
       "        <tr>\n",
       "            <td>0</td>\n",
       "            <td>0</td>\n",
       "        </tr>\n",
       "    </tbody>\n",
       "</table>"
      ],
      "text/plain": [
       "[(0, 0)]"
      ]
     },
     "execution_count": 152,
     "metadata": {},
     "output_type": "execute_result"
    }
   ],
   "source": [
    "%%sql\n",
    "\n",
    "SELECT\n",
    "    SUM(CASE WHEN unit_price IS NULL THEN 1 ELSE 0 END) AS unit_price,\n",
    "    SUM(CASE WHEN unit_cost IS NULL THEN 1 ELSE 0 END) AS unit_cost\n",
    "FROM\n",
    "    product_3\n",
    ";"
   ]
  },
  {
   "cell_type": "markdown",
   "metadata": {},
   "source": [
    "---\n",
    "> S-083: 単価（unit_price）と原価（unit_cost）の欠損値について、各商品のカテゴリ小区分コード（category_small_cd）ごとに算出した中央値で補完した新たな商品データを作成せよ。なお、中央値については1円未満を丸めること（四捨五入または偶数への丸めで良い）。補完実施後、各項目について欠損が生じていないことも確認すること。"
   ]
  },
  {
   "cell_type": "code",
   "execution_count": 155,
   "metadata": {},
   "outputs": [
    {
     "name": "stdout",
     "output_type": "stream",
     "text": [
      "*  postgresql://padawan:***@db:5432/dsdojo_db\n",
      "Done.\n",
      "10030 rows affected.\n"
     ]
    },
    {
     "data": {
      "text/plain": [
       "[]"
      ]
     },
     "execution_count": 155,
     "metadata": {},
     "output_type": "execute_result"
    }
   ],
   "source": [
    "%%sql\n",
    "\n",
    "DROP TABLE IF EXISTS product_4;\n",
    "\n",
    "CREATE TABLE product_4 AS (\n",
    "    WITH stats_med_tbl AS (\n",
    "        SELECT\n",
    "            category_small_cd,\n",
    "            ROUND(\n",
    "            PERCENTILE_CONT(0.5) WITHIN GROUP (ORDER BY unit_price)\n",
    "            ) AS unit_med_price,\n",
    "            ROUND(\n",
    "            PERCENTILE_CONT(0.5) WITHIN GROUP (ORDER BY unit_cost)\n",
    "            ) AS unit_med_cost\n",
    "        FROM\n",
    "            product\n",
    "        GROUP BY\n",
    "            category_small_cd            \n",
    "    )    \n",
    "    SELECT\n",
    "        p.product_cd,\n",
    "        p.category_major_cd,\n",
    "        p.category_medium_cd,\n",
    "        p.category_small_cd,\n",
    "        COALESCE(p.unit_price, s.unit_med_price) AS unit_price,\n",
    "        COALESCE(p.unit_cost, s.unit_med_cost) AS unit_cost\n",
    "    FROM\n",
    "        product p\n",
    "    INNER JOIN \n",
    "        stats_med_tbl s\n",
    "    ON\n",
    "        p.category_small_cd = s.category_small_cd\n",
    ");"
   ]
  },
  {
   "cell_type": "code",
   "execution_count": 156,
   "metadata": {},
   "outputs": [
    {
     "name": "stdout",
     "output_type": "stream",
     "text": [
      "*  postgresql://padawan:***@db:5432/dsdojo_db\n",
      "1 rows affected.\n"
     ]
    },
    {
     "data": {
      "text/html": [
       "<table>\n",
       "    <thead>\n",
       "        <tr>\n",
       "            <th>unit_price</th>\n",
       "            <th>unit_cost</th>\n",
       "        </tr>\n",
       "    </thead>\n",
       "    <tbody>\n",
       "        <tr>\n",
       "            <td>0</td>\n",
       "            <td>0</td>\n",
       "        </tr>\n",
       "    </tbody>\n",
       "</table>"
      ],
      "text/plain": [
       "[(0, 0)]"
      ]
     },
     "execution_count": 156,
     "metadata": {},
     "output_type": "execute_result"
    }
   ],
   "source": [
    "%%sql\n",
    "\n",
    "SELECT\n",
    "    SUM(CASE WHEN unit_price IS NULL THEN 1 ELSE 0 END) AS unit_price,\n",
    "    SUM(CASE WHEN unit_cost IS NULL THEN 1 ELSE 0 END) AS unit_cost\n",
    "FROM\n",
    "    product_4"
   ]
  },
  {
   "cell_type": "markdown",
   "metadata": {},
   "source": [
    "---\n",
    "> S-084: 顧客データ（customer）の全顧客に対して全期間の売上金額に占める2019年売上金額の割合を計算し、新たなデータを作成せよ。ただし、売上実績がない場合は0として扱うこと。そして計算した割合が0超のものを抽出し、結果を10件表示せよ。また、作成したデータに欠損が存在しないことを確認せよ。"
   ]
  },
  {
   "cell_type": "code",
   "execution_count": 160,
   "metadata": {},
   "outputs": [
    {
     "name": "stdout",
     "output_type": "stream",
     "text": [
      "*  postgresql://padawan:***@db:5432/dsdojo_db\n",
      "Done.\n",
      "21971 rows affected.\n"
     ]
    },
    {
     "data": {
      "text/plain": [
       "[]"
      ]
     },
     "execution_count": 160,
     "metadata": {},
     "output_type": "execute_result"
    }
   ],
   "source": [
    "%%sql\n",
    "\n",
    "DROP TABLE IF EXISTS product_5;\n",
    "\n",
    "CREATE TABLE product_5 AS (\n",
    "    WITH sales_amount_2019 AS (\n",
    "        SELECT\n",
    "            customer_id,\n",
    "            SUM(amount) AS sum_amount_2019\n",
    "        FROM\n",
    "            receipt\n",
    "        WHERE\n",
    "            sales_ymd BETWEEN 20190101 AND 20191231\n",
    "        GROUP BY\n",
    "            customer_id\n",
    "    ), sales_amount_all AS (\n",
    "        SELECT\n",
    "            customer_id,\n",
    "            SUM(amount) AS sum_amount_all\n",
    "        FROM\n",
    "            receipt\n",
    "        GROUP BY\n",
    "            customer_id\n",
    "    )\n",
    "    SELECT\n",
    "        c.customer_id,\n",
    "        COALESCE(sa2019.sum_amount_2019, 0) AS sales_amount_2019,\n",
    "        COALESCE(saall.sum_amount_all, 0) AS sales_amount_all,\n",
    "        CASE COALESCE(saall.sum_amount_all, 0)\n",
    "            WHEN 0 THEN 0\n",
    "            ELSE COALESCE(sa2019.sum_amount_2019, 0) * 1.0 / saall.sum_amount_all \n",
    "        END AS sales_rate\n",
    "    FROM\n",
    "        customer c\n",
    "    LEFT JOIN\n",
    "        sales_amount_2019 sa2019\n",
    "    ON\n",
    "        c.customer_id = sa2019.customer_id\n",
    "    LEFT JOIN\n",
    "        sales_amount_all saall\n",
    "    ON\n",
    "        c.customer_id = saall.customer_id    \n",
    ")"
   ]
  },
  {
   "cell_type": "code",
   "execution_count": 161,
   "metadata": {},
   "outputs": [
    {
     "name": "stdout",
     "output_type": "stream",
     "text": [
      "*  postgresql://padawan:***@db:5432/dsdojo_db\n",
      "5 rows affected.\n"
     ]
    },
    {
     "data": {
      "text/html": [
       "<table>\n",
       "    <thead>\n",
       "        <tr>\n",
       "            <th>customer_id</th>\n",
       "            <th>sales_amount_2019</th>\n",
       "            <th>sales_amount_all</th>\n",
       "            <th>sales_rate</th>\n",
       "        </tr>\n",
       "    </thead>\n",
       "    <tbody>\n",
       "        <tr>\n",
       "            <td>CS031415000172</td>\n",
       "            <td>2971</td>\n",
       "            <td>5088</td>\n",
       "            <td>0.58392295597484276730</td>\n",
       "        </tr>\n",
       "        <tr>\n",
       "            <td>CS015414000103</td>\n",
       "            <td>874</td>\n",
       "            <td>3122</td>\n",
       "            <td>0.27994875080076873799</td>\n",
       "        </tr>\n",
       "        <tr>\n",
       "            <td>CS011215000048</td>\n",
       "            <td>248</td>\n",
       "            <td>3444</td>\n",
       "            <td>0.07200929152148664344</td>\n",
       "        </tr>\n",
       "        <tr>\n",
       "            <td>CS029415000023</td>\n",
       "            <td>3767</td>\n",
       "            <td>5167</td>\n",
       "            <td>0.72904973872653377201</td>\n",
       "        </tr>\n",
       "        <tr>\n",
       "            <td>CS035415000029</td>\n",
       "            <td>5823</td>\n",
       "            <td>7504</td>\n",
       "            <td>0.77598614072494669510</td>\n",
       "        </tr>\n",
       "    </tbody>\n",
       "</table>"
      ],
      "text/plain": [
       "[('CS031415000172', 2971, 5088, Decimal('0.58392295597484276730')),\n",
       " ('CS015414000103', 874, 3122, Decimal('0.27994875080076873799')),\n",
       " ('CS011215000048', 248, 3444, Decimal('0.07200929152148664344')),\n",
       " ('CS029415000023', 3767, 5167, Decimal('0.72904973872653377201')),\n",
       " ('CS035415000029', 5823, 7504, Decimal('0.77598614072494669510'))]"
      ]
     },
     "execution_count": 161,
     "metadata": {},
     "output_type": "execute_result"
    }
   ],
   "source": [
    "%%sql\n",
    "\n",
    "SELECT\n",
    "    *\n",
    "FROM\n",
    "    product_5\n",
    "WHERE\n",
    "    sales_rate > 0\n",
    "LIMIT\n",
    "    5\n",
    ";"
   ]
  },
  {
   "cell_type": "code",
   "execution_count": 163,
   "metadata": {},
   "outputs": [
    {
     "name": "stdout",
     "output_type": "stream",
     "text": [
      "*  postgresql://padawan:***@db:5432/dsdojo_db\n",
      "1 rows affected.\n"
     ]
    },
    {
     "data": {
      "text/html": [
       "<table>\n",
       "    <thead>\n",
       "        <tr>\n",
       "            <th>customer_id</th>\n",
       "            <th>sales_amount_2019</th>\n",
       "            <th>sales_amount_all</th>\n",
       "            <th>sales_rate</th>\n",
       "        </tr>\n",
       "    </thead>\n",
       "    <tbody>\n",
       "        <tr>\n",
       "            <td>0</td>\n",
       "            <td>0</td>\n",
       "            <td>0</td>\n",
       "            <td>0</td>\n",
       "        </tr>\n",
       "    </tbody>\n",
       "</table>"
      ],
      "text/plain": [
       "[(0, 0, 0, 0)]"
      ]
     },
     "execution_count": 163,
     "metadata": {},
     "output_type": "execute_result"
    }
   ],
   "source": [
    "%%sql\n",
    "\n",
    "SELECT\n",
    "    SUM(CASE WHEN customer_id IS NULL THEN 1 ELSE 0 END) AS customer_id,\n",
    "    SUM(CASE WHEN sales_amount_2019 IS NULL THEN 1 ELSE 0 END) AS sales_amount_2019,\n",
    "    SUM(CASE WHEN sales_amount_all IS NULL THEN 1 ELSE 0 END) AS sales_amount_all,\n",
    "    SUM(CASE WHEN sales_rate IS NULL THEN 1 ELSE 0 END) AS sales_rate    \n",
    "FROM\n",
    "    product_5\n",
    ";"
   ]
  },
  {
   "cell_type": "markdown",
   "metadata": {},
   "source": [
    "---\n",
    "> S-085: 顧客データ（customer）の全顧客に対し、郵便番号（postal_cd）を用いてジオコードデータ（geocode）を紐付け、新たな顧客データを作成せよ。ただし、1つの郵便番号（postal_cd）に複数の経度（longitude）、緯度（latitude）情報が紐づく場合は、経度（longitude）、緯度（latitude）の平均値を算出して使用すること。また、作成結果を確認するために結果を10件表示せよ。"
   ]
  },
  {
   "cell_type": "code",
   "execution_count": 179,
   "metadata": {},
   "outputs": [
    {
     "name": "stdout",
     "output_type": "stream",
     "text": [
      "*  postgresql://padawan:***@db:5432/dsdojo_db\n",
      "Done.\n",
      "21971 rows affected.\n"
     ]
    },
    {
     "data": {
      "text/plain": [
       "[]"
      ]
     },
     "execution_count": 179,
     "metadata": {},
     "output_type": "execute_result"
    }
   ],
   "source": [
    "%%sql\n",
    "\n",
    "\n",
    "DROP TABLE IF EXISTS customer_1;\n",
    "\n",
    "CREATE TABLE customer_1 AS (\n",
    "    WITH geoclde_avg AS (\n",
    "        SELECT\n",
    "            postal_cd,\n",
    "            AVG(longitude) AS avg_longitude,\n",
    "            AVG(latitude) AS avg_latitude\n",
    "        FROM\n",
    "            geocode\n",
    "        GROUP BY\n",
    "            postal_cd\n",
    "    )\n",
    "    SELECT\n",
    "        c.*,\n",
    "        g.avg_longitude,\n",
    "        g.avg_latitude\n",
    "    FROM\n",
    "        customer c\n",
    "    INNER JOIN\n",
    "        geoclde_avg g\n",
    "    ON\n",
    "        c.postal_cd = g.postal_cd\n",
    ")"
   ]
  },
  {
   "cell_type": "code",
   "execution_count": 181,
   "metadata": {},
   "outputs": [
    {
     "name": "stdout",
     "output_type": "stream",
     "text": [
      "*  postgresql://padawan:***@db:5432/dsdojo_db\n",
      "3 rows affected.\n"
     ]
    },
    {
     "data": {
      "text/html": [
       "<table>\n",
       "    <thead>\n",
       "        <tr>\n",
       "            <th>customer_id</th>\n",
       "            <th>customer_name</th>\n",
       "            <th>gender_cd</th>\n",
       "            <th>gender</th>\n",
       "            <th>birth_day</th>\n",
       "            <th>age</th>\n",
       "            <th>postal_cd</th>\n",
       "            <th>address</th>\n",
       "            <th>application_store_cd</th>\n",
       "            <th>application_date</th>\n",
       "            <th>status_cd</th>\n",
       "            <th>avg_longitude</th>\n",
       "            <th>avg_latitude</th>\n",
       "        </tr>\n",
       "    </thead>\n",
       "    <tbody>\n",
       "        <tr>\n",
       "            <td>CS021313000114</td>\n",
       "            <td>大野 あや子</td>\n",
       "            <td>1</td>\n",
       "            <td>女性</td>\n",
       "            <td>1981-04-29</td>\n",
       "            <td>37</td>\n",
       "            <td>259-1113</td>\n",
       "            <td>神奈川県伊勢原市粟窪**********</td>\n",
       "            <td>S14021</td>\n",
       "            <td>20150905</td>\n",
       "            <td>0-00000000-0</td>\n",
       "            <td>139.3177900000000000</td>\n",
       "            <td>35.4135800000000000</td>\n",
       "        </tr>\n",
       "        <tr>\n",
       "            <td>CS037613000071</td>\n",
       "            <td>六角 雅彦</td>\n",
       "            <td>9</td>\n",
       "            <td>不明</td>\n",
       "            <td>1952-04-01</td>\n",
       "            <td>66</td>\n",
       "            <td>136-0076</td>\n",
       "            <td>東京都江東区南砂**********</td>\n",
       "            <td>S13037</td>\n",
       "            <td>20150414</td>\n",
       "            <td>0-00000000-0</td>\n",
       "            <td>139.8350200000000000</td>\n",
       "            <td>35.6719300000000000</td>\n",
       "        </tr>\n",
       "        <tr>\n",
       "            <td>CS031415000172</td>\n",
       "            <td>宇多田 貴美子</td>\n",
       "            <td>1</td>\n",
       "            <td>女性</td>\n",
       "            <td>1976-10-04</td>\n",
       "            <td>42</td>\n",
       "            <td>151-0053</td>\n",
       "            <td>東京都渋谷区代々木**********</td>\n",
       "            <td>S13031</td>\n",
       "            <td>20150529</td>\n",
       "            <td>D-20100325-C</td>\n",
       "            <td>139.6896500000000000</td>\n",
       "            <td>35.6737400000000000</td>\n",
       "        </tr>\n",
       "    </tbody>\n",
       "</table>"
      ],
      "text/plain": [
       "[('CS021313000114', '大野 あや子', '1', '女性', datetime.date(1981, 4, 29), 37, '259-1113', '神奈川県伊勢原市粟窪**********', 'S14021', '20150905', '0-00000000-0', Decimal('139.3177900000000000'), Decimal('35.4135800000000000')),\n",
       " ('CS037613000071', '六角 雅彦', '9', '不明', datetime.date(1952, 4, 1), 66, '136-0076', '東京都江東区南砂**********', 'S13037', '20150414', '0-00000000-0', Decimal('139.8350200000000000'), Decimal('35.6719300000000000')),\n",
       " ('CS031415000172', '宇多田 貴美子', '1', '女性', datetime.date(1976, 10, 4), 42, '151-0053', '東京都渋谷区代々木**********', 'S13031', '20150529', 'D-20100325-C', Decimal('139.6896500000000000'), Decimal('35.6737400000000000'))]"
      ]
     },
     "execution_count": 181,
     "metadata": {},
     "output_type": "execute_result"
    }
   ],
   "source": [
    "%%sql\n",
    "\n",
    "SELECT * FROM customer_1 LIMIT 3;"
   ]
  },
  {
   "cell_type": "markdown",
   "metadata": {},
   "source": [
    "---\n",
    "> S-086: 085で作成した緯度経度つき顧客データに対し、会員申込店舗コード（application_store_cd）をキーに店舗データ（store）と結合せよ。そして申込み店舗の緯度（latitude）・経度情報（longitude)と顧客住所（address）の緯度・経度を用いて申込み店舗と顧客住所の距離（単位：km）を求め、顧客ID（customer_id）、顧客住所（address）、店舗住所（address）とともに表示せよ。計算式は以下の簡易式で良いものとするが、その他精度の高い方式を利用したライブラリを利用してもかまわない。結果は10件表示せよ。\n",
    "\n",
    "$$\n",
    "\\mbox{緯度（ラジアン）}：\\phi \\\\\n",
    "\\mbox{経度（ラジアン）}：\\lambda \\\\\n",
    "\\mbox{距離}L = 6371 * \\arccos(\\sin \\phi_1 * \\sin \\phi_2\n",
    "+ \\cos \\phi_1 * \\cos \\phi_2 * \\cos(\\lambda_1 − \\lambda_2))\n",
    "$$"
   ]
  },
  {
   "cell_type": "code",
   "execution_count": 182,
   "metadata": {},
   "outputs": [
    {
     "name": "stdout",
     "output_type": "stream",
     "text": [
      "*  postgresql://padawan:***@db:5432/dsdojo_db\n"
     ]
    }
   ],
   "source": [
    "%%sql\n",
    "\n"
   ]
  },
  {
   "cell_type": "markdown",
   "metadata": {},
   "source": [
    "---\n",
    "> S-087: 顧客データ（customer）では、異なる店舗での申込みなどにより同一顧客が複数登録されている。名前（customer_name）と郵便番号（postal_cd）が同じ顧客は同一顧客とみなして1顧客1レコードとなるように名寄せした名寄顧客データを作成し、顧客データの件数、名寄顧客データの件数、重複数を算出せよ。ただし、同一顧客に対しては売上金額合計が最も高いものを残し、売上金額合計が同一もしくは売上実績がない顧客については顧客ID（customer_id）の番号が小さいものを残すこととする。"
   ]
  },
  {
   "cell_type": "code",
   "execution_count": 3,
   "metadata": {},
   "outputs": [
    {
     "name": "stdout",
     "output_type": "stream",
     "text": [
      "*  postgresql://padawan:***@db:5432/dsdojo_db\n",
      "Done.\n",
      "21941 rows affected.\n"
     ]
    },
    {
     "data": {
      "text/plain": [
       "[]"
      ]
     },
     "execution_count": 3,
     "metadata": {},
     "output_type": "execute_result"
    }
   ],
   "source": [
    "%%sql\n",
    "\n",
    "DROP TABLE IF EXISTS customer_u;\n",
    "\n",
    "CREATE TABLE customer_u AS (\n",
    "    WITH sales_amount AS (\n",
    "        SELECT\n",
    "            c.customer_id,\n",
    "            c.customer_name,\n",
    "            c.postal_cd,\n",
    "            COALESCE(SUM(r.amount),0) AS sum_amount\n",
    "        FROM\n",
    "            customer c\n",
    "        LEFT JOIN\n",
    "            receipt r\n",
    "        ON c.customer_id = r.customer_id\n",
    "        GROUP BY\n",
    "            c.customer_id, c.customer_name, c.postal_cd \n",
    "    ), sales_ranking AS (\n",
    "        SELECT\n",
    "            *,\n",
    "            ROW_NUMBER() OVER(\n",
    "                PARTITION BY customer_name, postal_cd\n",
    "                ORDER BY sum_amount DESC, customer_id) AS ranking\n",
    "        FROM\n",
    "            sales_amount\n",
    "    )\n",
    "    SELECT\n",
    "        c.*\n",
    "    FROM\n",
    "        customer c\n",
    "    INNER JOIN\n",
    "        sales_ranking r\n",
    "    ON\n",
    "        c.customer_id = r.customer_id\n",
    "        AND r.ranking = 1\n",
    ");\n",
    "    "
   ]
  },
  {
   "cell_type": "code",
   "execution_count": 5,
   "metadata": {},
   "outputs": [
    {
     "name": "stdout",
     "output_type": "stream",
     "text": [
      "*  postgresql://padawan:***@db:5432/dsdojo_db\n",
      "1 rows affected.\n"
     ]
    },
    {
     "data": {
      "text/html": [
       "<table>\n",
       "    <thead>\n",
       "        <tr>\n",
       "            <th>customer_cnt</th>\n",
       "            <th>customer_u_cnt</th>\n",
       "            <th>diff</th>\n",
       "        </tr>\n",
       "    </thead>\n",
       "    <tbody>\n",
       "        <tr>\n",
       "            <td>21971</td>\n",
       "            <td>21941</td>\n",
       "            <td>30</td>\n",
       "        </tr>\n",
       "    </tbody>\n",
       "</table>"
      ],
      "text/plain": [
       "[(21971, 21941, 30)]"
      ]
     },
     "execution_count": 5,
     "metadata": {},
     "output_type": "execute_result"
    }
   ],
   "source": [
    "%%sql\n",
    "\n",
    "SELECT\n",
    "    customer_cnt,\n",
    "    customer_u_cnt,\n",
    "    customer_cnt - customer_u_cnt AS diff\n",
    "FROM (\n",
    "    SELECT\n",
    "        COUNT(*) AS customer_cnt\n",
    "    FROM\n",
    "        customer\n",
    ") customer\n",
    "CROSS JOIN (\n",
    "    SELECT\n",
    "        COUNT(*) AS customer_u_cnt\n",
    "    FROM\n",
    "        customer_u\n",
    ") customer_u\n",
    ";"
   ]
  },
  {
   "cell_type": "markdown",
   "metadata": {},
   "source": [
    "---\n",
    "> S-088: 087で作成したデータを元に、顧客データに統合名寄IDを付与したデータを作成せよ。ただし、統合名寄IDは以下の仕様で付与するものとする。\n",
    ">\n",
    "> - 重複していない顧客：顧客ID（customer_id）を設定\n",
    "> - 重複している顧客：前設問で抽出したレコードの顧客IDを設定\n",
    "> \n",
    "> 顧客IDのユニーク件数と、統合名寄IDのユニーク件数の差も確認すること。"
   ]
  },
  {
   "cell_type": "code",
   "execution_count": 10,
   "metadata": {},
   "outputs": [
    {
     "name": "stdout",
     "output_type": "stream",
     "text": [
      "*  postgresql://padawan:***@db:5432/dsdojo_db\n",
      "Done.\n",
      "21971 rows affected.\n"
     ]
    },
    {
     "data": {
      "text/plain": [
       "[]"
      ]
     },
     "execution_count": 10,
     "metadata": {},
     "output_type": "execute_result"
    }
   ],
   "source": [
    "%%sql\n",
    "\n",
    "DROP TABLE IF EXISTS customer_n;\n",
    "\n",
    "CREATE TABLE customer_n AS (\n",
    "    SELECT\n",
    "        c.*,\n",
    "        u.customer_id AS integration_id\n",
    "    FROM\n",
    "        customer c\n",
    "    INNER JOIN\n",
    "        customer_u u\n",
    "    ON c.customer_name = u.customer_name\n",
    "        AND c.postal_cd = u.postal_cd\n",
    ")"
   ]
  },
  {
   "cell_type": "markdown",
   "metadata": {},
   "source": [
    "---\n",
    "> S-089: 売上実績がある顧客を、予測モデル構築のため学習用データとテスト用データに分割したい。それぞれ8:2の割合でランダムにデータを分割せよ。"
   ]
  },
  {
   "cell_type": "code",
   "execution_count": 16,
   "metadata": {},
   "outputs": [
    {
     "name": "stdout",
     "output_type": "stream",
     "text": [
      "*  postgresql://padawan:***@db:5432/dsdojo_db\n",
      "1 rows affected.\n",
      "Done.\n",
      "Done.\n",
      "6644 rows affected.\n",
      "Done.\n",
      "1662 rows affected.\n"
     ]
    },
    {
     "data": {
      "text/plain": [
       "[]"
      ]
     },
     "execution_count": 16,
     "metadata": {},
     "output_type": "execute_result"
    }
   ],
   "source": [
    "%%sql\n",
    "\n",
    "SELECT SETSEED(0.1);\n",
    "\n",
    "CREATE TEMP TABLE IF NOT EXISTS sales_customer AS (\n",
    "    SELECT\n",
    "        c.customer_id,\n",
    "        ROW_NUMBER() OVER(ORDER BY RANDOM()) AS row\n",
    "    FROM\n",
    "        customer c\n",
    "    INNER JOIN\n",
    "        receipt r\n",
    "    ON\n",
    "        c.customer_id = r.customer_id\n",
    "    GROUP BY\n",
    "        c.customer_id\n",
    "    HAVING\n",
    "        SUM(amount) > 0\n",
    ");\n",
    "\n",
    "DROP TABLE IF EXISTS customer_train;\n",
    "\n",
    "CREATE TABLE customer_train AS (\n",
    "    SELECT\n",
    "        c.*\n",
    "    FROM\n",
    "        sales_customer s\n",
    "    INNER JOIN\n",
    "        customer c\n",
    "    ON\n",
    "        s.customer_id = c.customer_id\n",
    "    WHERE\n",
    "        s.row <= (\n",
    "            SELECT\n",
    "                COUNT(*)\n",
    "            FROM\n",
    "                sales_customer\n",
    "        ) * 0.8\n",
    ");\n",
    "\n",
    "DROP TABLE IF EXISTS customer_test;\n",
    "\n",
    "CREATE TABLE customer_test AS (\n",
    "    SELECT\n",
    "        c.*\n",
    "    FROM\n",
    "        sales_customer s\n",
    "    INNER JOIN\n",
    "        customer c\n",
    "    ON\n",
    "        s.customer_id = c.customer_id\n",
    "    EXCEPT\n",
    "        SELECT\n",
    "            *\n",
    "        FROM\n",
    "            customer_train\n",
    ");\n",
    "\n",
    "\n",
    "\n"
   ]
  },
  {
   "cell_type": "code",
   "execution_count": 21,
   "metadata": {},
   "outputs": [
    {
     "name": "stdout",
     "output_type": "stream",
     "text": [
      "*  postgresql://padawan:***@db:5432/dsdojo_db\n",
      "1 rows affected.\n"
     ]
    },
    {
     "data": {
      "text/html": [
       "<table>\n",
       "    <thead>\n",
       "        <tr>\n",
       "            <th>ratio_of_train_data</th>\n",
       "            <th>ratio_of_test_data</th>\n",
       "        </tr>\n",
       "    </thead>\n",
       "    <tbody>\n",
       "        <tr>\n",
       "            <td>0.79990368408379484710</td>\n",
       "            <td>0.20009631591620515290</td>\n",
       "        </tr>\n",
       "    </tbody>\n",
       "</table>"
      ],
      "text/plain": [
       "[(Decimal('0.79990368408379484710'), Decimal('0.20009631591620515290'))]"
      ]
     },
     "execution_count": 21,
     "metadata": {},
     "output_type": "execute_result"
    }
   ],
   "source": [
    "%%sql\n",
    "\n",
    "SELECT\n",
    "    train_cnt * 1.0 / all_cnt AS ratio_of_train_data,\n",
    "    test_cnt * 1.0 / all_cnt AS ratio_of_test_data\n",
    "FROM\n",
    "    (SELECT COUNT(*) AS all_cnt FROM sales_customer) all_data\n",
    "CROSS JOIN\n",
    "    (SELECT COUNT(*) AS train_cnt FROM customer_train) train_data\n",
    "CROSS JOIN\n",
    "    (SELECT COUNT(*) AS test_cnt FROM customer_test) test_data\n",
    ";"
   ]
  },
  {
   "cell_type": "markdown",
   "metadata": {},
   "source": [
    "---\n",
    "> S-090: レシート明細データ（receipt）は2017年1月1日〜2019年10月31日までのデータを有している。売上金額（amount）を月次で集計し、学習用に12ヶ月、テスト用に6ヶ月の時系列モデル構築用データを3セット作成せよ。"
   ]
  },
  {
   "cell_type": "code",
   "execution_count": null,
   "metadata": {},
   "outputs": [],
   "source": [
    "%%sql\n",
    "\n"
   ]
  },
  {
   "cell_type": "markdown",
   "metadata": {},
   "source": [
    "---\n",
    "> S-091: 顧客データ（customer）の各顧客に対し、売上実績がある顧客数と売上実績がない顧客数が1:1となるようにアンダーサンプリングで抽出せよ。"
   ]
  },
  {
   "cell_type": "code",
   "execution_count": null,
   "metadata": {},
   "outputs": [],
   "source": [
    "%%sql\n"
   ]
  },
  {
   "cell_type": "markdown",
   "metadata": {},
   "source": [
    "---\n",
    "> S-092: 顧客データ（customer）の性別について、第三正規形へと正規化せよ。"
   ]
  },
  {
   "cell_type": "code",
   "execution_count": null,
   "metadata": {},
   "outputs": [],
   "source": [
    "%%sql\n"
   ]
  },
  {
   "cell_type": "markdown",
   "metadata": {},
   "source": [
    "---\n",
    "> S-093: 商品データ（product）では各カテゴリのコード値だけを保有し、カテゴリ名は保有していない。カテゴリデータ（category）と組み合わせて非正規化し、カテゴリ名を保有した新たな商品データを作成せよ。"
   ]
  },
  {
   "cell_type": "code",
   "execution_count": null,
   "metadata": {},
   "outputs": [],
   "source": [
    "%%sql\n"
   ]
  },
  {
   "cell_type": "markdown",
   "metadata": {},
   "source": [
    "---\n",
    "> S-094: 093で作成したカテゴリ名付き商品データを以下の仕様でファイル出力せよ。\n",
    "> \n",
    "> |ファイル形式|ヘッダ有無|文字エンコーディング|\n",
    "> |:--:|:--:|:--:|\n",
    "> |CSV（カンマ区切り）|有り|UTF-8|\n",
    "> \n",
    "> ファイル出力先のパスは以下のようにすること（COPYコマンドの権限は付与済み）。\n",
    "> \n",
    "> |出力先|\n",
    "> |:--:|\n",
    "> |/tmp/data|\n",
    "> \n",
    "> ※\"/tmp/data\"を指定することでJupyterの\"/work/data\"と共有されるようになっている。"
   ]
  },
  {
   "cell_type": "code",
   "execution_count": null,
   "metadata": {},
   "outputs": [],
   "source": [
    "%%sql\n",
    "\n",
    "COPY product_full TO '/tmp/data/S_product_full_UTF_8_header.csv'\n",
    "WITH CSV HEADER ENCODING 'UTF-8';"
   ]
  },
  {
   "cell_type": "markdown",
   "metadata": {},
   "source": [
    "---\n",
    "> S-095: 093で作成したカテゴリ名付き商品データを以下の仕様でファイル出力せよ。\n",
    "> \n",
    "> |ファイル形式|ヘッダ有無|文字エンコーディング|\n",
    "> |:--:|:--:|:--:|\n",
    "> |CSV（カンマ区切り）|有り|CP932|\n",
    "> \n",
    "> PostgreSQLではShift_JISを指定することでCP932相当となる。ファイル出力先のパスは以下のようにすること（COPYコマンドの権限は付与済み）。\n",
    "> \n",
    "> |出力先|\n",
    "> |:--:|\n",
    "> |/tmp/data|\n",
    "> \n",
    "> ※\"/tmp/data\"を指定することでJupyterの\"/work/data\"と共有されるようになっている。"
   ]
  },
  {
   "cell_type": "code",
   "execution_count": null,
   "metadata": {},
   "outputs": [],
   "source": [
    "%%sql\n",
    "\n",
    "COPY product_full TO 'tmp/data/S_product_full_SJIS_header.csv'\n",
    "WITH CSV HEADER ENCODING 'SJIS';"
   ]
  },
  {
   "cell_type": "markdown",
   "metadata": {},
   "source": [
    "---\n",
    "> S-096: 093で作成したカテゴリ名付き商品データを以下の仕様でファイル出力せよ。\n",
    "> \n",
    "> |ファイル形式|ヘッダ有無|文字エンコーディング|\n",
    "> |:--:|:--:|:--:|\n",
    "> |CSV（カンマ区切り）|無し|UTF-8|\n",
    "> \n",
    "> ファイル出力先のパスは以下のようにすること（COPYコマンドの権限は付与済み）。\n",
    "> \n",
    "> |出力先|\n",
    "> |:--:|\n",
    "> |/tmp/data|\n",
    "> \n",
    "> ※\"/tmp/data\"を指定することでJupyterの\"/work/data\"と共有されるようになっている。"
   ]
  },
  {
   "cell_type": "code",
   "execution_count": null,
   "metadata": {},
   "outputs": [],
   "source": [
    "%%sql\n",
    "\n",
    "COPY product_full TO '/tmp/data/S_product_full_UTF-8_noh.csv'\n",
    "WITH CSV ENCODING 'UTF-8'"
   ]
  },
  {
   "cell_type": "markdown",
   "metadata": {},
   "source": [
    "---\n",
    "> S-097: 094で作成した以下形式のファイルを読み込み、データを3件を表示させて正しく取り込まれていることを確認せよ。\n",
    "> \n",
    "> |ファイル形式|ヘッダ有無|文字エンコーディング|\n",
    "> |:--:|:--:|:--:|\n",
    "> |CSV（カンマ区切り）|有り|UTF-8|"
   ]
  },
  {
   "cell_type": "code",
   "execution_count": null,
   "metadata": {},
   "outputs": [],
   "source": [
    "%%sql\n"
   ]
  },
  {
   "cell_type": "markdown",
   "metadata": {},
   "source": [
    "---\n",
    "> S-098: 096で作成した以下形式のファイルを読み込み、データを3件を表示させて正しく取り込まれていることを確認せよ。\n",
    "> \n",
    "> |ファイル形式|ヘッダ有無|文字エンコーディング|\n",
    "> |:--:|:--:|:--:|\n",
    "> |CSV（カンマ区切り）|ヘッダ無し|UTF-8|"
   ]
  },
  {
   "cell_type": "code",
   "execution_count": null,
   "metadata": {},
   "outputs": [],
   "source": [
    "%%sql\n"
   ]
  },
  {
   "cell_type": "markdown",
   "metadata": {},
   "source": [
    "---\n",
    "> S-099: 093で作成したカテゴリ名付き商品データを以下の仕様でファイル出力せよ。\n",
    "> \n",
    "> |ファイル形式|ヘッダ有無|文字エンコーディング|\n",
    "> |:--:|:--:|:--:|\n",
    "> |TSV（タブ区切り）|有り|UTF-8|\n",
    "> \n",
    "> ファイル出力先のパスは以下のようにすること（COPYコマンドの権限は付与済み）。\n",
    "> \n",
    "> |出力先|\n",
    "> |:--:|\n",
    "> |/tmp/data|\n",
    "> \n",
    "> ※\"/tmp/data\"を指定することでJupyterの\"/work/data\"と共有されるようになっている。\n"
   ]
  },
  {
   "cell_type": "code",
   "execution_count": null,
   "metadata": {},
   "outputs": [],
   "source": [
    "%%sql\n"
   ]
  },
  {
   "cell_type": "markdown",
   "metadata": {},
   "source": [
    "---\n",
    "> S-100: 099で作成した以下形式のファイルを読み込み、データを3件を表示させて正しく取り込まれていることを確認せよ。\n",
    "> \n",
    "> |ファイル形式|ヘッダ有無|文字エンコーディング|\n",
    "> |:--:|:--:|:--:|\n",
    "> |TSV（タブ区切り）|有り|UTF-8|"
   ]
  },
  {
   "cell_type": "code",
   "execution_count": null,
   "metadata": {},
   "outputs": [],
   "source": [
    "%%sql\n"
   ]
  },
  {
   "cell_type": "markdown",
   "metadata": {},
   "source": [
    "# これで１００本終わりです。おつかれさまでした！"
   ]
  }
 ],
 "metadata": {
  "kernelspec": {
   "display_name": "Python 3 (ipykernel)",
   "language": "python",
   "name": "python3"
  },
  "language_info": {
   "codemirror_mode": {
    "name": "ipython",
    "version": 3
   },
   "file_extension": ".py",
   "mimetype": "text/x-python",
   "name": "python",
   "nbconvert_exporter": "python",
   "pygments_lexer": "ipython3",
   "version": "3.11.5"
  }
 },
 "nbformat": 4,
 "nbformat_minor": 4
}
